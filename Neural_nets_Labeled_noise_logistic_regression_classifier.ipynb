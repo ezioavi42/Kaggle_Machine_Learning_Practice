{
 "cells": [
  {
   "cell_type": "code",
   "execution_count": 1,
   "metadata": {
    "collapsed": true
   },
   "outputs": [],
   "source": [
    "import numpy as np\n",
    "import pandas as pd\n",
    "import matplotlib.pyplot as plt\n",
    "%matplotlib inline"
   ]
  },
  {
   "cell_type": "code",
   "execution_count": 53,
   "metadata": {
    "collapsed": true
   },
   "outputs": [],
   "source": [
    "data=pd.read_csv('pima.csv',delimiter=',',header=-1)"
   ]
  },
  {
   "cell_type": "code",
   "execution_count": 54,
   "metadata": {},
   "outputs": [
    {
     "data": {
      "text/html": [
       "<div>\n",
       "<style>\n",
       "    .dataframe thead tr:only-child th {\n",
       "        text-align: right;\n",
       "    }\n",
       "\n",
       "    .dataframe thead th {\n",
       "        text-align: left;\n",
       "    }\n",
       "\n",
       "    .dataframe tbody tr th {\n",
       "        vertical-align: top;\n",
       "    }\n",
       "</style>\n",
       "<table border=\"1\" class=\"dataframe\">\n",
       "  <thead>\n",
       "    <tr style=\"text-align: right;\">\n",
       "      <th></th>\n",
       "      <th>0</th>\n",
       "      <th>1</th>\n",
       "      <th>2</th>\n",
       "      <th>3</th>\n",
       "      <th>4</th>\n",
       "      <th>5</th>\n",
       "      <th>6</th>\n",
       "      <th>7</th>\n",
       "      <th>8</th>\n",
       "    </tr>\n",
       "  </thead>\n",
       "  <tbody>\n",
       "    <tr>\n",
       "      <th>0</th>\n",
       "      <td>0.63953</td>\n",
       "      <td>0.84777</td>\n",
       "      <td>0.14954</td>\n",
       "      <td>0.90668</td>\n",
       "      <td>-0.69244</td>\n",
       "      <td>0.20388</td>\n",
       "      <td>0.46819</td>\n",
       "      <td>1.425100</td>\n",
       "      <td>2</td>\n",
       "    </tr>\n",
       "    <tr>\n",
       "      <th>1</th>\n",
       "      <td>-0.84433</td>\n",
       "      <td>-1.12270</td>\n",
       "      <td>-0.16044</td>\n",
       "      <td>0.53056</td>\n",
       "      <td>-0.69244</td>\n",
       "      <td>-0.68398</td>\n",
       "      <td>-0.36482</td>\n",
       "      <td>-0.190550</td>\n",
       "      <td>1</td>\n",
       "    </tr>\n",
       "    <tr>\n",
       "      <th>2</th>\n",
       "      <td>1.23310</td>\n",
       "      <td>1.94250</td>\n",
       "      <td>-0.26377</td>\n",
       "      <td>-1.28740</td>\n",
       "      <td>-0.69244</td>\n",
       "      <td>-1.10250</td>\n",
       "      <td>0.60400</td>\n",
       "      <td>-0.105520</td>\n",
       "      <td>2</td>\n",
       "    </tr>\n",
       "    <tr>\n",
       "      <th>3</th>\n",
       "      <td>-0.84433</td>\n",
       "      <td>-0.99756</td>\n",
       "      <td>-0.16044</td>\n",
       "      <td>0.15443</td>\n",
       "      <td>0.12322</td>\n",
       "      <td>-0.49372</td>\n",
       "      <td>-0.92016</td>\n",
       "      <td>-1.040900</td>\n",
       "      <td>1</td>\n",
       "    </tr>\n",
       "    <tr>\n",
       "      <th>4</th>\n",
       "      <td>-1.14110</td>\n",
       "      <td>0.50373</td>\n",
       "      <td>-1.50370</td>\n",
       "      <td>0.90668</td>\n",
       "      <td>0.76534</td>\n",
       "      <td>1.40880</td>\n",
       "      <td>5.48130</td>\n",
       "      <td>-0.020483</td>\n",
       "      <td>2</td>\n",
       "    </tr>\n",
       "  </tbody>\n",
       "</table>\n",
       "</div>"
      ],
      "text/plain": [
       "         0        1        2        3        4        5        6         7  8\n",
       "0  0.63953  0.84777  0.14954  0.90668 -0.69244  0.20388  0.46819  1.425100  2\n",
       "1 -0.84433 -1.12270 -0.16044  0.53056 -0.69244 -0.68398 -0.36482 -0.190550  1\n",
       "2  1.23310  1.94250 -0.26377 -1.28740 -0.69244 -1.10250  0.60400 -0.105520  2\n",
       "3 -0.84433 -0.99756 -0.16044  0.15443  0.12322 -0.49372 -0.92016 -1.040900  1\n",
       "4 -1.14110  0.50373 -1.50370  0.90668  0.76534  1.40880  5.48130 -0.020483  2"
      ]
     },
     "execution_count": 54,
     "metadata": {},
     "output_type": "execute_result"
    }
   ],
   "source": [
    "data.head()"
   ]
  },
  {
   "cell_type": "code",
   "execution_count": 5,
   "metadata": {
    "collapsed": true
   },
   "outputs": [],
   "source": [
    "#data.drop(['id','Unnamed: 32'],axis=1,inplace=True)"
   ]
  },
  {
   "cell_type": "code",
   "execution_count": 4,
   "metadata": {
    "collapsed": true
   },
   "outputs": [],
   "source": [
    "#data.head()"
   ]
  },
  {
   "cell_type": "code",
   "execution_count": 55,
   "metadata": {},
   "outputs": [
    {
     "data": {
      "text/plain": [
       "1    500\n",
       "2    268\n",
       "Name: 8, dtype: int64"
      ]
     },
     "execution_count": 55,
     "metadata": {},
     "output_type": "execute_result"
    }
   ],
   "source": [
    "data[8].value_counts()"
   ]
  },
  {
   "cell_type": "code",
   "execution_count": 56,
   "metadata": {},
   "outputs": [
    {
     "name": "stdout",
     "output_type": "stream",
     "text": [
      "<class 'pandas.core.frame.DataFrame'>\n",
      "RangeIndex: 768 entries, 0 to 767\n",
      "Data columns (total 9 columns):\n",
      "0    768 non-null float64\n",
      "1    768 non-null float64\n",
      "2    768 non-null float64\n",
      "3    768 non-null float64\n",
      "4    768 non-null float64\n",
      "5    768 non-null float64\n",
      "6    768 non-null float64\n",
      "7    768 non-null float64\n",
      "8    768 non-null int64\n",
      "dtypes: float64(8), int64(1)\n",
      "memory usage: 54.1 KB\n"
     ]
    }
   ],
   "source": [
    "data.info()"
   ]
  },
  {
   "cell_type": "code",
   "execution_count": 57,
   "metadata": {},
   "outputs": [
    {
     "data": {
      "text/plain": [
       "Int64Index([0, 1, 2, 3, 4, 5, 6, 7, 8], dtype='int64')"
      ]
     },
     "execution_count": 57,
     "metadata": {},
     "output_type": "execute_result"
    }
   ],
   "source": [
    "data.columns"
   ]
  },
  {
   "cell_type": "code",
   "execution_count": 9,
   "metadata": {
    "collapsed": true
   },
   "outputs": [],
   "source": [
    "#data=data[['diagnosis', 'radius_mean', 'texture_mean', 'perimeter_mean',\n",
    "#       'area_mean', 'smoothness_mean', 'compactness_mean', 'concavity_mean',\n",
    "#       'concave points_mean', 'symmetry_mean', 'fractal_dimension_mean']]"
   ]
  },
  {
   "cell_type": "code",
   "execution_count": null,
   "metadata": {
    "collapsed": true
   },
   "outputs": [],
   "source": [
    "#from sklearn.ensemble import RandomForestClassifier"
   ]
  },
  {
   "cell_type": "code",
   "execution_count": 93,
   "metadata": {
    "collapsed": true
   },
   "outputs": [],
   "source": [
    "#data_noised=data"
   ]
  },
  {
   "cell_type": "code",
   "execution_count": 94,
   "metadata": {},
   "outputs": [
    {
     "data": {
      "text/plain": [
       "(569, 11)"
      ]
     },
     "execution_count": 94,
     "metadata": {},
     "output_type": "execute_result"
    }
   ],
   "source": [
    "#data_noised.shape"
   ]
  },
  {
   "cell_type": "code",
   "execution_count": 95,
   "metadata": {
    "collapsed": true
   },
   "outputs": [],
   "source": [
    "#indices=np.random.randint(0,len(data),size=[160,1])"
   ]
  },
  {
   "cell_type": "code",
   "execution_count": 96,
   "metadata": {
    "collapsed": true
   },
   "outputs": [],
   "source": [
    "#x=data_noised['diagnosis']"
   ]
  },
  {
   "cell_type": "code",
   "execution_count": 97,
   "metadata": {
    "collapsed": true
   },
   "outputs": [],
   "source": [
    "#x=x.tolist()"
   ]
  },
  {
   "cell_type": "code",
   "execution_count": 98,
   "metadata": {
    "collapsed": true
   },
   "outputs": [],
   "source": [
    "#x[i]"
   ]
  },
  {
   "cell_type": "code",
   "execution_count": 99,
   "metadata": {
    "collapsed": true
   },
   "outputs": [],
   "source": [
    "# introducing random noise\n",
    "#for i in range(len(indices)):\n",
    "#    if x[i]=='M':\n",
    "#        x[i]='B'\n",
    "#    elif x[i]=='B' :\n",
    "#        x[i]='M'"
   ]
  },
  {
   "cell_type": "code",
   "execution_count": 100,
   "metadata": {
    "collapsed": true
   },
   "outputs": [],
   "source": [
    "#data_noised['diagnosis']=x"
   ]
  },
  {
   "cell_type": "code",
   "execution_count": 101,
   "metadata": {},
   "outputs": [
    {
     "data": {
      "text/plain": [
       "B    365\n",
       "M    204\n",
       "Name: diagnosis, dtype: int64"
      ]
     },
     "execution_count": 101,
     "metadata": {},
     "output_type": "execute_result"
    }
   ],
   "source": [
    "#data_noised['diagnosis'].value_counts()"
   ]
  },
  {
   "cell_type": "code",
   "execution_count": 9,
   "metadata": {
    "collapsed": true
   },
   "outputs": [],
   "source": [
    "def sigmoid(z):\n",
    "    \"\"\"\n",
    "    Compute the sigmoid of z\n",
    "\n",
    "    Arguments:\n",
    "    z -- A scalar or numpy array of any size.\n",
    "\n",
    "    Return:\n",
    "    s -- sigmoid(z)\n",
    "    \"\"\"\n",
    "\n",
    "    s = 1/(1+np.exp(-z))\n",
    "\n",
    "\n",
    "    return s\n"
   ]
  },
  {
   "cell_type": "code",
   "execution_count": 106,
   "metadata": {
    "collapsed": true
   },
   "outputs": [],
   "source": [
    "#gamma=np.random.random((2,2))*0.01"
   ]
  },
  {
   "cell_type": "code",
   "execution_count": 11,
   "metadata": {
    "collapsed": true
   },
   "outputs": [],
   "source": [
    "#def initialize_with_zeros(dim):\n",
    "    \"\"\"\n",
    "    This function creates a vector of zeros of shape (dim, 1) for w and initializes b to 0.\n",
    "    \n",
    "    Argument:\n",
    "    dim -- size of the w vector we want (or number of parameters in this case)\n",
    "    \n",
    "    Returns:\n",
    "    w -- initialized vector of shape (dim, 1)\n",
    "    b -- initialized scalar (corresponds to the bias)\n",
    "    \"\"\"\n",
    "    \n",
    "    ### START CODE HERE ###\n",
    "#    w = np.zeros((dim,1))\n",
    "#    b = 0\n",
    "#    gamma=np.random.random((2,2))*0.01\n",
    "    ### END CODE HERE ###\n",
    "\n",
    "#    assert(w.shape == (dim, 1))\n",
    "#    assert(isinstance(b, float) or isinstance(b, int))\n",
    "    \n",
    "#    return w, b,gamma"
   ]
  },
  {
   "cell_type": "code",
   "execution_count": null,
   "metadata": {
    "collapsed": true
   },
   "outputs": [],
   "source": [
    "def propagate(w, b, X, Y):\n",
    "    \"\"\"\n",
    "    Implement the cost function and its gradient for the propagation explained above\n",
    "\n",
    "    Arguments:\n",
    "    w -- weights, a numpy array of size (num_px * num_px * 3, 1)\n",
    "    b -- bias, a scalar\n",
    "    X -- data of size (num_px * num_px * 3, number of examples)\n",
    "    Y -- true \"label\" vector (containing 0 if non-cat, 1 if cat) of size (1, number of examples)\n",
    "\n",
    "    Return:\n",
    "    cost -- negative log-likelihood cost for logistic regression\n",
    "    dw -- gradient of the loss with respect to w, thus same shape as w\n",
    "    db -- gradient of the loss with respect to b, thus same shape as b\n",
    "    \n",
    "    Tips:\n",
    "    - Write your code step by step for the propagation. np.log(), np.dot()\n",
    "    \"\"\"\n",
    "    \"\"\"\n",
    "    m = X.shape[1]\n",
    "    \n",
    "    # FORWARD PROPAGATION (FROM X TO COST)\n",
    "    ### START CODE HERE ### (≈ 2 lines of code)\n",
    "    A = sigmoid((np.dot(w.T,X)+b))\n",
    "    # compute activation\n",
    "    SN1=gamma[0,1]*(1-A)+gamma[1,1]*(A)\n",
    "    SN0=gamma[0,0]*(1-A)+gamma[1,0]*A)\n",
    "    cost = (-1/m)*np.sum(Y*np.log(SN1)+(1-Y)*np.log(SN0)   \n",
    "    # computed which is based on the flipping probabilities cost\n",
    "    ### END CODE HERE ###\n",
    "    \n",
    "    # BACKWARD PROPAGATION (TO FIND GRAD)\n",
    "    ### START CODE HERE ### (≈ 2 lines of code)\n",
    "    #dw = (1/m)*np.dot(X,(A-Y).T)\n",
    "    dw=\n",
    "    db = (1/m)*np.sum(A-Y)\n",
    "    ### END CODE HERE ###\n",
    "\n",
    "    assert(dw.shape == w.shape)\n",
    "    assert(db.dtype == float)\n",
    "    cost = np.squeeze(cost)\n",
    "    assert(cost.shape == ())\n",
    "    \n",
    "    grads = {\"dw\": dw,\n",
    "             \"db\": db}\n",
    "    \n",
    "    return grads, cost\n",
    "\"\"\""
   ]
  },
  {
   "cell_type": "code",
   "execution_count": 58,
   "metadata": {},
   "outputs": [
    {
     "data": {
      "text/html": [
       "<div>\n",
       "<style>\n",
       "    .dataframe thead tr:only-child th {\n",
       "        text-align: right;\n",
       "    }\n",
       "\n",
       "    .dataframe thead th {\n",
       "        text-align: left;\n",
       "    }\n",
       "\n",
       "    .dataframe tbody tr th {\n",
       "        vertical-align: top;\n",
       "    }\n",
       "</style>\n",
       "<table border=\"1\" class=\"dataframe\">\n",
       "  <thead>\n",
       "    <tr style=\"text-align: right;\">\n",
       "      <th></th>\n",
       "      <th>0</th>\n",
       "      <th>1</th>\n",
       "      <th>2</th>\n",
       "      <th>3</th>\n",
       "      <th>4</th>\n",
       "      <th>5</th>\n",
       "      <th>6</th>\n",
       "      <th>7</th>\n",
       "      <th>8</th>\n",
       "    </tr>\n",
       "  </thead>\n",
       "  <tbody>\n",
       "    <tr>\n",
       "      <th>0</th>\n",
       "      <td>0.63953</td>\n",
       "      <td>0.84777</td>\n",
       "      <td>0.14954</td>\n",
       "      <td>0.90668</td>\n",
       "      <td>-0.69244</td>\n",
       "      <td>0.20388</td>\n",
       "      <td>0.46819</td>\n",
       "      <td>1.425100</td>\n",
       "      <td>2</td>\n",
       "    </tr>\n",
       "    <tr>\n",
       "      <th>1</th>\n",
       "      <td>-0.84433</td>\n",
       "      <td>-1.12270</td>\n",
       "      <td>-0.16044</td>\n",
       "      <td>0.53056</td>\n",
       "      <td>-0.69244</td>\n",
       "      <td>-0.68398</td>\n",
       "      <td>-0.36482</td>\n",
       "      <td>-0.190550</td>\n",
       "      <td>1</td>\n",
       "    </tr>\n",
       "    <tr>\n",
       "      <th>2</th>\n",
       "      <td>1.23310</td>\n",
       "      <td>1.94250</td>\n",
       "      <td>-0.26377</td>\n",
       "      <td>-1.28740</td>\n",
       "      <td>-0.69244</td>\n",
       "      <td>-1.10250</td>\n",
       "      <td>0.60400</td>\n",
       "      <td>-0.105520</td>\n",
       "      <td>2</td>\n",
       "    </tr>\n",
       "    <tr>\n",
       "      <th>3</th>\n",
       "      <td>-0.84433</td>\n",
       "      <td>-0.99756</td>\n",
       "      <td>-0.16044</td>\n",
       "      <td>0.15443</td>\n",
       "      <td>0.12322</td>\n",
       "      <td>-0.49372</td>\n",
       "      <td>-0.92016</td>\n",
       "      <td>-1.040900</td>\n",
       "      <td>1</td>\n",
       "    </tr>\n",
       "    <tr>\n",
       "      <th>4</th>\n",
       "      <td>-1.14110</td>\n",
       "      <td>0.50373</td>\n",
       "      <td>-1.50370</td>\n",
       "      <td>0.90668</td>\n",
       "      <td>0.76534</td>\n",
       "      <td>1.40880</td>\n",
       "      <td>5.48130</td>\n",
       "      <td>-0.020483</td>\n",
       "      <td>2</td>\n",
       "    </tr>\n",
       "  </tbody>\n",
       "</table>\n",
       "</div>"
      ],
      "text/plain": [
       "         0        1        2        3        4        5        6         7  8\n",
       "0  0.63953  0.84777  0.14954  0.90668 -0.69244  0.20388  0.46819  1.425100  2\n",
       "1 -0.84433 -1.12270 -0.16044  0.53056 -0.69244 -0.68398 -0.36482 -0.190550  1\n",
       "2  1.23310  1.94250 -0.26377 -1.28740 -0.69244 -1.10250  0.60400 -0.105520  2\n",
       "3 -0.84433 -0.99756 -0.16044  0.15443  0.12322 -0.49372 -0.92016 -1.040900  1\n",
       "4 -1.14110  0.50373 -1.50370  0.90668  0.76534  1.40880  5.48130 -0.020483  2"
      ]
     },
     "execution_count": 58,
     "metadata": {},
     "output_type": "execute_result"
    }
   ],
   "source": [
    "data.head()"
   ]
  },
  {
   "cell_type": "code",
   "execution_count": 10,
   "metadata": {
    "collapsed": true
   },
   "outputs": [],
   "source": [
    "#data['diagnosis']=data['diagnosis'].map({'M':1,'B':0})"
   ]
  },
  {
   "cell_type": "code",
   "execution_count": 59,
   "metadata": {
    "collapsed": true
   },
   "outputs": [],
   "source": [
    "Y=data[8]\n",
    "X=data.drop(8,axis=1)"
   ]
  },
  {
   "cell_type": "code",
   "execution_count": 60,
   "metadata": {},
   "outputs": [
    {
     "data": {
      "text/html": [
       "<div>\n",
       "<style>\n",
       "    .dataframe thead tr:only-child th {\n",
       "        text-align: right;\n",
       "    }\n",
       "\n",
       "    .dataframe thead th {\n",
       "        text-align: left;\n",
       "    }\n",
       "\n",
       "    .dataframe tbody tr th {\n",
       "        vertical-align: top;\n",
       "    }\n",
       "</style>\n",
       "<table border=\"1\" class=\"dataframe\">\n",
       "  <thead>\n",
       "    <tr style=\"text-align: right;\">\n",
       "      <th></th>\n",
       "      <th>0</th>\n",
       "      <th>1</th>\n",
       "      <th>2</th>\n",
       "      <th>3</th>\n",
       "      <th>4</th>\n",
       "      <th>5</th>\n",
       "      <th>6</th>\n",
       "      <th>7</th>\n",
       "    </tr>\n",
       "  </thead>\n",
       "  <tbody>\n",
       "    <tr>\n",
       "      <th>0</th>\n",
       "      <td>0.63953</td>\n",
       "      <td>0.84777</td>\n",
       "      <td>0.14954</td>\n",
       "      <td>0.90668</td>\n",
       "      <td>-0.69244</td>\n",
       "      <td>0.20388</td>\n",
       "      <td>0.46819</td>\n",
       "      <td>1.425100</td>\n",
       "    </tr>\n",
       "    <tr>\n",
       "      <th>1</th>\n",
       "      <td>-0.84433</td>\n",
       "      <td>-1.12270</td>\n",
       "      <td>-0.16044</td>\n",
       "      <td>0.53056</td>\n",
       "      <td>-0.69244</td>\n",
       "      <td>-0.68398</td>\n",
       "      <td>-0.36482</td>\n",
       "      <td>-0.190550</td>\n",
       "    </tr>\n",
       "    <tr>\n",
       "      <th>2</th>\n",
       "      <td>1.23310</td>\n",
       "      <td>1.94250</td>\n",
       "      <td>-0.26377</td>\n",
       "      <td>-1.28740</td>\n",
       "      <td>-0.69244</td>\n",
       "      <td>-1.10250</td>\n",
       "      <td>0.60400</td>\n",
       "      <td>-0.105520</td>\n",
       "    </tr>\n",
       "    <tr>\n",
       "      <th>3</th>\n",
       "      <td>-0.84433</td>\n",
       "      <td>-0.99756</td>\n",
       "      <td>-0.16044</td>\n",
       "      <td>0.15443</td>\n",
       "      <td>0.12322</td>\n",
       "      <td>-0.49372</td>\n",
       "      <td>-0.92016</td>\n",
       "      <td>-1.040900</td>\n",
       "    </tr>\n",
       "    <tr>\n",
       "      <th>4</th>\n",
       "      <td>-1.14110</td>\n",
       "      <td>0.50373</td>\n",
       "      <td>-1.50370</td>\n",
       "      <td>0.90668</td>\n",
       "      <td>0.76534</td>\n",
       "      <td>1.40880</td>\n",
       "      <td>5.48130</td>\n",
       "      <td>-0.020483</td>\n",
       "    </tr>\n",
       "  </tbody>\n",
       "</table>\n",
       "</div>"
      ],
      "text/plain": [
       "         0        1        2        3        4        5        6         7\n",
       "0  0.63953  0.84777  0.14954  0.90668 -0.69244  0.20388  0.46819  1.425100\n",
       "1 -0.84433 -1.12270 -0.16044  0.53056 -0.69244 -0.68398 -0.36482 -0.190550\n",
       "2  1.23310  1.94250 -0.26377 -1.28740 -0.69244 -1.10250  0.60400 -0.105520\n",
       "3 -0.84433 -0.99756 -0.16044  0.15443  0.12322 -0.49372 -0.92016 -1.040900\n",
       "4 -1.14110  0.50373 -1.50370  0.90668  0.76534  1.40880  5.48130 -0.020483"
      ]
     },
     "execution_count": 60,
     "metadata": {},
     "output_type": "execute_result"
    }
   ],
   "source": [
    "X.head()"
   ]
  },
  {
   "cell_type": "code",
   "execution_count": 61,
   "metadata": {
    "collapsed": true
   },
   "outputs": [],
   "source": [
    "from sklearn.preprocessing import StandardScaler\n",
    "X=StandardScaler().fit_transform(X)"
   ]
  },
  {
   "cell_type": "code",
   "execution_count": 62,
   "metadata": {},
   "outputs": [
    {
     "data": {
      "text/plain": [
       "(768, 8)"
      ]
     },
     "execution_count": 62,
     "metadata": {},
     "output_type": "execute_result"
    }
   ],
   "source": [
    "X.shape"
   ]
  },
  {
   "cell_type": "code",
   "execution_count": 63,
   "metadata": {
    "collapsed": true
   },
   "outputs": [],
   "source": [
    "from sklearn.model_selection import train_test_split"
   ]
  },
  {
   "cell_type": "code",
   "execution_count": 64,
   "metadata": {
    "collapsed": true
   },
   "outputs": [],
   "source": [
    "X_train,X_test,Y_train,Y_test=train_test_split(X,Y,test_size=0.2,stratify=Y,random_state=0)"
   ]
  },
  {
   "cell_type": "code",
   "execution_count": 65,
   "metadata": {
    "collapsed": true
   },
   "outputs": [],
   "source": [
    "def addbias(X):\n",
    "    X_bias=np.concatenate((np.ones((X.shape[0],1)), X), axis=1)\n",
    "    return X_bias"
   ]
  },
  {
   "cell_type": "code",
   "execution_count": 20,
   "metadata": {
    "collapsed": true
   },
   "outputs": [],
   "source": [
    "#X=np.random.random((2,2))\n",
    "#biased=addbias(X)"
   ]
  },
  {
   "cell_type": "code",
   "execution_count": 17,
   "metadata": {
    "collapsed": true
   },
   "outputs": [],
   "source": [
    "def castLabel(y, t):\n",
    "    if -1 in y:\n",
    "        if t == -1:\n",
    "            y_new = y\n",
    "        elif t == 0:\n",
    "            y_new = np.divide((y + 1) ,2)\n",
    "        elif t == 2:\n",
    "            y_new = np.divide((y + 3),2)\n",
    "    elif 0 in y:\n",
    "        if (t == -1):\n",
    "            y_new = (y * 2) - 1\n",
    "        elif (t == 0):\n",
    "            y_new = y\n",
    "        elif (t == 2):\n",
    "            y_new = y + 1\n",
    "    elif 2 in y:\n",
    "        if (t == -1):\n",
    "            y_new = (y * 2) - 3\n",
    "        elif (t == 0):\n",
    "            y_new = y - 1\n",
    "        elif (t == 2):\n",
    "            y_new = y\n",
    "    return y_new"
   ]
  },
  {
   "cell_type": "code",
   "execution_count": 19,
   "metadata": {
    "collapsed": true
   },
   "outputs": [],
   "source": [
    "#y=np.array([1,1,0,0,1,0])\n",
    "#y=np.reshape(y,(6,1))\n",
    "#castLabel(y,2)"
   ]
  },
  {
   "cell_type": "code",
   "execution_count": 20,
   "metadata": {
    "collapsed": true
   },
   "outputs": [],
   "source": [
    "#np.random.rand(y.shape[0],1)"
   ]
  },
  {
   "cell_type": "code",
   "execution_count": 21,
   "metadata": {
    "collapsed": true
   },
   "outputs": [],
   "source": [
    "#y_ck=np.array([1,1,0,0,1,0])\n",
    "#y_ck=np.reshape(y_ck,(6,1))"
   ]
  },
  {
   "cell_type": "code",
   "execution_count": 18,
   "metadata": {
    "collapsed": true
   },
   "outputs": [],
   "source": [
    "def injectLabelNoise(y,flipRate):\n",
    "    fd  =  -np.ones((y.shape))\n",
    "    yz  =  castLabel(y,-1)\n",
    "    y   =  castLabel(y,2)\n",
    "    # sampling some numbers\n",
    "    for i in range(0,2):\n",
    "        prob    = np.random.rand(y.shape[0],1)\n",
    "        idx     = np.where((y==i+1) & (prob <= flipRate[i]))\n",
    "        #print(idx)\n",
    "        yz[idx[0]] = -yz[idx[0]]\n",
    "        fd[idx[0]] = -fd[idx[0]]\n",
    "    yz = castLabel(yz,2)\n",
    "    return yz, fd"
   ]
  },
  {
   "cell_type": "code",
   "execution_count": 20,
   "metadata": {
    "collapsed": true
   },
   "outputs": [],
   "source": [
    "#yz, fd=injectLabelNoise(y_ck, [[0.8,0.2],[0.2,0.8]])"
   ]
  },
  {
   "cell_type": "code",
   "execution_count": 21,
   "metadata": {
    "collapsed": true
   },
   "outputs": [],
   "source": [
    "#print(yz)"
   ]
  },
  {
   "cell_type": "code",
   "execution_count": 76,
   "metadata": {
    "collapsed": true
   },
   "outputs": [],
   "source": [
    "#def standardise():\n",
    "    # Use sklearn standard scaler here"
   ]
  },
  {
   "cell_type": "code",
   "execution_count": 19,
   "metadata": {
    "collapsed": true
   },
   "outputs": [],
   "source": [
    "def gammapdf(x,k,theta):\n",
    "    x= np.absolute(x)\n",
    "    y=np.multiply(np.power(x,(k-1)),np.exp(-x/theta))/(np.power(theta,k) * sci.misc.factorial(k-1))\n",
    "    y=y.reshape(y.shape[0],1)\n",
    "    return y"
   ]
  },
  {
   "cell_type": "code",
   "execution_count": 20,
   "metadata": {
    "collapsed": true
   },
   "outputs": [],
   "source": [
    "def regParam(w, regType, sn=1e-8):\n",
    "\n",
    "    lamb_da = np.zeros((w.shape[0],))\n",
    "    if regType == \"lasso\":\n",
    "        lamb_da[:] = np.divide(1 , np.sqrt(np.power(w,2) + sn))\n",
    "    elif regType == \"l2\":\n",
    "        lamb_da[:] = (length(w)/2 + 1) / np.sum(np.power(w[2:end],2)/2 + 2)\n",
    "    elif regType == \"noreg\":\n",
    "        lamb_da[:] = 0\n",
    "    lamb_da[1] = 0\n",
    "   # print('The shape of lambda: ',lamb_da.shape)\n",
    "    return lamb_da"
   ]
  },
  {
   "cell_type": "code",
   "execution_count": 21,
   "metadata": {
    "collapsed": true
   },
   "outputs": [],
   "source": [
    "def regFunc(w, regType, sn=1e-8):\n",
    "\n",
    "    if regType == \"noreg\":\n",
    "        regV  = 0\n",
    "        regDV = 0\n",
    "    elif regType == \"lasso\":\n",
    "        regV  = np.sqrt(np.power(w,2) + sn)\n",
    "        #print(regV.shape)\n",
    "        regDV = np.divide(w,np.sqrt(np.power(w,2) + sn))\n",
    "        #print(regDV.shape)\n",
    "    elif regType == \"l2\":\n",
    "        regV  = np.sum(np.power(w,2))\n",
    "        regDV = w*2\n",
    "\n",
    "    return regV, regDV"
   ]
  },
  {
   "cell_type": "code",
   "execution_count": 249,
   "metadata": {},
   "outputs": [
    {
     "data": {
      "text/plain": [
       "(10, 1)"
      ]
     },
     "execution_count": 249,
     "metadata": {},
     "output_type": "execute_result"
    }
   ],
   "source": [
    "#ndata=10\n",
    "#dist=np.ones((ndata,1))\n",
    "#dist.shape"
   ]
  },
  {
   "cell_type": "code",
   "execution_count": 22,
   "metadata": {
    "collapsed": true
   },
   "outputs": [],
   "source": [
    "import scipy as sci\n",
    "from scipy.optimize import minimize"
   ]
  },
  {
   "cell_type": "code",
   "execution_count": 23,
   "metadata": {
    "collapsed": true
   },
   "outputs": [],
   "source": [
    "def rlr(w,gamma,x,y,sn=1e-8,maxIter=100,dist=1,estG=True,regType=\"noreg\"):\n",
    "    #shape of the data\n",
    "    ndata,dim=x.shape\n",
    "    \n",
    "    # y={0,1} ensuring\n",
    "    y=castLabel(y,0)\n",
    "    #print(y)\n",
    "    if dist!=ndata:\n",
    "        dist=np.ones((ndata,1))\n",
    "    \n",
    "    llh= []\n",
    "    for l in range(1,maxIter):\n",
    "        # storage for likelihood values\n",
    "        if l==1:\n",
    "            lamb_da=regParam(w,\"noreg\",sn)\n",
    "        else:\n",
    "            lamb_da=regParam(w,regType,sn)\n",
    "\n",
    "        t=np.dot(x,w)\n",
    "        #print(t.shape)\n",
    "        A=sigmoid(t)\n",
    "        #print(A.shape)\n",
    "        if estG:\n",
    "\n",
    "            # multiplicative update for the gamma matrix\n",
    "\n",
    "            #SN0=gamma[0,0]*(np.divide(1,A))+gamma[1,0]*(A)\n",
    "            #SN1=gamma[0,1]*(np.divide(1,A))+gamma[1,1]*(A)\n",
    "            SN0=gamma[0,0]*((1-A))+gamma[1,0]*(A)\n",
    "            SN1=gamma[0,1]*((1-A))+gamma[1,1]*(A)\n",
    "            #print(SN0.shape)\n",
    "            #print(dist.shape)\n",
    "            #print(y.shape)\n",
    "            #print(A.shape)\n",
    "            # avoiding numerical problem\n",
    "            SN0[SN0==0]=1e-8\n",
    "            SN1[SN1==0]=1e-8\n",
    "\n",
    "            #\n",
    "            #g00=gamma[0,0]*np.sum(np.multiply(np.divide(np.multiply(dist,(1-y)),SN0),np.divide(1,A)))\n",
    "            g00=gamma[0,0]*np.sum(np.multiply(np.divide(np.multiply(dist,(1-y)),SN0),(1-A)))\n",
    "            #print(g00)\n",
    "            #g01=gamma[0,1]*np.sum(np.multiply(np.divide(np.multiply(dist,(y)),SN1),np.divide(1,A)))\n",
    "            g01=gamma[0,1]*np.sum(np.multiply(np.divide(np.multiply(dist,(y)),SN1),(1-A)))\n",
    "            #print(g01)\n",
    "\n",
    "            #lagrangian\n",
    "            g11=np.divide(g00,(g00+g01))\n",
    "\n",
    "            gamma[0,0]=g11\n",
    "            gamma[0,1]=1-g11\n",
    "\n",
    "            g10=gamma[1,0]*np.sum(np.multiply(np.divide(np.multiply(dist,(1-y)),SN0),A))\n",
    "            g11=gamma[1,1]*np.sum(np.multiply(np.divide(np.multiply(dist,(y)),SN1),A))\n",
    "\n",
    "            #lagrangian\n",
    "\n",
    "            g21=np.divide(g10,(g10+g11))\n",
    "\n",
    "            gamma[1,0]=g21\n",
    "            gamma[1,1]=1-g21\n",
    "        \n",
    "        #w, fx, iter = minimize(w, gradw, 10, g, x, y, lamb_da, dist, regType)\n",
    "        #jaco=gradw(w,gamma,x,y,lamb_da,dist,regType)\n",
    "        _res= minimize(cost_function,w,jac=gradw,method='CG',args=(gamma,x, y, lamb_da,dist,regType)) #,iters to RHS\n",
    "        #print(_res)\n",
    "        w=_res.x\n",
    "        llh.append(_res.fun)\n",
    "        #g=gamma\n",
    "    \n",
    "    return w,gamma,llh"
   ]
  },
  {
   "cell_type": "code",
   "execution_count": 24,
   "metadata": {
    "collapsed": true
   },
   "outputs": [],
   "source": [
    "def gradw(w,gamma,x,y,lamb_da,dist,regType):\n",
    "    \n",
    "    regV,regDV=regFunc(w,regType,1e-8)\n",
    "    regV=regV.reshape(regV.shape[0],1)\n",
    "    regDV=regDV.reshape(regDV.shape[0],1)\n",
    "    lamb_da=lamb_da.reshape(lamb_da.shape[0],1)\n",
    "    t=np.dot(x,w)\n",
    "    A=sigmoid(t)\n",
    "    A=A.reshape(A.shape[0],1)\n",
    "     # multiplicative update for the gamma matrix\n",
    "        \n",
    "    #SN0=gamma[0,0]*(np.divide(1,A))+gamma[1,0]*(A)\n",
    "    #SN1=gamma[0,1]*(np.divide(1,A))+gamma[1,1]*(A)\n",
    "    SN0=gamma[0,0]*((1-A))+gamma[1,0]*(A)\n",
    "    SN1=gamma[0,1]*((1-A))+gamma[1,1]*(A)\n",
    "    SN0=SN0.reshape(A.shape[0],1)\n",
    "    SN1=SN1.reshape(A.shape[0],1)\n",
    "    # avoiding numerical problem\n",
    "    SN0[SN0==0]=1e-8\n",
    "    SN1[SN1==0]=1e-8\n",
    "    # loss function value\n",
    "    # derivative of loss function\n",
    "    \n",
    "    tmp1=(gamma[1,1]-gamma[0,1])*np.divide(np.multiply(dist,y),SN1)\n",
    "    tmp2=(gamma[1,0]-gamma[0,0])*np.divide(np.multiply(dist,1-y),SN0)\n",
    "    #print(tmp1.shape)\n",
    "    #print(tmp2.shape)\n",
    "    \n",
    "    #gAux1=np.multiply((tmp1+tmp2),np.multiply(A,np.divide(1,A)))\n",
    "    gAux1=np.multiply((tmp1+tmp2),np.multiply(A,(1-A)))\n",
    "    #print(gAux1.shape)\n",
    "    import numpy.matlib\n",
    "    gAux2=np.multiply(numpy.matlib.repmat(gAux1,1,x.shape[1]),x)\n",
    "   # print(gAux2.shape)\n",
    "    #temp=np.multiply(lamb_da,regDV.reshape((11,1)))\n",
    "    #print(temp.shape)\n",
    "    dfv=-(np.sum(gAux2)).T+np.multiply(lamb_da,regDV)\n",
    "    #temp2=-(np.sum(gAux2)).T\n",
    "    #print(temp2.shape)\n",
    "    dfv=(dfv.reshape(dfv.shape[0],))\n",
    "    return dfv"
   ]
  },
  {
   "cell_type": "code",
   "execution_count": 25,
   "metadata": {
    "collapsed": true
   },
   "outputs": [],
   "source": [
    "def cost_function(w,gamma,x,y,lamb_da,dist,regType):\n",
    "    regV,regDV=regFunc(w,regType,1e-8)\n",
    "    regV=regV.reshape(regV.shape[0],1)\n",
    "    regDV=regDV.reshape(regDV.shape[0],1)\n",
    "    lamb_da=lamb_da.reshape(lamb_da.shape[0],1)\n",
    "    t=np.dot(x,w)\n",
    "    A=sigmoid(t)\n",
    "    A=A.reshape(A.shape[0],1)\n",
    "     # multiplicative update for the gamma matrix\n",
    "        \n",
    "    #SN0=gamma[0,0]*(np.divide(1,A))+gamma[1,0]*(A)\n",
    "    #SN1=gamma[0,1]*(np.divide(1,A))+gamma[1,1]*(A)\n",
    "    SN0=gamma[0,0]*((1-A))+gamma[1,0]*(A)\n",
    "    SN1=gamma[0,1]*((1-A))+gamma[1,1]*(A)\n",
    "    SN0=SN0.reshape(A.shape[0],1)\n",
    "    SN1=SN1.reshape(A.shape[0],1)\n",
    "        \n",
    "    # avoiding numerical problem\n",
    "    SN0[SN0==0]=1e-8\n",
    "    SN1[SN1==0]=1e-8\n",
    "    # loss function value\n",
    "    \n",
    "    fv=-np.sum(np.multiply(np.multiply(dist,y),np.log(SN1))+np.multiply(np.multiply((1-y),dist),np.log(SN0)))+ np.sum(np.multiply(lamb_da,regV))\n",
    "    #print(fv)\n",
    "    return fv"
   ]
  },
  {
   "cell_type": "code",
   "execution_count": 30,
   "metadata": {
    "collapsed": true
   },
   "outputs": [],
   "source": [
    "#def unpack_thetas(self, thetas, input_layer_size, hidden_layer_size, num_labels):\n",
    "    #t1_start = 0\n",
    "    #t1_end = hidden_layer_size * (input_layer_size + 1)\n",
    "#    t1 = thetas[t1_start:t1_end].reshape((hidden_layer_size, input_layer_size + 1))\n",
    "#    t2 = thetas[t1_end:].reshape((num_labels, hidden_layer_size + 1))\n",
    "#    return t1, t2"
   ]
  },
  {
   "cell_type": "code",
   "execution_count": 30,
   "metadata": {
    "collapsed": true
   },
   "outputs": [],
   "source": [
    "#X_train=addbias(X_train)"
   ]
  },
  {
   "cell_type": "code",
   "execution_count": 31,
   "metadata": {},
   "outputs": [
    {
     "data": {
      "text/plain": [
       "(455, 11)"
      ]
     },
     "execution_count": 31,
     "metadata": {},
     "output_type": "execute_result"
    }
   ],
   "source": [
    "#X_train.shape"
   ]
  },
  {
   "cell_type": "code",
   "execution_count": 32,
   "metadata": {
    "collapsed": true
   },
   "outputs": [],
   "source": [
    "#X_test=addbias(X_test)"
   ]
  },
  {
   "cell_type": "code",
   "execution_count": 33,
   "metadata": {},
   "outputs": [
    {
     "data": {
      "text/plain": [
       "(114, 11)"
      ]
     },
     "execution_count": 33,
     "metadata": {},
     "output_type": "execute_result"
    }
   ],
   "source": [
    "#X_test.shape"
   ]
  },
  {
   "cell_type": "code",
   "execution_count": 66,
   "metadata": {
    "collapsed": true
   },
   "outputs": [],
   "source": [
    "n_train_data,dim=X_train.shape"
   ]
  },
  {
   "cell_type": "code",
   "execution_count": 67,
   "metadata": {
    "collapsed": true
   },
   "outputs": [],
   "source": [
    "n_test_data,dim_test=X_test.shape"
   ]
  },
  {
   "cell_type": "code",
   "execution_count": 36,
   "metadata": {
    "collapsed": true
   },
   "outputs": [],
   "source": [
    "#winit = np.random.rand(dim,1)"
   ]
  },
  {
   "cell_type": "code",
   "execution_count": 37,
   "metadata": {},
   "outputs": [
    {
     "data": {
      "text/plain": [
       "(11, 1)"
      ]
     },
     "execution_count": 37,
     "metadata": {},
     "output_type": "execute_result"
    }
   ],
   "source": [
    "#winit.shape"
   ]
  },
  {
   "cell_type": "code",
   "execution_count": 69,
   "metadata": {
    "collapsed": true
   },
   "outputs": [],
   "source": [
    "#Y_train=Y_train.values.reshape(n_train_data,1)"
   ]
  },
  {
   "cell_type": "code",
   "execution_count": 70,
   "metadata": {
    "collapsed": true
   },
   "outputs": [],
   "source": [
    "#Y_test=Y_test.values.reshape(n_test_data,1)"
   ]
  },
  {
   "cell_type": "code",
   "execution_count": 31,
   "metadata": {
    "collapsed": true
   },
   "outputs": [],
   "source": [
    "#Y_train"
   ]
  },
  {
   "cell_type": "code",
   "execution_count": 32,
   "metadata": {
    "collapsed": true
   },
   "outputs": [],
   "source": [
    "#yz, fd = injectLabelNoise(Y_train, [0.3,0.7])"
   ]
  },
  {
   "cell_type": "code",
   "execution_count": 33,
   "metadata": {
    "collapsed": true
   },
   "outputs": [],
   "source": [
    "#yz=castLabel(yz,0)"
   ]
  },
  {
   "cell_type": "code",
   "execution_count": 55,
   "metadata": {
    "collapsed": true
   },
   "outputs": [],
   "source": [
    "#yz==Y_train"
   ]
  },
  {
   "cell_type": "code",
   "execution_count": 34,
   "metadata": {
    "collapsed": true
   },
   "outputs": [],
   "source": [
    "#gamma=np.array([[0.8,0.2],[0.2,0.8]])"
   ]
  },
  {
   "cell_type": "code",
   "execution_count": 35,
   "metadata": {
    "collapsed": true
   },
   "outputs": [],
   "source": [
    "#t=np.dot(X_train,winit)"
   ]
  },
  {
   "cell_type": "code",
   "execution_count": null,
   "metadata": {
    "collapsed": true
   },
   "outputs": [],
   "source": []
  },
  {
   "cell_type": "code",
   "execution_count": 36,
   "metadata": {
    "collapsed": true
   },
   "outputs": [],
   "source": [
    "#w, g, llh = rlr(winit, gamma, X_train, yz, regType=\"lasso\")"
   ]
  },
  {
   "cell_type": "code",
   "execution_count": 37,
   "metadata": {
    "collapsed": true
   },
   "outputs": [],
   "source": [
    "#w=w.reshape(11,1)"
   ]
  },
  {
   "cell_type": "code",
   "execution_count": 38,
   "metadata": {
    "collapsed": true
   },
   "outputs": [],
   "source": [
    "#castLabel(Y_test,-1)"
   ]
  },
  {
   "cell_type": "code",
   "execution_count": 39,
   "metadata": {
    "collapsed": true
   },
   "outputs": [],
   "source": [
    "#check=(np.sign(np.dot(X_test,w))!=castLabel(Y_test,-1))"
   ]
  },
  {
   "cell_type": "code",
   "execution_count": 318,
   "metadata": {},
   "outputs": [
    {
     "data": {
      "text/plain": [
       "(11,)"
      ]
     },
     "execution_count": 318,
     "metadata": {},
     "output_type": "execute_result"
    }
   ],
   "source": []
  },
  {
   "cell_type": "code",
   "execution_count": 40,
   "metadata": {
    "collapsed": true
   },
   "outputs": [],
   "source": [
    "#check.shape"
   ]
  },
  {
   "cell_type": "code",
   "execution_count": 41,
   "metadata": {
    "collapsed": true
   },
   "outputs": [],
   "source": [
    "#np.sum(np.sign(np.dot(X_test,w))!=castLabel(Y_test,-1))/(Y_test.shape[0])"
   ]
  },
  {
   "cell_type": "code",
   "execution_count": 42,
   "metadata": {
    "collapsed": true
   },
   "outputs": [],
   "source": [
    "#err_rlr=[]"
   ]
  },
  {
   "cell_type": "code",
   "execution_count": 44,
   "metadata": {
    "collapsed": true
   },
   "outputs": [],
   "source": [
    "#X.head()"
   ]
  },
  {
   "cell_type": "code",
   "execution_count": 45,
   "metadata": {
    "collapsed": true
   },
   "outputs": [],
   "source": [
    "#Y.head()"
   ]
  },
  {
   "cell_type": "code",
   "execution_count": 72,
   "metadata": {
    "collapsed": true
   },
   "outputs": [],
   "source": [
    "#import bigfloat\n",
    "#bigfloat.exp(5000,bigfloat.precision(100))"
   ]
  },
  {
   "cell_type": "code",
   "execution_count": 68,
   "metadata": {},
   "outputs": [
    {
     "name": "stdout",
     "output_type": "stream",
     "text": [
      "0.409090909091\n"
     ]
    },
    {
     "name": "stderr",
     "output_type": "stream",
     "text": [
      "C:\\Users\\namanda\\AppData\\Local\\Continuum\\anaconda3\\lib\\site-packages\\ipykernel_launcher.py:12: RuntimeWarning: overflow encountered in exp\n",
      "  if sys.path[0] == '':\n",
      "C:\\Users\\namanda\\AppData\\Local\\Continuum\\anaconda3\\lib\\site-packages\\ipykernel_launcher.py:12: RuntimeWarning: overflow encountered in exp\n",
      "  if sys.path[0] == '':\n"
     ]
    },
    {
     "name": "stdout",
     "output_type": "stream",
     "text": [
      "0.590909090909\n"
     ]
    },
    {
     "name": "stderr",
     "output_type": "stream",
     "text": [
      "C:\\Users\\namanda\\AppData\\Local\\Continuum\\anaconda3\\lib\\site-packages\\ipykernel_launcher.py:12: RuntimeWarning: overflow encountered in exp\n",
      "  if sys.path[0] == '':\n"
     ]
    },
    {
     "name": "stdout",
     "output_type": "stream",
     "text": [
      "0.409090909091\n",
      "0.409090909091\n",
      "0.590909090909\n"
     ]
    },
    {
     "name": "stderr",
     "output_type": "stream",
     "text": [
      "C:\\Users\\namanda\\AppData\\Local\\Continuum\\anaconda3\\lib\\site-packages\\ipykernel_launcher.py:12: RuntimeWarning: overflow encountered in exp\n",
      "  if sys.path[0] == '':\n",
      "C:\\Users\\namanda\\AppData\\Local\\Continuum\\anaconda3\\lib\\site-packages\\ipykernel_launcher.py:12: RuntimeWarning: overflow encountered in exp\n",
      "  if sys.path[0] == '':\n"
     ]
    },
    {
     "name": "stdout",
     "output_type": "stream",
     "text": [
      "0.590909090909\n",
      "0.590909090909\n",
      "0.409090909091\n"
     ]
    },
    {
     "name": "stderr",
     "output_type": "stream",
     "text": [
      "C:\\Users\\namanda\\AppData\\Local\\Continuum\\anaconda3\\lib\\site-packages\\ipykernel_launcher.py:12: RuntimeWarning: overflow encountered in exp\n",
      "  if sys.path[0] == '':\n",
      "C:\\Users\\namanda\\AppData\\Local\\Continuum\\anaconda3\\lib\\site-packages\\ipykernel_launcher.py:12: RuntimeWarning: overflow encountered in exp\n",
      "  if sys.path[0] == '':\n"
     ]
    },
    {
     "name": "stdout",
     "output_type": "stream",
     "text": [
      "0.590909090909\n",
      "0.590909090909\n"
     ]
    },
    {
     "name": "stderr",
     "output_type": "stream",
     "text": [
      "C:\\Users\\namanda\\AppData\\Local\\Continuum\\anaconda3\\lib\\site-packages\\ipykernel_launcher.py:12: RuntimeWarning: overflow encountered in exp\n",
      "  if sys.path[0] == '':\n"
     ]
    },
    {
     "name": "stdout",
     "output_type": "stream",
     "text": [
      "0.409090909091\n",
      "The final error:  0.559090909091\n"
     ]
    }
   ],
   "source": [
    "err_rlr=[]\n",
    "\n",
    "for i in range(11):\n",
    "    X_train,X_test,Y_train,Y_test=train_test_split(X,Y,test_size=0.2,random_state=42,shuffle=True)\n",
    "    X_train=addbias(X_train)\n",
    "    X_test=addbias(X_test)\n",
    "    Y_train=Y_train.values.reshape(n_train_data,1)\n",
    "    Y_test=Y_test.values.reshape(n_test_data,1)\n",
    "    n_train_data,dim=X_train.shape\n",
    "    n_test_data,dim_test=X_test.shape\n",
    "    winit = np.random.rand(dim,1)\n",
    "\n",
    "    yz, fd = injectLabelNoise(Y_train,[0.8,0.2])\n",
    "    gamma=np.array([[0.8,0.2],[0.2,0.8]])\n",
    "    w, g, llh = rlr(np.random.randn(dim,1)*0.1, gamma, X_train, yz, regType=\"lasso\")\n",
    "    w=w.reshape(dim,1)\n",
    "    err_rlr.append(np.sum(np.sign(np.dot(X_test,w))!=castLabel(Y_test,-1))/len(Y_test))\n",
    "    print(err_rlr[i])\n",
    "print('The final error: ',sum(err_rlr)/10)"
   ]
  },
  {
   "cell_type": "code",
   "execution_count": 69,
   "metadata": {},
   "outputs": [
    {
     "name": "stdout",
     "output_type": "stream",
     "text": [
      "[[  6.87587397e-09]\n",
      " [  2.81310155e-02]\n",
      " [  6.85503103e-09]\n",
      " [  6.85978889e-09]\n",
      " [  6.86074337e-09]\n",
      " [ -3.00848659e-08]\n",
      " [  2.12339689e-08]\n",
      " [  6.87117211e-09]\n",
      " [  6.78161458e-09]]\n"
     ]
    }
   ],
   "source": [
    "print(w)"
   ]
  },
  {
   "cell_type": "code",
   "execution_count": 70,
   "metadata": {},
   "outputs": [],
   "source": [
    "Y_test=castLabel(Y_test,0)"
   ]
  },
  {
   "cell_type": "code",
   "execution_count": 71,
   "metadata": {
    "collapsed": true
   },
   "outputs": [],
   "source": [
    "from sklearn.metrics import accuracy_score"
   ]
  },
  {
   "cell_type": "code",
   "execution_count": 35,
   "metadata": {
    "collapsed": true
   },
   "outputs": [],
   "source": [
    "#Y_test"
   ]
  },
  {
   "cell_type": "code",
   "execution_count": 34,
   "metadata": {
    "collapsed": true
   },
   "outputs": [],
   "source": [
    "#np.sign(np.dot(X_test,w))"
   ]
  },
  {
   "cell_type": "code",
   "execution_count": 72,
   "metadata": {},
   "outputs": [
    {
     "data": {
      "text/plain": [
       "0.22077922077922077"
      ]
     },
     "execution_count": 72,
     "metadata": {},
     "output_type": "execute_result"
    }
   ],
   "source": [
    "accuracy_score(Y_test, np.sign(np.dot(X_test,w)))"
   ]
  },
  {
   "cell_type": "code",
   "execution_count": 73,
   "metadata": {
    "collapsed": true
   },
   "outputs": [],
   "source": [
    "probs=sigmoid(np.dot(X_test,w))"
   ]
  },
  {
   "cell_type": "code",
   "execution_count": 50,
   "metadata": {
    "collapsed": true
   },
   "outputs": [],
   "source": [
    "from sklearn.metrics import confusion_matrix,precision_recall_curve,auc,roc_auc_score,roc_curve,recall_score,classification_report"
   ]
  },
  {
   "cell_type": "code",
   "execution_count": 74,
   "metadata": {
    "collapsed": true
   },
   "outputs": [],
   "source": [
    "fpr, tpr, thresholds = roc_curve(Y_test.ravel(),probs.ravel())\n",
    "roc_auc = auc(fpr,tpr)"
   ]
  },
  {
   "cell_type": "code",
   "execution_count": 75,
   "metadata": {},
   "outputs": [
    {
     "data": {
      "image/png": "[encoded data removed]",
      "text/plain": [
       "<matplotlib.figure.Figure at 0xc61ba20>"
      ]
     },
     "metadata": {},
     "output_type": "display_data"
    }
   ],
   "source": [
    "# Plot ROC\n",
    "plt.title('Receiver Operating Characteristic')\n",
    "plt.plot(fpr, tpr, 'b',label='AUC = %0.2f'% roc_auc)\n",
    "plt.legend(loc='lower right')\n",
    "plt.plot([0,1],[0,1],'r--')\n",
    "plt.xlim([-0.1,1.0])\n",
    "plt.ylim([-0.1,1.01])\n",
    "plt.ylabel('True Positive Rate')\n",
    "plt.xlabel('False Positive Rate')\n",
    "plt.show()"
   ]
  },
  {
   "cell_type": "code",
   "execution_count": 80,
   "metadata": {},
   "outputs": [
    {
     "name": "stdout",
     "output_type": "stream",
     "text": [
      "The avg final error:  0.454545454545\n"
     ]
    }
   ],
   "source": [
    "print('The avg final error: ',sum(err_rlr)/11)"
   ]
  },
  {
   "cell_type": "code",
   "execution_count": 95,
   "metadata": {
    "collapsed": true
   },
   "outputs": [],
   "source": [
    "def glr(w, x, y, sn=1e-8, maxIter=50, estG=True, regType=\"noreg\"):\n",
    "    ndata,dim=x.shape\n",
    "    \n",
    "    y=castLabel(y,0)\n",
    "    \n",
    "    if (np.sum(x[:,0]) != ndata):\n",
    "        print(\"Bias terms might have not been added\")\n",
    "    \n",
    "    llh= []\n",
    "    \n",
    "    t0=500\n",
    "    t1=500\n",
    "    \n",
    "    t=np.dot(x,w)\n",
    "    \n",
    "    z  = t/np.linalg.norm(w)\n",
    "    \n",
    "    lamb_da = regParam(w, \"noreg\", sn)\n",
    "    \n",
    "    for l in range(1,maxIter):\n",
    "        \n",
    "        bReg0=-1/1-t0\n",
    "        bReg1=-1/1-t1\n",
    "        \n",
    "        if l==1:\n",
    "            g01=np.ones((y.shape[0],1))*0.2\n",
    "            \n",
    "            g10=np.ones((y.shape[0],1))*0.2\n",
    "        else:\n",
    "            g01=gammapdf(z,5,t0)\n",
    "            g10=gammapdf(z,1,t1)\n",
    "        \n",
    "        # should set it accordingly\n",
    "        _resglr= minimize(cost_func_glr,w,jac=gradw_glr,method='CG',args=(g01, g10, x, y, bReg0, bReg1, lamb_da, regType)) #,iters to RHS\n",
    "        #_res= minimize(cost_function,w,jac=gradw,method='CG',args=(gamma,x, y, lamb_da,dist,regType)) #,iters to RHS\n",
    "        #gradw(w,gamma,x,y,lamb_da,dist,regType)\n",
    "    \n",
    "        w=_resglr.x # updated weight vector\n",
    "        \n",
    "        t=np.dot(x,w)\n",
    "        \n",
    "        z  = t/np.linalg.norm(w)\n",
    "        \n",
    "        lamb_da = regParam(w, regType, sn)\n",
    "        \n",
    "        # calculating regularisation for w\n",
    "        regV, regDV = regFunc(w, regType, sn)\n",
    "        #ensuring the shape\n",
    "        regV=regV.reshape(regV.shape[0],1)\n",
    "        regDV=regDV.reshape(regDV.shape[0],1)\n",
    "        lamb_da=lamb_da.reshape(lamb_da.shape[0],1)\n",
    "        \n",
    "        regW = np.sum(np.multiply(lamb_da,regV))\n",
    "        \n",
    "        # noise parameters\n",
    "        \n",
    "        if estG:\n",
    "            \n",
    "            _tres0=minimize(cost_func_gradt1,t0,jac=gradt0,method='CG',args=(z,t,y,t1,regW,bReg0,bReg1) ) # should be changed accordinly\n",
    "            _tres1=minimize(cost_func_gradt1,t1,jac=gradt1,method='CG',args=(z,t,y,t0,regW,bReg0,bReg1) ) # should be changed accordingly\n",
    "            \n",
    "        llh.append(_tres1.fun) # should change\n",
    "        t0=_tres0.x\n",
    "        t1=_tres1.x\n",
    "        \n",
    "    return w,t0,t1,llh"
   ]
  },
  {
   "cell_type": "code",
   "execution_count": 96,
   "metadata": {
    "collapsed": true
   },
   "outputs": [],
   "source": [
    "# function definition for 'minFunc' optimiser\n",
    "# fv  = function value\n",
    "# for non-uniform noise rate model\n",
    "\n",
    "def cost_func_glr(w, g01, g10, x, y, bReg0, bReg1, lamb_da, regType):\n",
    "    \n",
    "    regV, regDV = regFunc(w, regType, 1e-8)\n",
    "    # ensuring the shape of the parameters\n",
    "    regV=regV.reshape(regV.shape[0],1)\n",
    "    regDV=regDV.reshape(regDV.shape[0],1)\n",
    "    lamb_da=lamb_da.reshape(lamb_da.shape[0],1)\n",
    "    \n",
    "    t=np.dot(x,w)\n",
    "    \n",
    "    A=sigmoid(t)\n",
    "    A=A.reshape(A.shape[0],1)\n",
    "    \n",
    "    SN0=np.multiply((1-g01),(1-A))+np.multiply(g10,A)\n",
    "    SN1=np.multiply((g01),(1-A))+np.multiply((1-g10),A)\n",
    "    \n",
    "    SN0=SN0.reshape(SN0.shape[0],1)\n",
    "    SN1=SN1.reshape(SN1.shape[0],1)\n",
    "    # avoiding numerical problem\n",
    "    SN0[SN0==0]=np.finfo(float).eps\n",
    "    SN1[SN1==0]=np.finfo(float).eps\n",
    "    \n",
    "    \n",
    "    fv=-np.sum(np.multiply((y),np.log(SN1))+np.multiply((1-y),np.log(SN0)))+ np.sum(np.multiply(lamb_da,regV))+bReg0+bReg1\n",
    "    \n",
    "    \n",
    "    return fv"
   ]
  },
  {
   "cell_type": "code",
   "execution_count": 97,
   "metadata": {
    "collapsed": true
   },
   "outputs": [],
   "source": [
    "# function definition for 'minFunc' optimiser\n",
    "# dfv = gradient of the function w.r.t W\n",
    "# for non-uniform noise rate model\n",
    "\n",
    "def gradw_glr(w, g01, g10, x, y, bReg0, bReg1, lamb_da, regType):\n",
    "    \n",
    "    regV, regDV = regFunc(w, regType, 1e-8)\n",
    "    # ensuring the shape of the parameters\n",
    "    regV=regV.reshape(regV.shape[0],1)\n",
    "    regDV=regDV.reshape(regDV.shape[0],1)\n",
    "    lamb_da=lamb_da.reshape(lamb_da.shape[0],1)\n",
    "    \n",
    "    t=np.dot(x,w)\n",
    "    \n",
    "    A=sigmoid(t)\n",
    "    A=A.reshape(A.shape[0],1)\n",
    "    \n",
    "    SN0=np.multiply((1-g01),(1-A))+np.multiply(g10,A)\n",
    "    SN1=np.multiply((g01),(1-A))+np.multiply((1-g10),A)\n",
    "    \n",
    "    SN0=SN0.reshape(SN0.shape[0],1)\n",
    "    SN1=SN1.reshape(SN1.shape[0],1)\n",
    "    # avoiding numerical problem\n",
    "    SN0[SN0==0]=np.finfo(float).eps\n",
    "    SN1[SN1==0]=np.finfo(float).eps\n",
    "    \n",
    "     # loss function value\n",
    "    # derivative of loss function\n",
    "    \n",
    "    tmp1=np.multiply((1-g10-g01),np.divide((y),SN1))\n",
    "    tmp2=np.multiply((g10-(1-g01)),np.divide((1-y),SN0))\n",
    "    #print(tmp1.shape)\n",
    "    #print(tmp2.shape)\n",
    "    \n",
    "    gAux1=np.multiply((tmp1+tmp2),np.multiply(A,(1-A)))\n",
    "    #print(gAux1.shape)\n",
    "    import numpy.matlib\n",
    "    gAux2=np.multiply(numpy.matlib.repmat(gAux1,1,x.shape[1]),x)\n",
    "   # print(gAux2.shape)\n",
    "    #temp=np.multiply(lamb_da,regDV.reshape((11,1)))\n",
    "    #print(temp.shape)\n",
    "    dfv=-(np.sum(gAux2)).T+np.multiply(lamb_da,regDV)\n",
    "    #temp2=-(np.sum(gAux2)).T\n",
    "    #print(temp2.shape)\n",
    "    dfv=(dfv.reshape(dfv.shape[0],))\n",
    "    return dfv"
   ]
  },
  {
   "cell_type": "code",
   "execution_count": 98,
   "metadata": {
    "collapsed": true
   },
   "outputs": [],
   "source": [
    "def cost_func_gradt1(t1,z,t,y,t0,regW,bReg0,bReg1):\n",
    "    g01=gammapdf(z,5,t0)\n",
    "    g10=gammapdf(z,1,t1)\n",
    "    \n",
    "    g00=1-g01\n",
    "    g11=1-g10\n",
    "    \n",
    "    p1=sigmoid(t)\n",
    "    p1=p1.reshape(p1.shape[0],1)\n",
    "    p0=1-p1\n",
    "    \n",
    "    s0=np.multiply(g00,p0)+np.multiply(g10,p1)\n",
    "    s1=np.multiply(g01,p0)+np.multiply(g11,p1)\n",
    "    \n",
    "    s0[s0==0]=np.finfo(float).eps\n",
    "    s1[s1==0]=np.finfo(float).eps\n",
    "    \n",
    "    fv=-np.sum(np.multiply(y,np.log(s1))+np.multiply(1-y,np.log(s0)))+regW+np.multiply(bReg0,np.log(t0-1))+np.multiply(bReg1,np.log(t1-1))\n",
    "    \n",
    "    return fv"
   ]
  },
  {
   "cell_type": "code",
   "execution_count": 99,
   "metadata": {
    "collapsed": true
   },
   "outputs": [],
   "source": [
    "def cost_func_gradt0(t0,z,t,y,t1,regW,bReg0,bReg1):\n",
    "    g01=gammapdf(z,5,t0)\n",
    "    g10=gammapdf(z,1,t1)\n",
    "    \n",
    "    g00=1-g01\n",
    "    g11=1-g10\n",
    "    \n",
    "    p1=sigmoid(t)\n",
    "    p1=p1.reshape(p1.shape[0],1)\n",
    "    p0=1-p1\n",
    "    \n",
    "    s0=np.multiply(g00,p0)+np.multiply(g10,p1)\n",
    "    s1=np.multiply(g01,p0)+np.multiply(g11,p1)\n",
    "    \n",
    "    s0[s0==0]=np.finfo(float).eps\n",
    "    s1[s1==0]=np.finfo(float).eps\n",
    "    \n",
    "    fv=-np.sum(np.multiply(y,np.log(s1))+np.multiply(1-y,np.log(s0)))+regW+np.multiply(bReg0,np.log(t0-1))+np.multiply(bReg1,np.log(t1-1))\n",
    "    \n",
    "    return fv"
   ]
  },
  {
   "cell_type": "code",
   "execution_count": 100,
   "metadata": {
    "collapsed": true
   },
   "outputs": [],
   "source": [
    "def gradt1(t1,z,t,y,t0,regW,bReg0,bReg1):\n",
    "    g01=gammapdf(z,5,t0)\n",
    "    g10=gammapdf(z,1,t1)\n",
    "    \n",
    "    g00=1-g01\n",
    "    g11=1-g10\n",
    "    \n",
    "    p1=sigmoid(t)\n",
    "    p1=p1.reshape(p1.shape[0],1)\n",
    "    p0=1-p1\n",
    "    \n",
    "    s0=np.multiply(g00,p0)+np.multiply(g10,p1)\n",
    "    \n",
    "    s1=np.multiply(g01,p0)+np.multiply(g11,p1)\n",
    "    \n",
    "    s0[s0==0]=np.finfo(float).eps\n",
    "    s1[s1==0]=np.finfo(float).eps\n",
    "    \n",
    "    tmp1=np.divide((1-y),s0)-np.divide(y,s1)\n",
    "    tmp2=np.divide(np.multiply(g10,z),np.power(t1,2))-np.divide(g10,t1)\n",
    "    \n",
    "    gAux1=np.multiply(np.multiply(tmp1,tmp2),p1)\n",
    "    dfv=-np.sum(gAux1).T+np.divide(bReg1,np.log(t1-1))\n",
    "    \n",
    "    dfv=(dfv.reshape(dfv.shape[0],))\n",
    "    return dfv\n",
    "    "
   ]
  },
  {
   "cell_type": "code",
   "execution_count": 101,
   "metadata": {
    "collapsed": true
   },
   "outputs": [],
   "source": [
    "def gradt0(t0,z,t,y,t1,regW,bReg0,bReg1):\n",
    "    g01=gammapdf(z,5,t0)\n",
    "    g10=gammapdf(z,1,t1)\n",
    "    \n",
    "    g00=1-g01\n",
    "    g11=1-g10\n",
    "    \n",
    "    p1=sigmoid(t)\n",
    "    p1=p1.reshape(p1.shape[0],1)\n",
    "    p0=1-p1\n",
    "    \n",
    "    s0=np.multiply(g00,p0)+np.multiply(g10,p1)\n",
    "    s1=np.multiply(g01,p0)+np.multiply(g11,p1)\n",
    "    \n",
    "    s0[s0==0]=np.finfo(float).eps\n",
    "    s1[s1==0]=np.finfo(float).eps\n",
    "    \n",
    "    tmp1=-np.divide((1-y),s0)+np.divide(y,s1)\n",
    "    tmp2=np.divide(np.multiply(g01,z),np.power(t0,2))-np.divide(g01,t0)\n",
    "    \n",
    "    gAux1=np.multiply(np.multiply(tmp1,tmp2),p0)\n",
    "    dfv=-np.sum(gAux1).T+np.divide(bReg0,np.log(t0-1))\n",
    "    \n",
    "    dfv=(dfv.reshape(dfv.shape[0],))\n",
    "    return dfv"
   ]
  },
  {
   "cell_type": "code",
   "execution_count": 102,
   "metadata": {
    "collapsed": true
   },
   "outputs": [],
   "source": [
    "X_train,X_test,Y_train,Y_test=train_test_split(X,Y,test_size=0.2,random_state=42,shuffle=True)\n",
    "X_train=addbias(X_train)\n",
    "X_test=addbias(X_test)\n",
    "Y_train=Y_train.values.reshape(n_train_data,1)\n",
    "Y_test=Y_test.values.reshape(n_test_data,1)\n",
    "n_train_data,dim=X_train.shape\n",
    "n_test_data,dim_test=X_test.shape\n",
    "winit = np.random.rand(dim,1)\n",
    "yz, fd = injectLabelNoise(Y_train,[0.8,0.2])"
   ]
  },
  {
   "cell_type": "code",
   "execution_count": 103,
   "metadata": {},
   "outputs": [],
   "source": [
    "wg, t0, t1, llhg = glr(np.random.randn(dim,1), X_train, yz, regType=\"lasso\")"
   ]
  },
  {
   "cell_type": "code",
   "execution_count": 104,
   "metadata": {
    "collapsed": true
   },
   "outputs": [],
   "source": [
    "wg=wg.reshape(wg.shape[0],1)"
   ]
  },
  {
   "cell_type": "code",
   "execution_count": 105,
   "metadata": {},
   "outputs": [
    {
     "data": {
      "text/plain": [
       "array([[ 0.21854066],\n",
       "       [-1.37547409],\n",
       "       [ 0.41387473],\n",
       "       [-1.06632919],\n",
       "       [ 0.86941694],\n",
       "       [ 0.73717589],\n",
       "       [-0.19299699],\n",
       "       [ 1.14675387],\n",
       "       [ 0.54022831]])"
      ]
     },
     "execution_count": 105,
     "metadata": {},
     "output_type": "execute_result"
    }
   ],
   "source": [
    "wg"
   ]
  },
  {
   "cell_type": "code",
   "execution_count": 106,
   "metadata": {},
   "outputs": [
    {
     "data": {
      "text/plain": [
       "[array([-8042.3142699]),\n",
       " array([-1719418.70108138]),\n",
       " array([-1755325.97134448]),\n",
       " array([-1791046.97362626]),\n",
       " array([-1826592.04240499]),\n",
       " array([-1861970.67356687]),\n",
       " array([-1897191.61496636]),\n",
       " array([-1932262.94477792]),\n",
       " array([-1967192.1396376]),\n",
       " array([-2001986.13415658]),\n",
       " array([-2036651.3730843]),\n",
       " array([-2071193.85730385]),\n",
       " array([-2105619.18432818]),\n",
       " array([-2139932.58431746]),\n",
       " array([-2174138.95205129]),\n",
       " array([-2208242.87544355]),\n",
       " array([-2242248.66104825]),\n",
       " array([-2276160.35693758]),\n",
       " array([-2309981.77325214]),\n",
       " array([-2343716.50074037]),\n",
       " array([-2377367.9274848]),\n",
       " array([-2410939.25405147]),\n",
       " array([-2444433.50723825]),\n",
       " array([-2477853.55256666]),\n",
       " array([-2511202.10564246]),\n",
       " array([-2544481.74253011]),\n",
       " array([-2577694.90923316]),\n",
       " array([-2607445.0765433]),\n",
       " array([-2624091.80891564]),\n",
       " array([-2656503.34271297]),\n",
       " array([-2673084.41790764]),\n",
       " array([-2705898.21863056]),\n",
       " array([-2717966.48560462]),\n",
       " array([-2733794.97482517]),\n",
       " array([-2733794.97482517]),\n",
       " array([-2733794.97482517]),\n",
       " array([-2733794.97482517]),\n",
       " array([-2733794.97482517]),\n",
       " array([-2733794.97482517]),\n",
       " array([-2733794.97482517]),\n",
       " array([-2733794.97482517]),\n",
       " array([-2733794.97482517]),\n",
       " array([-2733794.97482517]),\n",
       " array([-2733794.97482517]),\n",
       " array([-2733794.97482517]),\n",
       " array([-2733794.97482517]),\n",
       " array([-2733794.97482517]),\n",
       " array([-2733794.97482517]),\n",
       " array([-2733794.97482517])]"
      ]
     },
     "execution_count": 106,
     "metadata": {},
     "output_type": "execute_result"
    }
   ],
   "source": [
    "(llhg)"
   ]
  },
  {
   "cell_type": "code",
   "execution_count": 107,
   "metadata": {},
   "outputs": [
    {
     "data": {
      "text/plain": [
       "0.44155844155844154"
      ]
     },
     "execution_count": 107,
     "metadata": {},
     "output_type": "execute_result"
    }
   ],
   "source": [
    "(np.sum(np.sign(np.dot(X_test,wg))!=castLabel(Y_test,-1))/len(Y_test))"
   ]
  },
  {
   "cell_type": "code",
   "execution_count": 108,
   "metadata": {
    "collapsed": true
   },
   "outputs": [],
   "source": [
    "probs_glr=sigmoid(np.dot(X_test,wg))"
   ]
  },
  {
   "cell_type": "code",
   "execution_count": 109,
   "metadata": {
    "collapsed": true
   },
   "outputs": [],
   "source": [
    "Y_test=castLabel(Y_test,0)"
   ]
  },
  {
   "cell_type": "code",
   "execution_count": 110,
   "metadata": {
    "collapsed": true
   },
   "outputs": [],
   "source": [
    "fpr, tpr, thresholds = roc_curve(Y_test.ravel(),probs_glr.ravel())\n",
    "roc_auc = auc(fpr,tpr)"
   ]
  },
  {
   "cell_type": "code",
   "execution_count": 111,
   "metadata": {},
   "outputs": [
    {
     "data": {
      "image/png": "[encoded data removed]",
      "text/plain": [
       "<matplotlib.figure.Figure at 0xc0f29e8>"
      ]
     },
     "metadata": {},
     "output_type": "display_data"
    }
   ],
   "source": [
    "plt.title('Receiver Operating Characteristic')\n",
    "plt.plot(fpr, tpr, 'b',label='AUC = %0.2f'% roc_auc)\n",
    "plt.legend(loc='lower right')\n",
    "plt.plot([0,1],[0,1],'r--')\n",
    "plt.xlim([-0.1,1.0])\n",
    "plt.ylim([-0.1,1.01])\n",
    "plt.ylabel('True Positive Rate')\n",
    "plt.xlabel('False Positive Rate')\n",
    "plt.show()"
   ]
  },
  {
   "cell_type": "code",
   "execution_count": 147,
   "metadata": {
    "collapsed": true
   },
   "outputs": [],
   "source": [
    "import numpy as np\n",
    "from scipy import optimize\n",
    "from __future__ import division"
   ]
  },
  {
   "cell_type": "code",
   "execution_count": 145,
   "metadata": {
    "collapsed": true
   },
   "outputs": [],
   "source": [
    "class NN_1HL(object):\n",
    "    \n",
    "    def __init__(self, reg_lambda=0, epsilon_init=0.12, hidden_layer_size=25, opti_method='TNC', maxiter=500):\n",
    "        self.reg_lambda = reg_lambda\n",
    "        self.epsilon_init = epsilon_init\n",
    "        self.hidden_layer_size = hidden_layer_size\n",
    "        self.activation_func = self.sigmoid\n",
    "        self.activation_func_prime = self.sigmoid_prime\n",
    "        self.method = opti_method\n",
    "        self.maxiter = maxiter\n",
    "    \n",
    "    def sigmoid(self, z):\n",
    "        return 1 / (1 + np.exp(-z))\n",
    "    \n",
    "    def sigmoid_prime(self, z):\n",
    "        sig = self.sigmoid(z)\n",
    "        return sig * (1 - sig)\n",
    "    \n",
    "    def sumsqr(self, a):\n",
    "        return np.sum(a ** 2)\n",
    "    \n",
    "    def rand_init(self, l_in, l_out):\n",
    "        return np.random.rand(l_out, l_in + 1) * 2 * self.epsilon_init - self.epsilon_init\n",
    "    \n",
    "    def pack_thetas(self, t1, t2):\n",
    "        return np.concatenate((t1.reshape(-1), t2.reshape(-1)))\n",
    "    \n",
    "    def unpack_thetas(self, thetas, input_layer_size, hidden_layer_size, num_labels):\n",
    "        t1_start = 0\n",
    "        t1_end = hidden_layer_size * (input_layer_size + 1)\n",
    "        t1 = thetas[t1_start:t1_end].reshape((hidden_layer_size, input_layer_size + 1))\n",
    "        t2 = thetas[t1_end:].reshape((num_labels, hidden_layer_size + 1))\n",
    "        return t1, t2\n",
    "    \n",
    "    def _forward(self, X, t1, t2):\n",
    "        m = X.shape[0]\n",
    "        ones = None\n",
    "        if len(X.shape) == 1:\n",
    "            ones = np.array(1).reshape(1,)\n",
    "        else:\n",
    "            ones = np.ones(m).reshape(m,1)\n",
    "        \n",
    "        # Input layer\n",
    "        a1 = np.hstack((ones, X))\n",
    "        \n",
    "        # Hidden Layer\n",
    "        z2 = np.dot(t1, a1.T)\n",
    "        a2 = self.activation_func(z2)\n",
    "        a2 = np.hstack((ones, a2.T))\n",
    "        \n",
    "        # Output layer\n",
    "        z3 = np.dot(t2, a2.T)\n",
    "        a3 = self.activation_func(z3)\n",
    "        return a1, z2, a2, z3, a3\n",
    "    \n",
    "    def function(self, thetas, input_layer_size, hidden_layer_size, num_labels, X, y, reg_lambda):\n",
    "        t1, t2 = self.unpack_thetas(thetas, input_layer_size, hidden_layer_size, num_labels)\n",
    "        \n",
    "        m = X.shape[0]\n",
    "        Y = np.eye(num_labels)[y]\n",
    "        \n",
    "        _, _, _, _, h = self._forward(X, t1, t2)\n",
    "        costPositive = -Y * np.log(h).T\n",
    "        costNegative = (1 - Y) * np.log(1 - h).T\n",
    "        cost = costPositive - costNegative\n",
    "        J = np.sum(cost) / m\n",
    "        \n",
    "        if reg_lambda != 0:\n",
    "            t1f = t1[:, 1:]\n",
    "            t2f = t2[:, 1:]\n",
    "            reg = (self.reg_lambda / (2 * m)) * (self.sumsqr(t1f) + self.sumsqr(t2f))\n",
    "            J = J + reg\n",
    "        return J\n",
    "        \n",
    "    def function_prime(self, thetas, input_layer_size, hidden_layer_size, num_labels, X, y, reg_lambda):\n",
    "        t1, t2 = self.unpack_thetas(thetas, input_layer_size, hidden_layer_size, num_labels)\n",
    "        \n",
    "        m = X.shape[0]\n",
    "        t1f = t1[:, 1:]\n",
    "        t2f = t2[:, 1:]\n",
    "        Y = np.eye(num_labels)[y]\n",
    "        \n",
    "        Delta1, Delta2 = 0, 0\n",
    "        for i, row in enumerate(X):\n",
    "            a1, z2, a2, z3, a3 = self._forward(row, t1, t2)\n",
    "            \n",
    "            # Backprop\n",
    "            d3 = a3 - Y[i, :].T\n",
    "            d2 = np.dot(t2f.T, d3) * self.activation_func_prime(z2)\n",
    "            \n",
    "            Delta2 += np.dot(d3[np.newaxis].T, a2[np.newaxis])\n",
    "            Delta1 += np.dot(d2[np.newaxis].T, a1[np.newaxis])\n",
    "            \n",
    "        Theta1_grad = (1 / m) * Delta1\n",
    "        Theta2_grad = (1 / m) * Delta2\n",
    "        \n",
    "        if reg_lambda != 0:\n",
    "            Theta1_grad[:, 1:] = Theta1_grad[:, 1:] + (reg_lambda / m) * t1f\n",
    "            Theta2_grad[:, 1:] = Theta2_grad[:, 1:] + (reg_lambda / m) * t2f\n",
    "        th=self.pack_thetas(Theta1_grad, Theta2_grad)\n",
    "        #print(th.shape)\n",
    "        return th\n",
    "    \n",
    "    def fit(self, X, y):\n",
    "        num_features = X.shape[0]\n",
    "        input_layer_size = X.shape[1]\n",
    "        num_labels = 2 #len(set(y))\n",
    "        \n",
    "        theta1_0 = self.rand_init(input_layer_size, self.hidden_layer_size)\n",
    "        theta2_0 = self.rand_init(self.hidden_layer_size, num_labels)\n",
    "        thetas0 = self.pack_thetas(theta1_0, theta2_0)\n",
    "        \n",
    "        options = {'maxiter': self.maxiter}\n",
    "        _res = optimize.minimize(self.function, thetas0, jac=self.function_prime, method=self.method, \n",
    "                                 args=(input_layer_size, self.hidden_layer_size, num_labels, X, y, 0), options=options)\n",
    "        \n",
    "        self.t1, self.t2 = self.unpack_thetas(_res.x, input_layer_size, self.hidden_layer_size, num_labels)\n",
    "    \n",
    "    def predict(self, X):\n",
    "        return self.predict_proba(X).argmax(0)\n",
    "    \n",
    "    def predict_proba(self, X):\n",
    "        _, _, _, _, h = self._forward(X, self.t1, self.t2)\n",
    "        return h"
   ]
  },
  {
   "cell_type": "code",
   "execution_count": 163,
   "metadata": {
    "collapsed": true
   },
   "outputs": [],
   "source": [
    "x_train,x_test,y_train,y_test=train_test_split(X,Y,test_size=0.2,stratify=Y,random_state=0)"
   ]
  },
  {
   "cell_type": "code",
   "execution_count": 152,
   "metadata": {
    "collapsed": true
   },
   "outputs": [],
   "source": [
    "yz=castLabel(yz,0)"
   ]
  },
  {
   "cell_type": "code",
   "execution_count": 153,
   "metadata": {
    "collapsed": true
   },
   "outputs": [],
   "source": [
    "Y_train=pd.DataFrame(yz,columns=['class'])"
   ]
  },
  {
   "cell_type": "code",
   "execution_count": 154,
   "metadata": {},
   "outputs": [
    {
     "data": {
      "text/html": [
       "<div>\n",
       "<style>\n",
       "    .dataframe thead tr:only-child th {\n",
       "        text-align: right;\n",
       "    }\n",
       "\n",
       "    .dataframe thead th {\n",
       "        text-align: left;\n",
       "    }\n",
       "\n",
       "    .dataframe tbody tr th {\n",
       "        vertical-align: top;\n",
       "    }\n",
       "</style>\n",
       "<table border=\"1\" class=\"dataframe\">\n",
       "  <thead>\n",
       "    <tr style=\"text-align: right;\">\n",
       "      <th></th>\n",
       "      <th>class</th>\n",
       "    </tr>\n",
       "  </thead>\n",
       "  <tbody>\n",
       "    <tr>\n",
       "      <th>0</th>\n",
       "      <td>1.0</td>\n",
       "    </tr>\n",
       "    <tr>\n",
       "      <th>1</th>\n",
       "      <td>1.0</td>\n",
       "    </tr>\n",
       "    <tr>\n",
       "      <th>2</th>\n",
       "      <td>1.0</td>\n",
       "    </tr>\n",
       "    <tr>\n",
       "      <th>3</th>\n",
       "      <td>0.0</td>\n",
       "    </tr>\n",
       "    <tr>\n",
       "      <th>4</th>\n",
       "      <td>1.0</td>\n",
       "    </tr>\n",
       "  </tbody>\n",
       "</table>\n",
       "</div>"
      ],
      "text/plain": [
       "   class\n",
       "0    1.0\n",
       "1    1.0\n",
       "2    1.0\n",
       "3    0.0\n",
       "4    1.0"
      ]
     },
     "execution_count": 154,
     "metadata": {},
     "output_type": "execute_result"
    }
   ],
   "source": [
    "Y_train.head()"
   ]
  },
  {
   "cell_type": "code",
   "execution_count": 159,
   "metadata": {
    "collapsed": true
   },
   "outputs": [],
   "source": [
    "Y_train['class']=Y_train['class'].map({1.0:1,0.0:0})"
   ]
  },
  {
   "cell_type": "code",
   "execution_count": 164,
   "metadata": {},
   "outputs": [
    {
     "name": "stderr",
     "output_type": "stream",
     "text": [
      "C:\\Users\\namanda\\AppData\\Local\\Continuum\\anaconda3\\lib\\site-packages\\ipykernel_launcher.py:64: RuntimeWarning: divide by zero encountered in log\n",
      "C:\\Users\\namanda\\AppData\\Local\\Continuum\\anaconda3\\lib\\site-packages\\ipykernel_launcher.py:64: RuntimeWarning: invalid value encountered in multiply\n"
     ]
    }
   ],
   "source": [
    "nn = NN_1HL()\n",
    "#nn.fit(X_train, Y_train.values.ravel())\n",
    "nn.fit(x_train.values, y_train.values.ravel())"
   ]
  },
  {
   "cell_type": "code",
   "execution_count": 67,
   "metadata": {
    "collapsed": true
   },
   "outputs": [],
   "source": [
    "from sklearn.metrics import accuracy_score\n",
    "#accuracy_score(Y_test, nn.predict(X_test))"
   ]
  },
  {
   "cell_type": "code",
   "execution_count": 165,
   "metadata": {},
   "outputs": [
    {
     "data": {
      "text/plain": [
       "0.93859649122807021"
      ]
     },
     "execution_count": 165,
     "metadata": {},
     "output_type": "execute_result"
    }
   ],
   "source": [
    "from sklearn.metrics import accuracy_score\n",
    "accuracy_score(y_test, nn.predict(x_test))"
   ]
  },
  {
   "cell_type": "code",
   "execution_count": null,
   "metadata": {
    "collapsed": true
   },
   "outputs": [],
   "source": []
  }
 ],
 "metadata": {
  "kernelspec": {
   "display_name": "Python 3",
   "language": "python",
   "name": "python3"
  },
  "language_info": {
   "codemirror_mode": {
    "name": "ipython",
    "version": 3
   },
   "file_extension": ".py",
   "mimetype": "text/x-python",
   "name": "python",
   "nbconvert_exporter": "python",
   "pygments_lexer": "ipython3",
   "version": "3.6.3"
  }
 },
 "nbformat": 4,
 "nbformat_minor": 2
}
