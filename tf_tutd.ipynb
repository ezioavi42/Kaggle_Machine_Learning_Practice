{
 "cells": [
  {
   "cell_type": "code",
   "execution_count": 1,
   "metadata": {},
   "outputs": [],
   "source": [
    "import tensorflow as tf\n",
    "import pandas as pd\n",
    "import seaborn as sns\n",
    "import matplotlib.pyplot as plt"
   ]
  },
  {
   "cell_type": "code",
   "execution_count": 2,
   "metadata": {},
   "outputs": [],
   "source": [
    "data=pd.read_csv(\"diabetes.csv\")"
   ]
  },
  {
   "cell_type": "code",
   "execution_count": 3,
   "metadata": {},
   "outputs": [
    {
     "data": {
      "text/html": [
       "<div>\n",
       "<style>\n",
       "    .dataframe thead tr:only-child th {\n",
       "        text-align: right;\n",
       "    }\n",
       "\n",
       "    .dataframe thead th {\n",
       "        text-align: left;\n",
       "    }\n",
       "\n",
       "    .dataframe tbody tr th {\n",
       "        vertical-align: top;\n",
       "    }\n",
       "</style>\n",
       "<table border=\"1\" class=\"dataframe\">\n",
       "  <thead>\n",
       "    <tr style=\"text-align: right;\">\n",
       "      <th></th>\n",
       "      <th>Pregnancies</th>\n",
       "      <th>Glucose</th>\n",
       "      <th>BloodPressure</th>\n",
       "      <th>SkinThickness</th>\n",
       "      <th>Insulin</th>\n",
       "      <th>BMI</th>\n",
       "      <th>DiabetesPedigreeFunction</th>\n",
       "      <th>Age</th>\n",
       "      <th>Outcome</th>\n",
       "    </tr>\n",
       "  </thead>\n",
       "  <tbody>\n",
       "    <tr>\n",
       "      <th>0</th>\n",
       "      <td>6</td>\n",
       "      <td>148</td>\n",
       "      <td>72</td>\n",
       "      <td>35</td>\n",
       "      <td>0</td>\n",
       "      <td>33.6</td>\n",
       "      <td>0.627</td>\n",
       "      <td>50</td>\n",
       "      <td>1</td>\n",
       "    </tr>\n",
       "    <tr>\n",
       "      <th>1</th>\n",
       "      <td>1</td>\n",
       "      <td>85</td>\n",
       "      <td>66</td>\n",
       "      <td>29</td>\n",
       "      <td>0</td>\n",
       "      <td>26.6</td>\n",
       "      <td>0.351</td>\n",
       "      <td>31</td>\n",
       "      <td>0</td>\n",
       "    </tr>\n",
       "    <tr>\n",
       "      <th>2</th>\n",
       "      <td>8</td>\n",
       "      <td>183</td>\n",
       "      <td>64</td>\n",
       "      <td>0</td>\n",
       "      <td>0</td>\n",
       "      <td>23.3</td>\n",
       "      <td>0.672</td>\n",
       "      <td>32</td>\n",
       "      <td>1</td>\n",
       "    </tr>\n",
       "    <tr>\n",
       "      <th>3</th>\n",
       "      <td>1</td>\n",
       "      <td>89</td>\n",
       "      <td>66</td>\n",
       "      <td>23</td>\n",
       "      <td>94</td>\n",
       "      <td>28.1</td>\n",
       "      <td>0.167</td>\n",
       "      <td>21</td>\n",
       "      <td>0</td>\n",
       "    </tr>\n",
       "    <tr>\n",
       "      <th>4</th>\n",
       "      <td>0</td>\n",
       "      <td>137</td>\n",
       "      <td>40</td>\n",
       "      <td>35</td>\n",
       "      <td>168</td>\n",
       "      <td>43.1</td>\n",
       "      <td>2.288</td>\n",
       "      <td>33</td>\n",
       "      <td>1</td>\n",
       "    </tr>\n",
       "  </tbody>\n",
       "</table>\n",
       "</div>"
      ],
      "text/plain": [
       "   Pregnancies  Glucose  BloodPressure  SkinThickness  Insulin   BMI  \\\n",
       "0            6      148             72             35        0  33.6   \n",
       "1            1       85             66             29        0  26.6   \n",
       "2            8      183             64              0        0  23.3   \n",
       "3            1       89             66             23       94  28.1   \n",
       "4            0      137             40             35      168  43.1   \n",
       "\n",
       "   DiabetesPedigreeFunction  Age  Outcome  \n",
       "0                     0.627   50        1  \n",
       "1                     0.351   31        0  \n",
       "2                     0.672   32        1  \n",
       "3                     0.167   21        0  \n",
       "4                     2.288   33        1  "
      ]
     },
     "execution_count": 3,
     "metadata": {},
     "output_type": "execute_result"
    }
   ],
   "source": [
    "data.head()"
   ]
  },
  {
   "cell_type": "code",
   "execution_count": 11,
   "metadata": {},
   "outputs": [
    {
     "data": {
      "text/plain": [
       "(768, 9)"
      ]
     },
     "execution_count": 11,
     "metadata": {},
     "output_type": "execute_result"
    }
   ],
   "source": [
    "data.shape"
   ]
  },
  {
   "cell_type": "code",
   "execution_count": 4,
   "metadata": {},
   "outputs": [],
   "source": [
    "from sklearn.preprocessing import StandardScaler\n",
    "from sklearn.model_selection import train_test_split"
   ]
  },
  {
   "cell_type": "code",
   "execution_count": 5,
   "metadata": {},
   "outputs": [],
   "source": [
    "X=data.drop([\"Outcome\"],axis=1)\n",
    "Y=data[[\"Outcome\"]]"
   ]
  },
  {
   "cell_type": "code",
   "execution_count": 8,
   "metadata": {},
   "outputs": [],
   "source": [
    "X_train,X_test,Y_train,Y_test=train_test_split(X,Y,test_size=0.2,random_state=0)"
   ]
  },
  {
   "cell_type": "code",
   "execution_count": 9,
   "metadata": {},
   "outputs": [],
   "source": [
    "X_train=StandardScaler().fit_transform(X_train)\n",
    "X_test=StandardScaler().fit_transform(X_test)"
   ]
  },
  {
   "cell_type": "code",
   "execution_count": 10,
   "metadata": {},
   "outputs": [
    {
     "data": {
      "text/plain": [
       "(614, 8)"
      ]
     },
     "execution_count": 10,
     "metadata": {},
     "output_type": "execute_result"
    }
   ],
   "source": [
    "X_train.shape"
   ]
  },
  {
   "cell_type": "code",
   "execution_count": null,
   "metadata": {},
   "outputs": [],
   "source": []
  },
  {
   "cell_type": "code",
   "execution_count": 12,
   "metadata": {},
   "outputs": [],
   "source": [
    "n_nodes_hl1 = 100\n",
    "n_nodes_hl2 = 50\n",
    "#n_nodes_hl3 = 500\n",
    "n_classes = 2\n",
    "batch_size = 15"
   ]
  },
  {
   "cell_type": "code",
   "execution_count": 17,
   "metadata": {},
   "outputs": [],
   "source": [
    "Y_train[\"Outcome\"]=Y_train[\"Outcome\"].astype(\"str\")"
   ]
  },
  {
   "cell_type": "code",
   "execution_count": 18,
   "metadata": {},
   "outputs": [],
   "source": [
    "Y_test[\"Outcome\"]=Y_test[\"Outcome\"].astype(\"str\")"
   ]
  },
  {
   "cell_type": "code",
   "execution_count": 19,
   "metadata": {},
   "outputs": [],
   "source": [
    "Y_train=pd.get_dummies(Y_train)\n",
    "Y_test=pd.get_dummies(Y_test)"
   ]
  },
  {
   "cell_type": "code",
   "execution_count": 20,
   "metadata": {},
   "outputs": [
    {
     "data": {
      "text/html": [
       "<div>\n",
       "<style>\n",
       "    .dataframe thead tr:only-child th {\n",
       "        text-align: right;\n",
       "    }\n",
       "\n",
       "    .dataframe thead th {\n",
       "        text-align: left;\n",
       "    }\n",
       "\n",
       "    .dataframe tbody tr th {\n",
       "        vertical-align: top;\n",
       "    }\n",
       "</style>\n",
       "<table border=\"1\" class=\"dataframe\">\n",
       "  <thead>\n",
       "    <tr style=\"text-align: right;\">\n",
       "      <th></th>\n",
       "      <th>Outcome_0</th>\n",
       "      <th>Outcome_1</th>\n",
       "    </tr>\n",
       "  </thead>\n",
       "  <tbody>\n",
       "    <tr>\n",
       "      <th>661</th>\n",
       "      <td>0</td>\n",
       "      <td>1</td>\n",
       "    </tr>\n",
       "    <tr>\n",
       "      <th>122</th>\n",
       "      <td>1</td>\n",
       "      <td>0</td>\n",
       "    </tr>\n",
       "    <tr>\n",
       "      <th>113</th>\n",
       "      <td>1</td>\n",
       "      <td>0</td>\n",
       "    </tr>\n",
       "    <tr>\n",
       "      <th>14</th>\n",
       "      <td>0</td>\n",
       "      <td>1</td>\n",
       "    </tr>\n",
       "    <tr>\n",
       "      <th>529</th>\n",
       "      <td>1</td>\n",
       "      <td>0</td>\n",
       "    </tr>\n",
       "  </tbody>\n",
       "</table>\n",
       "</div>"
      ],
      "text/plain": [
       "     Outcome_0  Outcome_1\n",
       "661          0          1\n",
       "122          1          0\n",
       "113          1          0\n",
       "14           0          1\n",
       "529          1          0"
      ]
     },
     "execution_count": 20,
     "metadata": {},
     "output_type": "execute_result"
    }
   ],
   "source": [
    "Y_test.head()"
   ]
  },
  {
   "cell_type": "code",
   "execution_count": 28,
   "metadata": {},
   "outputs": [],
   "source": [
    "Y_train=Y_train.values\n",
    "Y_test=Y_test.values"
   ]
  },
  {
   "cell_type": "code",
   "execution_count": 23,
   "metadata": {},
   "outputs": [],
   "source": [
    "x = tf.placeholder('float')\n",
    "y = tf.placeholder('float')"
   ]
  },
  {
   "cell_type": "code",
   "execution_count": 33,
   "metadata": {},
   "outputs": [],
   "source": [
    "n_nodes_hl1 = 100\n",
    "n_nodes_hl2 = 50\n",
    "#n_nodes_hl3 = 500\n",
    "\n",
    "n_classes = 2\n",
    "batch_size = 10"
   ]
  },
  {
   "cell_type": "code",
   "execution_count": 38,
   "metadata": {},
   "outputs": [],
   "source": [
    "import numpy as np"
   ]
  },
  {
   "cell_type": "code",
   "execution_count": 26,
   "metadata": {},
   "outputs": [],
   "source": [
    "hidden_1_layer = {'f_fum':n_nodes_hl1,\n",
    "                  'weight':tf.Variable(tf.random_normal([len(X_train[0]), n_nodes_hl1])),\n",
    "                  'bias':tf.Variable(tf.random_normal([n_nodes_hl1]))}\n",
    "\n",
    "hidden_2_layer = {'f_fum':n_nodes_hl2,\n",
    "                  'weight':tf.Variable(tf.random_normal([n_nodes_hl1, n_nodes_hl2])),\n",
    "                  'bias':tf.Variable(tf.random_normal([n_nodes_hl2]))}\n",
    "\n",
    "#hidden_3_layer = {'f_fum':n_nodes_hl3,\n",
    "#                  'weight':tf.Variable(tf.random_normal([n_nodes_hl2, n_nodes_hl3])),\n",
    "#                  'bias':tf.Variable(tf.random_normal([n_nodes_hl3]))}\n",
    "\n",
    "output_layer = {'f_fum':None,\n",
    "                'weight':tf.Variable(tf.random_normal([n_nodes_hl2, n_classes])),\n",
    "                'bias':tf.Variable(tf.random_normal([n_classes])),}\n"
   ]
  },
  {
   "cell_type": "code",
   "execution_count": 59,
   "metadata": {},
   "outputs": [],
   "source": [
    "# Nothing changes\n",
    "def neural_network_model(data):\n",
    "\n",
    "    l1 = tf.add(tf.matmul(data,hidden_1_layer['weight']), hidden_1_layer['bias'])\n",
    "    l1 = tf.nn.relu(l1)\n",
    "\n",
    "    l2 = tf.add(tf.matmul(l1,hidden_2_layer['weight']), hidden_2_layer['bias'])\n",
    "    l2 = tf.nn.relu(l2)\n",
    "\n",
    "    #l3 = tf.add(tf.matmul(l2,hidden_3_layer['weight']), hidden_3_layer['bias'])\n",
    "    #l3 = tf.nn.relu(l3)\n",
    "\n",
    "    output = tf.matmul(l2,output_layer['weight']) + output_layer['bias']\n",
    "    output=tf.nn.softmax(output)\n",
    "\n",
    "    return output"
   ]
  },
  {
   "cell_type": "code",
   "execution_count": 61,
   "metadata": {},
   "outputs": [],
   "source": [
    "\n",
    "def train_neural_network(x):\n",
    "\tprediction = neural_network_model(x)\n",
    "\tcost = tf.reduce_mean( tf.nn.softmax_cross_entropy_with_logits(logits=prediction, labels=y) )\n",
    "\toptimizer = tf.train.AdamOptimizer(learning_rate=0.001).minimize(cost)\n",
    "\thm_epochs = 10\n",
    "\twith tf.Session() as sess:\n",
    "\t\tsess.run(tf.initialize_all_variables())\n",
    "\t    \n",
    "\t\tfor epoch in range(hm_epochs):\n",
    "\t\t\tepoch_loss = 0\n",
    "\t\t\ti=0\n",
    "\t\t\twhile i < len(X_test):\n",
    "\t\t\t\tstart = i\n",
    "\t\t\t\tend = i+batch_size\n",
    "\t\t\t\tbatch_x = np.array(X_train[start:end])\n",
    "\t\t\t\tbatch_y = np.array(Y_train[start:end])\n",
    "\n",
    "\t\t\t\t_, c = sess.run([optimizer, cost], feed_dict={x: batch_x,\n",
    "\t\t\t\t                                              y: batch_y})\n",
    "\t\t\t\tepoch_loss += c\n",
    "\t\t\t\ti+=batch_size\n",
    "\t\t\t\t\n",
    "\t\t\tprint('Epoch', epoch+1, 'completed out of',hm_epochs,'loss:',epoch_loss)\n",
    "\t\tcorrect = tf.equal(tf.argmax(prediction, 1), tf.argmax(y, 1))\n",
    "\t\taccuracy = tf.reduce_mean(tf.cast(correct, 'float'))\n",
    "\t\tprint(sess.run(prediction, feed_dict={x: X_test}))\n",
    "\t\t#print(pred)\n",
    "\t\t#prediction=tf.argmax(y,1)\n",
    "\t\t#print (\"predictions\", prediction.eval(feed_dict={x: X_test}, session=sess))\n",
    "\t\tprint('Accuracy:',accuracy.eval({x:X_test, y:Y_test}))\n"
   ]
  },
  {
   "cell_type": "code",
   "execution_count": 62,
   "metadata": {},
   "outputs": [
    {
     "name": "stdout",
     "output_type": "stream",
     "text": [
      "Epoch 1 completed out of 10 loss: 14.6586507559\n",
      "Epoch 2 completed out of 10 loss: 14.3468120098\n",
      "Epoch 3 completed out of 10 loss: 14.1167266965\n",
      "Epoch 4 completed out of 10 loss: 14.1118663549\n",
      "Epoch 5 completed out of 10 loss: 14.1113693118\n",
      "Epoch 6 completed out of 10 loss: 14.0959070325\n",
      "Epoch 7 completed out of 10 loss: 14.128973484\n",
      "Epoch 8 completed out of 10 loss: 13.9429790974\n",
      "Epoch 9 completed out of 10 loss: 13.9689502716\n",
      "Epoch 10 completed out of 10 loss: 13.8951455355\n",
      "[[  1.00000000e+00   0.00000000e+00]\n",
      " [  3.90812884e-25   1.00000000e+00]\n",
      " [  2.05182131e-21   1.00000000e+00]\n",
      " [  4.42893508e-30   1.00000000e+00]\n",
      " [  8.29725356e-38   1.00000000e+00]\n",
      " [  2.89276311e-26   1.00000000e+00]\n",
      " [  0.00000000e+00   1.00000000e+00]\n",
      " [  0.00000000e+00   1.00000000e+00]\n",
      " [  0.00000000e+00   1.00000000e+00]\n",
      " [  1.00000000e+00   7.37044261e-24]\n",
      " [  0.00000000e+00   1.00000000e+00]\n",
      " [  0.00000000e+00   1.00000000e+00]\n",
      " [  7.93195427e-16   1.00000000e+00]\n",
      " [  4.51247420e-26   1.00000000e+00]\n",
      " [  1.00000000e+00   9.90306316e-20]\n",
      " [  7.07990958e-13   1.00000000e+00]\n",
      " [  0.00000000e+00   1.00000000e+00]\n",
      " [  0.00000000e+00   1.00000000e+00]\n",
      " [  1.00000000e+00   0.00000000e+00]\n",
      " [  1.00000000e+00   3.13205839e-09]\n",
      " [  1.00000000e+00   1.11567510e-21]\n",
      " [  8.67722661e-22   1.00000000e+00]\n",
      " [  0.00000000e+00   1.00000000e+00]\n",
      " [  1.00000000e+00   0.00000000e+00]\n",
      " [  0.00000000e+00   1.00000000e+00]\n",
      " [  1.50874748e-26   1.00000000e+00]\n",
      " [  0.00000000e+00   1.00000000e+00]\n",
      " [  0.00000000e+00   1.00000000e+00]\n",
      " [  0.00000000e+00   1.00000000e+00]\n",
      " [  0.00000000e+00   1.00000000e+00]\n",
      " [  1.70550844e-22   1.00000000e+00]\n",
      " [  1.07477649e-06   9.99998927e-01]\n",
      " [  2.22760317e-30   1.00000000e+00]\n",
      " [  5.42550245e-19   1.00000000e+00]\n",
      " [  2.50863738e-28   1.00000000e+00]\n",
      " [  6.09052449e-26   1.00000000e+00]\n",
      " [  0.00000000e+00   1.00000000e+00]\n",
      " [  0.00000000e+00   1.00000000e+00]\n",
      " [  2.47049403e-09   1.00000000e+00]\n",
      " [  7.64125119e-08   9.99999881e-01]\n",
      " [  6.01635531e-33   1.00000000e+00]\n",
      " [  2.43650340e-15   1.00000000e+00]\n",
      " [  9.89985419e-05   9.99900937e-01]\n",
      " [  8.70359719e-01   1.29640251e-01]\n",
      " [  0.00000000e+00   1.00000000e+00]\n",
      " [  0.00000000e+00   1.00000000e+00]\n",
      " [  1.22249668e-34   1.00000000e+00]\n",
      " [  2.80801397e-13   1.00000000e+00]\n",
      " [  6.27265485e-17   1.00000000e+00]\n",
      " [  2.30054049e-17   1.00000000e+00]\n",
      " [  3.32842644e-37   1.00000000e+00]\n",
      " [  0.00000000e+00   1.00000000e+00]\n",
      " [  0.00000000e+00   1.00000000e+00]\n",
      " [  1.00000000e+00   5.53053858e-15]\n",
      " [  1.00000000e+00   2.12495976e-09]\n",
      " [  1.35929769e-16   1.00000000e+00]\n",
      " [  9.99464571e-01   5.35472180e-04]\n",
      " [  1.00000000e+00   1.19962269e-37]\n",
      " [  2.73037866e-30   1.00000000e+00]\n",
      " [  1.47067180e-30   1.00000000e+00]\n",
      " [  4.66543079e-15   1.00000000e+00]\n",
      " [  4.58056621e-25   1.00000000e+00]\n",
      " [  0.00000000e+00   1.00000000e+00]\n",
      " [  0.00000000e+00   1.00000000e+00]\n",
      " [  1.32609761e-25   1.00000000e+00]\n",
      " [  0.00000000e+00   1.00000000e+00]\n",
      " [  0.00000000e+00   1.00000000e+00]\n",
      " [  9.61585426e-21   1.00000000e+00]\n",
      " [  1.05682325e-07   9.99999881e-01]\n",
      " [  1.00000000e+00   1.76810869e-18]\n",
      " [  0.00000000e+00   1.00000000e+00]\n",
      " [  8.81497025e-01   1.18502997e-01]\n",
      " [  4.12149516e-11   1.00000000e+00]\n",
      " [  0.00000000e+00   1.00000000e+00]\n",
      " [  1.85905881e-17   1.00000000e+00]\n",
      " [  7.90662420e-27   1.00000000e+00]\n",
      " [  1.00000000e+00   2.20974974e-11]\n",
      " [  0.00000000e+00   1.00000000e+00]\n",
      " [  5.15094459e-01   4.84905541e-01]\n",
      " [  1.00000000e+00   8.79249112e-20]\n",
      " [  1.00000000e+00   4.89112189e-22]\n",
      " [  1.89378840e-32   1.00000000e+00]\n",
      " [  1.72351339e-30   1.00000000e+00]\n",
      " [  5.39375563e-37   1.00000000e+00]\n",
      " [  3.56615502e-08   1.00000000e+00]\n",
      " [  1.00000000e+00   9.84312160e-24]\n",
      " [  0.00000000e+00   1.00000000e+00]\n",
      " [  2.04223053e-30   1.00000000e+00]\n",
      " [  0.00000000e+00   1.00000000e+00]\n",
      " [  9.99907613e-01   9.23541738e-05]\n",
      " [  1.48530840e-11   1.00000000e+00]\n",
      " [  7.29977162e-29   1.00000000e+00]\n",
      " [  1.36669018e-25   1.00000000e+00]\n",
      " [  0.00000000e+00   1.00000000e+00]\n",
      " [  4.27648962e-01   5.72351038e-01]\n",
      " [  0.00000000e+00   1.00000000e+00]\n",
      " [  2.52247534e-09   1.00000000e+00]\n",
      " [  1.46383990e-12   1.00000000e+00]\n",
      " [  1.80153682e-19   1.00000000e+00]\n",
      " [  1.04716510e-01   8.95283461e-01]\n",
      " [  9.94993150e-01   5.00691496e-03]\n",
      " [  7.31429951e-35   1.00000000e+00]\n",
      " [  3.93862128e-02   9.60613787e-01]\n",
      " [  4.13384115e-33   1.00000000e+00]\n",
      " [  9.99995947e-01   4.09286440e-06]\n",
      " [  2.19030840e-30   1.00000000e+00]\n",
      " [  0.00000000e+00   1.00000000e+00]\n",
      " [  1.30186221e-19   1.00000000e+00]\n",
      " [  1.41708255e-34   1.00000000e+00]\n",
      " [  0.00000000e+00   1.00000000e+00]\n",
      " [  3.83295398e-37   1.00000000e+00]\n",
      " [  3.73406906e-20   1.00000000e+00]\n",
      " [  1.81232065e-01   8.18767905e-01]\n",
      " [  4.59621970e-06   9.99995351e-01]\n",
      " [  1.11068188e-35   1.00000000e+00]\n",
      " [  0.00000000e+00   1.00000000e+00]\n",
      " [  0.00000000e+00   1.00000000e+00]\n",
      " [  0.00000000e+00   1.00000000e+00]\n",
      " [  1.00517635e-34   1.00000000e+00]\n",
      " [  1.12661429e-30   1.00000000e+00]\n",
      " [  1.00000000e+00   0.00000000e+00]\n",
      " [  1.00000000e+00   0.00000000e+00]\n",
      " [  1.00000000e+00   7.15026605e-19]\n",
      " [  1.00000000e+00   3.45543470e-15]\n",
      " [  6.19568309e-37   1.00000000e+00]\n",
      " [  2.54546791e-38   1.00000000e+00]\n",
      " [  2.42712643e-36   1.00000000e+00]\n",
      " [  1.00000000e+00   7.33221415e-18]\n",
      " [  9.99978542e-01   2.14134761e-05]\n",
      " [  0.00000000e+00   1.00000000e+00]\n",
      " [  0.00000000e+00   1.00000000e+00]\n",
      " [  5.19923110e-36   1.00000000e+00]\n",
      " [  2.28372279e-35   1.00000000e+00]\n",
      " [  0.00000000e+00   1.00000000e+00]\n",
      " [  1.00000000e+00   2.96208611e-26]\n",
      " [  1.00000000e+00   0.00000000e+00]\n",
      " [  1.73366436e-27   1.00000000e+00]\n",
      " [  1.00000000e+00   1.20181579e-31]\n",
      " [  0.00000000e+00   1.00000000e+00]\n",
      " [  0.00000000e+00   1.00000000e+00]\n",
      " [  4.68511335e-18   1.00000000e+00]\n",
      " [  8.76928272e-04   9.99123037e-01]\n",
      " [  0.00000000e+00   1.00000000e+00]\n",
      " [  4.29211883e-03   9.95707870e-01]\n",
      " [  2.12850362e-01   7.87149608e-01]\n",
      " [  0.00000000e+00   1.00000000e+00]\n",
      " [  6.08820299e-33   1.00000000e+00]\n",
      " [  1.00000000e+00   3.75981796e-24]\n",
      " [  2.67428748e-33   1.00000000e+00]\n",
      " [  0.00000000e+00   1.00000000e+00]\n",
      " [  1.63987046e-08   1.00000000e+00]\n",
      " [  9.99999762e-01   2.67362367e-07]\n",
      " [  1.13296548e-25   1.00000000e+00]\n",
      " [  6.15110365e-22   1.00000000e+00]]\n",
      "Accuracy: 0.415584\n"
     ]
    }
   ],
   "source": [
    "train_neural_network(x)"
   ]
  },
  {
   "cell_type": "code",
   "execution_count": 63,
   "metadata": {},
   "outputs": [],
   "source": [
    "#sess.run(pred, feed_dict={x: X_test})"
   ]
  },
  {
   "cell_type": "code",
   "execution_count": null,
   "metadata": {},
   "outputs": [],
   "source": []
  }
 ],
 "metadata": {
  "anaconda-cloud": {},
  "kernelspec": {
   "display_name": "Python [default]",
   "language": "python",
   "name": "python3"
  },
  "language_info": {
   "codemirror_mode": {
    "name": "ipython",
    "version": 3
   },
   "file_extension": ".py",
   "mimetype": "text/x-python",
   "name": "python",
   "nbconvert_exporter": "python",
   "pygments_lexer": "ipython3",
   "version": "3.5.2"
  }
 },
 "nbformat": 4,
 "nbformat_minor": 2
}
