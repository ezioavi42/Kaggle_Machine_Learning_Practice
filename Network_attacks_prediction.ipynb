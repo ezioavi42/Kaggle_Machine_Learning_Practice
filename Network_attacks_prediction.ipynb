{
 "cells": [
  {
   "cell_type": "code",
   "execution_count": 1,
   "metadata": {},
   "outputs": [],
   "source": [
    "import pandas as pd\n",
    "import matplotlib.pyplot as plt\n",
    "import numpy as np\n",
    "import seaborn as sns\n",
    "%matplotlib inline"
   ]
  },
  {
   "cell_type": "code",
   "execution_count": 2,
   "metadata": {},
   "outputs": [
    {
     "data": {
      "text/plain": [
       "'0.20.3'"
      ]
     },
     "execution_count": 2,
     "metadata": {},
     "output_type": "execute_result"
    }
   ],
   "source": [
    "pd.__version__"
   ]
  },
  {
   "cell_type": "code",
   "execution_count": 3,
   "metadata": {},
   "outputs": [],
   "source": [
    "data_train=pd.read_csv('train_data.csv')\n",
    "data_test=pd.read_csv('test_data.csv')"
   ]
  },
  {
   "cell_type": "code",
   "execution_count": 4,
   "metadata": {},
   "outputs": [
    {
     "name": "stdout",
     "output_type": "stream",
     "text": [
      "The shape of the Training set:  (169307, 43)\n",
      "The shape of the Testing set:  (91166, 42)\n"
     ]
    }
   ],
   "source": [
    "print(\"The shape of the Training set: \", data_train.shape)\n",
    "print(\"The shape of the Testing set: \", data_test.shape)"
   ]
  },
  {
   "cell_type": "code",
   "execution_count": 5,
   "metadata": {},
   "outputs": [
    {
     "data": {
      "text/html": [
       "<div>\n",
       "<style>\n",
       "    .dataframe thead tr:only-child th {\n",
       "        text-align: right;\n",
       "    }\n",
       "\n",
       "    .dataframe thead th {\n",
       "        text-align: left;\n",
       "    }\n",
       "\n",
       "    .dataframe tbody tr th {\n",
       "        vertical-align: top;\n",
       "    }\n",
       "</style>\n",
       "<table border=\"1\" class=\"dataframe\">\n",
       "  <thead>\n",
       "    <tr style=\"text-align: right;\">\n",
       "      <th></th>\n",
       "      <th>connection_id</th>\n",
       "      <th>cont_1</th>\n",
       "      <th>cont_2</th>\n",
       "      <th>cont_3</th>\n",
       "      <th>cont_4</th>\n",
       "      <th>cont_5</th>\n",
       "      <th>cont_6</th>\n",
       "      <th>cont_7</th>\n",
       "      <th>cont_8</th>\n",
       "      <th>cont_9</th>\n",
       "      <th>...</th>\n",
       "      <th>cat_15</th>\n",
       "      <th>cat_16</th>\n",
       "      <th>cat_17</th>\n",
       "      <th>cat_18</th>\n",
       "      <th>cat_19</th>\n",
       "      <th>cat_20</th>\n",
       "      <th>cat_21</th>\n",
       "      <th>cat_22</th>\n",
       "      <th>cat_23</th>\n",
       "      <th>target</th>\n",
       "    </tr>\n",
       "  </thead>\n",
       "  <tbody>\n",
       "    <tr>\n",
       "      <th>0</th>\n",
       "      <td>cxcon_1</td>\n",
       "      <td>0</td>\n",
       "      <td>1032</td>\n",
       "      <td>0</td>\n",
       "      <td>0.0</td>\n",
       "      <td>0.0</td>\n",
       "      <td>0.0</td>\n",
       "      <td>0.0</td>\n",
       "      <td>1.0</td>\n",
       "      <td>0.0</td>\n",
       "      <td>...</td>\n",
       "      <td>0</td>\n",
       "      <td>0</td>\n",
       "      <td>0</td>\n",
       "      <td>0</td>\n",
       "      <td>0</td>\n",
       "      <td>511</td>\n",
       "      <td>511</td>\n",
       "      <td>255</td>\n",
       "      <td>255</td>\n",
       "      <td>2</td>\n",
       "    </tr>\n",
       "    <tr>\n",
       "      <th>1</th>\n",
       "      <td>cxcon_4</td>\n",
       "      <td>0</td>\n",
       "      <td>520</td>\n",
       "      <td>0</td>\n",
       "      <td>0.0</td>\n",
       "      <td>0.0</td>\n",
       "      <td>0.0</td>\n",
       "      <td>0.0</td>\n",
       "      <td>1.0</td>\n",
       "      <td>0.0</td>\n",
       "      <td>...</td>\n",
       "      <td>0</td>\n",
       "      <td>0</td>\n",
       "      <td>0</td>\n",
       "      <td>0</td>\n",
       "      <td>0</td>\n",
       "      <td>511</td>\n",
       "      <td>511</td>\n",
       "      <td>255</td>\n",
       "      <td>255</td>\n",
       "      <td>0</td>\n",
       "    </tr>\n",
       "    <tr>\n",
       "      <th>2</th>\n",
       "      <td>cxcon_7</td>\n",
       "      <td>0</td>\n",
       "      <td>1032</td>\n",
       "      <td>0</td>\n",
       "      <td>0.0</td>\n",
       "      <td>0.0</td>\n",
       "      <td>0.0</td>\n",
       "      <td>0.0</td>\n",
       "      <td>1.0</td>\n",
       "      <td>0.0</td>\n",
       "      <td>...</td>\n",
       "      <td>0</td>\n",
       "      <td>0</td>\n",
       "      <td>0</td>\n",
       "      <td>0</td>\n",
       "      <td>0</td>\n",
       "      <td>511</td>\n",
       "      <td>511</td>\n",
       "      <td>255</td>\n",
       "      <td>255</td>\n",
       "      <td>0</td>\n",
       "    </tr>\n",
       "    <tr>\n",
       "      <th>3</th>\n",
       "      <td>cxcon_10</td>\n",
       "      <td>0</td>\n",
       "      <td>1032</td>\n",
       "      <td>0</td>\n",
       "      <td>0.0</td>\n",
       "      <td>0.0</td>\n",
       "      <td>0.0</td>\n",
       "      <td>0.0</td>\n",
       "      <td>1.0</td>\n",
       "      <td>0.0</td>\n",
       "      <td>...</td>\n",
       "      <td>0</td>\n",
       "      <td>0</td>\n",
       "      <td>0</td>\n",
       "      <td>0</td>\n",
       "      <td>0</td>\n",
       "      <td>511</td>\n",
       "      <td>511</td>\n",
       "      <td>255</td>\n",
       "      <td>255</td>\n",
       "      <td>0</td>\n",
       "    </tr>\n",
       "    <tr>\n",
       "      <th>4</th>\n",
       "      <td>cxcon_13</td>\n",
       "      <td>0</td>\n",
       "      <td>1032</td>\n",
       "      <td>0</td>\n",
       "      <td>0.0</td>\n",
       "      <td>0.0</td>\n",
       "      <td>0.0</td>\n",
       "      <td>0.0</td>\n",
       "      <td>1.0</td>\n",
       "      <td>0.0</td>\n",
       "      <td>...</td>\n",
       "      <td>0</td>\n",
       "      <td>0</td>\n",
       "      <td>0</td>\n",
       "      <td>0</td>\n",
       "      <td>0</td>\n",
       "      <td>511</td>\n",
       "      <td>511</td>\n",
       "      <td>255</td>\n",
       "      <td>255</td>\n",
       "      <td>2</td>\n",
       "    </tr>\n",
       "  </tbody>\n",
       "</table>\n",
       "<p>5 rows × 43 columns</p>\n",
       "</div>"
      ],
      "text/plain": [
       "  connection_id  cont_1  cont_2  cont_3  cont_4  cont_5  cont_6  cont_7  \\\n",
       "0       cxcon_1       0    1032       0     0.0     0.0     0.0     0.0   \n",
       "1       cxcon_4       0     520       0     0.0     0.0     0.0     0.0   \n",
       "2       cxcon_7       0    1032       0     0.0     0.0     0.0     0.0   \n",
       "3      cxcon_10       0    1032       0     0.0     0.0     0.0     0.0   \n",
       "4      cxcon_13       0    1032       0     0.0     0.0     0.0     0.0   \n",
       "\n",
       "   cont_8  cont_9   ...    cat_15  cat_16  cat_17  cat_18  cat_19  cat_20  \\\n",
       "0     1.0     0.0   ...         0       0       0       0       0     511   \n",
       "1     1.0     0.0   ...         0       0       0       0       0     511   \n",
       "2     1.0     0.0   ...         0       0       0       0       0     511   \n",
       "3     1.0     0.0   ...         0       0       0       0       0     511   \n",
       "4     1.0     0.0   ...         0       0       0       0       0     511   \n",
       "\n",
       "   cat_21  cat_22  cat_23  target  \n",
       "0     511     255     255       2  \n",
       "1     511     255     255       0  \n",
       "2     511     255     255       0  \n",
       "3     511     255     255       0  \n",
       "4     511     255     255       2  \n",
       "\n",
       "[5 rows x 43 columns]"
      ]
     },
     "execution_count": 5,
     "metadata": {},
     "output_type": "execute_result"
    }
   ],
   "source": [
    "data_train.head()"
   ]
  },
  {
   "cell_type": "code",
   "execution_count": 6,
   "metadata": {},
   "outputs": [
    {
     "data": {
      "text/html": [
       "<div>\n",
       "<style>\n",
       "    .dataframe thead tr:only-child th {\n",
       "        text-align: right;\n",
       "    }\n",
       "\n",
       "    .dataframe thead th {\n",
       "        text-align: left;\n",
       "    }\n",
       "\n",
       "    .dataframe tbody tr th {\n",
       "        vertical-align: top;\n",
       "    }\n",
       "</style>\n",
       "<table border=\"1\" class=\"dataframe\">\n",
       "  <thead>\n",
       "    <tr style=\"text-align: right;\">\n",
       "      <th></th>\n",
       "      <th>connection_id</th>\n",
       "      <th>cont_1</th>\n",
       "      <th>cont_2</th>\n",
       "      <th>cont_3</th>\n",
       "      <th>cont_4</th>\n",
       "      <th>cont_5</th>\n",
       "      <th>cont_6</th>\n",
       "      <th>cont_7</th>\n",
       "      <th>cont_8</th>\n",
       "      <th>cont_9</th>\n",
       "      <th>...</th>\n",
       "      <th>cat_14</th>\n",
       "      <th>cat_15</th>\n",
       "      <th>cat_16</th>\n",
       "      <th>cat_17</th>\n",
       "      <th>cat_18</th>\n",
       "      <th>cat_19</th>\n",
       "      <th>cat_20</th>\n",
       "      <th>cat_21</th>\n",
       "      <th>cat_22</th>\n",
       "      <th>cat_23</th>\n",
       "    </tr>\n",
       "  </thead>\n",
       "  <tbody>\n",
       "    <tr>\n",
       "      <th>0</th>\n",
       "      <td>cxcon_2</td>\n",
       "      <td>0</td>\n",
       "      <td>331</td>\n",
       "      <td>6085</td>\n",
       "      <td>0.0</td>\n",
       "      <td>0.0</td>\n",
       "      <td>0.0</td>\n",
       "      <td>0.0</td>\n",
       "      <td>1.0</td>\n",
       "      <td>0.0</td>\n",
       "      <td>...</td>\n",
       "      <td>0</td>\n",
       "      <td>0</td>\n",
       "      <td>0</td>\n",
       "      <td>0</td>\n",
       "      <td>0</td>\n",
       "      <td>0</td>\n",
       "      <td>13</td>\n",
       "      <td>13</td>\n",
       "      <td>255</td>\n",
       "      <td>255</td>\n",
       "    </tr>\n",
       "    <tr>\n",
       "      <th>1</th>\n",
       "      <td>cxcon_5</td>\n",
       "      <td>0</td>\n",
       "      <td>520</td>\n",
       "      <td>0</td>\n",
       "      <td>0.0</td>\n",
       "      <td>0.0</td>\n",
       "      <td>0.0</td>\n",
       "      <td>0.0</td>\n",
       "      <td>1.0</td>\n",
       "      <td>0.0</td>\n",
       "      <td>...</td>\n",
       "      <td>0</td>\n",
       "      <td>0</td>\n",
       "      <td>0</td>\n",
       "      <td>0</td>\n",
       "      <td>0</td>\n",
       "      <td>0</td>\n",
       "      <td>511</td>\n",
       "      <td>511</td>\n",
       "      <td>255</td>\n",
       "      <td>255</td>\n",
       "    </tr>\n",
       "    <tr>\n",
       "      <th>2</th>\n",
       "      <td>cxcon_8</td>\n",
       "      <td>0</td>\n",
       "      <td>1032</td>\n",
       "      <td>0</td>\n",
       "      <td>0.0</td>\n",
       "      <td>0.0</td>\n",
       "      <td>0.0</td>\n",
       "      <td>0.0</td>\n",
       "      <td>1.0</td>\n",
       "      <td>0.0</td>\n",
       "      <td>...</td>\n",
       "      <td>0</td>\n",
       "      <td>0</td>\n",
       "      <td>0</td>\n",
       "      <td>0</td>\n",
       "      <td>0</td>\n",
       "      <td>0</td>\n",
       "      <td>511</td>\n",
       "      <td>511</td>\n",
       "      <td>255</td>\n",
       "      <td>255</td>\n",
       "    </tr>\n",
       "    <tr>\n",
       "      <th>3</th>\n",
       "      <td>cxcon_11</td>\n",
       "      <td>0</td>\n",
       "      <td>1032</td>\n",
       "      <td>0</td>\n",
       "      <td>0.0</td>\n",
       "      <td>0.0</td>\n",
       "      <td>0.0</td>\n",
       "      <td>0.0</td>\n",
       "      <td>1.0</td>\n",
       "      <td>0.0</td>\n",
       "      <td>...</td>\n",
       "      <td>0</td>\n",
       "      <td>0</td>\n",
       "      <td>0</td>\n",
       "      <td>0</td>\n",
       "      <td>0</td>\n",
       "      <td>0</td>\n",
       "      <td>510</td>\n",
       "      <td>509</td>\n",
       "      <td>255</td>\n",
       "      <td>255</td>\n",
       "    </tr>\n",
       "    <tr>\n",
       "      <th>4</th>\n",
       "      <td>cxcon_14</td>\n",
       "      <td>0</td>\n",
       "      <td>1032</td>\n",
       "      <td>0</td>\n",
       "      <td>0.0</td>\n",
       "      <td>0.0</td>\n",
       "      <td>0.0</td>\n",
       "      <td>0.0</td>\n",
       "      <td>1.0</td>\n",
       "      <td>0.0</td>\n",
       "      <td>...</td>\n",
       "      <td>0</td>\n",
       "      <td>0</td>\n",
       "      <td>0</td>\n",
       "      <td>0</td>\n",
       "      <td>0</td>\n",
       "      <td>0</td>\n",
       "      <td>511</td>\n",
       "      <td>511</td>\n",
       "      <td>255</td>\n",
       "      <td>255</td>\n",
       "    </tr>\n",
       "  </tbody>\n",
       "</table>\n",
       "<p>5 rows × 42 columns</p>\n",
       "</div>"
      ],
      "text/plain": [
       "  connection_id  cont_1  cont_2  cont_3  cont_4  cont_5  cont_6  cont_7  \\\n",
       "0       cxcon_2       0     331    6085     0.0     0.0     0.0     0.0   \n",
       "1       cxcon_5       0     520       0     0.0     0.0     0.0     0.0   \n",
       "2       cxcon_8       0    1032       0     0.0     0.0     0.0     0.0   \n",
       "3      cxcon_11       0    1032       0     0.0     0.0     0.0     0.0   \n",
       "4      cxcon_14       0    1032       0     0.0     0.0     0.0     0.0   \n",
       "\n",
       "   cont_8  cont_9   ...    cat_14  cat_15  cat_16  cat_17  cat_18  cat_19  \\\n",
       "0     1.0     0.0   ...         0       0       0       0       0       0   \n",
       "1     1.0     0.0   ...         0       0       0       0       0       0   \n",
       "2     1.0     0.0   ...         0       0       0       0       0       0   \n",
       "3     1.0     0.0   ...         0       0       0       0       0       0   \n",
       "4     1.0     0.0   ...         0       0       0       0       0       0   \n",
       "\n",
       "   cat_20  cat_21  cat_22  cat_23  \n",
       "0      13      13     255     255  \n",
       "1     511     511     255     255  \n",
       "2     511     511     255     255  \n",
       "3     510     509     255     255  \n",
       "4     511     511     255     255  \n",
       "\n",
       "[5 rows x 42 columns]"
      ]
     },
     "execution_count": 6,
     "metadata": {},
     "output_type": "execute_result"
    }
   ],
   "source": [
    "data_test.head()"
   ]
  },
  {
   "cell_type": "code",
   "execution_count": 7,
   "metadata": {},
   "outputs": [
    {
     "data": {
      "text/plain": [
       "connection_id    0\n",
       "cont_1           0\n",
       "cont_2           0\n",
       "cont_3           0\n",
       "cont_4           0\n",
       "cont_5           0\n",
       "cont_6           0\n",
       "cont_7           0\n",
       "cont_8           0\n",
       "cont_9           0\n",
       "cont_10          0\n",
       "cont_11          0\n",
       "cont_12          0\n",
       "cont_13          0\n",
       "cont_14          0\n",
       "cont_15          0\n",
       "cont_16          0\n",
       "cont_17          0\n",
       "cont_18          0\n",
       "cat_1            0\n",
       "cat_2            0\n",
       "cat_3            0\n",
       "cat_4            0\n",
       "cat_5            0\n",
       "cat_6            0\n",
       "cat_7            0\n",
       "cat_8            0\n",
       "cat_9            0\n",
       "cat_10           0\n",
       "cat_11           0\n",
       "cat_12           0\n",
       "cat_13           0\n",
       "cat_14           0\n",
       "cat_15           0\n",
       "cat_16           0\n",
       "cat_17           0\n",
       "cat_18           0\n",
       "cat_19           0\n",
       "cat_20           0\n",
       "cat_21           0\n",
       "cat_22           0\n",
       "cat_23           0\n",
       "target           0\n",
       "dtype: int64"
      ]
     },
     "execution_count": 7,
     "metadata": {},
     "output_type": "execute_result"
    }
   ],
   "source": [
    "data_train.isnull().sum()"
   ]
  },
  {
   "cell_type": "code",
   "execution_count": 8,
   "metadata": {},
   "outputs": [
    {
     "data": {
      "text/plain": [
       "connection_id    0\n",
       "cont_1           0\n",
       "cont_2           0\n",
       "cont_3           0\n",
       "cont_4           0\n",
       "cont_5           0\n",
       "cont_6           0\n",
       "cont_7           0\n",
       "cont_8           0\n",
       "cont_9           0\n",
       "cont_10          0\n",
       "cont_11          0\n",
       "cont_12          0\n",
       "cont_13          0\n",
       "cont_14          0\n",
       "cont_15          0\n",
       "cont_16          0\n",
       "cont_17          0\n",
       "cont_18          0\n",
       "cat_1            0\n",
       "cat_2            0\n",
       "cat_3            0\n",
       "cat_4            0\n",
       "cat_5            0\n",
       "cat_6            0\n",
       "cat_7            0\n",
       "cat_8            0\n",
       "cat_9            0\n",
       "cat_10           0\n",
       "cat_11           0\n",
       "cat_12           0\n",
       "cat_13           0\n",
       "cat_14           0\n",
       "cat_15           0\n",
       "cat_16           0\n",
       "cat_17           0\n",
       "cat_18           0\n",
       "cat_19           0\n",
       "cat_20           0\n",
       "cat_21           0\n",
       "cat_22           0\n",
       "cat_23           0\n",
       "dtype: int64"
      ]
     },
     "execution_count": 8,
     "metadata": {},
     "output_type": "execute_result"
    }
   ],
   "source": [
    "data_test.isnull().sum()"
   ]
  },
  {
   "cell_type": "code",
   "execution_count": 9,
   "metadata": {},
   "outputs": [
    {
     "data": {
      "text/plain": [
       "0    98868\n",
       "2    36854\n",
       "1    33585\n",
       "Name: target, dtype: int64"
      ]
     },
     "execution_count": 9,
     "metadata": {},
     "output_type": "execute_result"
    }
   ],
   "source": [
    "data_train[\"target\"].value_counts()"
   ]
  },
  {
   "cell_type": "code",
   "execution_count": 10,
   "metadata": {},
   "outputs": [
    {
     "data": {
      "text/plain": [
       "<matplotlib.text.Text at 0x23c4c88d748>"
      ]
     },
     "execution_count": 10,
     "metadata": {},
     "output_type": "execute_result"
    },
    {
     "data": {
      "image/png": "[encoded data removed]",
      "text/plain": [
       "<matplotlib.figure.Figure at 0x23c50d8cdd8>"
      ]
     },
     "metadata": {},
     "output_type": "display_data"
    }
   ],
   "source": [
    "import matplotlib.style as style\n",
    "style.use('fivethirtyeight')\n",
    "sns.countplot(x=\"target\", data=data_train)\n",
    "plt.title('Frequency of the target class in the Training Set')\n",
    "plt.ylabel('Frequency of the Target')\n",
    "plt.xlabel('Target Class')"
   ]
  },
  {
   "cell_type": "code",
   "execution_count": 11,
   "metadata": {},
   "outputs": [
    {
     "data": {
      "text/plain": [
       "<matplotlib.axes._subplots.AxesSubplot at 0x23c4c8c9c88>"
      ]
     },
     "execution_count": 11,
     "metadata": {},
     "output_type": "execute_result"
    },
    {
     "data": {
      "image/png": "[encoded data removed]",
      "text/plain": [
       "<matplotlib.figure.Figure at 0x23c4c8c9d30>"
      ]
     },
     "metadata": {},
     "output_type": "display_data"
    }
   ],
   "source": [
    "data_train_num=data_train.drop(['connection_id','cat_1','cat_2','cat_3','cat_4','cat_5','cat_6','cat_7','cat_8','cat_9','cat_10','cat_11','cat_12','cat_13','cat_14','cat_15','cat_16','cat_17','cat_18','cat_19','cat_20','cat_21','cat_22','cat_23','target'],axis=1)\n",
    "colormap = plt.cm.viridis\n",
    "plt.figure(figsize=(14,12))\n",
    "plt.title('Pearson Correlation of Features', y=1.05, size=15)\n",
    "sns.heatmap(data_train_num.astype(float).corr(),linewidths=0.05,vmax=1.0, square=True, cmap=colormap, linecolor='black', annot=False)"
   ]
  },
  {
   "cell_type": "code",
   "execution_count": 12,
   "metadata": {},
   "outputs": [],
   "source": [
    "from sklearn.preprocessing import StandardScaler\n",
    "from sklearn.decomposition import PCA"
   ]
  },
  {
   "cell_type": "code",
   "execution_count": 13,
   "metadata": {},
   "outputs": [],
   "source": [
    "data_train_num_scld=StandardScaler().fit_transform(data_train_num)"
   ]
  },
  {
   "cell_type": "code",
   "execution_count": 14,
   "metadata": {},
   "outputs": [],
   "source": [
    "pca=PCA()\n",
    "data_train_num_trf=pca.fit_transform(data_train_num_scld)"
   ]
  },
  {
   "cell_type": "code",
   "execution_count": 15,
   "metadata": {},
   "outputs": [
    {
     "data": {
      "image/png": "[encoded data removed]",
      "text/plain": [
       "<matplotlib.figure.Figure at 0x23c4d9511d0>"
      ]
     },
     "metadata": {},
     "output_type": "display_data"
    }
   ],
   "source": [
    "var=(pca.explained_variance_)\n",
    "tot=sum(var)\n",
    "var_exp = [(i/tot)*100 for i in sorted(var, reverse=True)] # Individual explained variance\n",
    "\n",
    "exp_var_ratio=pca.explained_variance_ratio_\n",
    "cum_var=np.cumsum(exp_var_ratio*100)\n",
    "\n",
    "# PLOT OUT THE EXPLAINED VARIANCES SUPERIMPOSED \n",
    "plt.figure(figsize=(10, 5))\n",
    "plt.bar(range(18), var_exp, alpha=0.3333, align='center', label='individual explained variance', color = 'g')\n",
    "plt.step(range(18), cum_var, where='mid',label='cumulative explained variance')\n",
    "plt.ylabel('Explained variance ratio')\n",
    "plt.xlabel('Principal components')\n",
    "plt.legend(loc='best')\n",
    "plt.show()"
   ]
  },
  {
   "cell_type": "code",
   "execution_count": 16,
   "metadata": {},
   "outputs": [],
   "source": [
    "pca=PCA(n_components=10)\n",
    "data_train_num_trf_10d=pca.fit_transform(data_train_num_scld)"
   ]
  },
  {
   "cell_type": "code",
   "execution_count": 17,
   "metadata": {},
   "outputs": [],
   "source": [
    "data_train_pca=pd.DataFrame(data_train_num_trf_10d,columns=['PC1','PC2','PC3','PC4','PC5','PC6','PC7','PC8','PC9','PC10'])"
   ]
  },
  {
   "cell_type": "code",
   "execution_count": 18,
   "metadata": {},
   "outputs": [],
   "source": [
    "del data_train_num_trf\n",
    "del data_train_num_trf_10d"
   ]
  },
  {
   "cell_type": "code",
   "execution_count": 19,
   "metadata": {},
   "outputs": [],
   "source": [
    "data_train_pca['target']=data_train['target']"
   ]
  },
  {
   "cell_type": "code",
   "execution_count": 20,
   "metadata": {},
   "outputs": [
    {
     "data": {
      "text/html": [
       "<div>\n",
       "<style>\n",
       "    .dataframe thead tr:only-child th {\n",
       "        text-align: right;\n",
       "    }\n",
       "\n",
       "    .dataframe thead th {\n",
       "        text-align: left;\n",
       "    }\n",
       "\n",
       "    .dataframe tbody tr th {\n",
       "        vertical-align: top;\n",
       "    }\n",
       "</style>\n",
       "<table border=\"1\" class=\"dataframe\">\n",
       "  <thead>\n",
       "    <tr style=\"text-align: right;\">\n",
       "      <th></th>\n",
       "      <th>PC1</th>\n",
       "      <th>PC2</th>\n",
       "      <th>PC3</th>\n",
       "      <th>PC4</th>\n",
       "      <th>PC5</th>\n",
       "      <th>PC6</th>\n",
       "      <th>PC7</th>\n",
       "      <th>PC8</th>\n",
       "      <th>PC9</th>\n",
       "      <th>PC10</th>\n",
       "      <th>target</th>\n",
       "    </tr>\n",
       "  </thead>\n",
       "  <tbody>\n",
       "    <tr>\n",
       "      <th>0</th>\n",
       "      <td>-1.526824</td>\n",
       "      <td>-0.273090</td>\n",
       "      <td>0.055980</td>\n",
       "      <td>-0.370688</td>\n",
       "      <td>-0.013640</td>\n",
       "      <td>-0.011342</td>\n",
       "      <td>-0.023437</td>\n",
       "      <td>0.121546</td>\n",
       "      <td>-0.255491</td>\n",
       "      <td>0.120225</td>\n",
       "      <td>2</td>\n",
       "    </tr>\n",
       "    <tr>\n",
       "      <th>1</th>\n",
       "      <td>-1.526767</td>\n",
       "      <td>-0.273085</td>\n",
       "      <td>0.055472</td>\n",
       "      <td>-0.371114</td>\n",
       "      <td>-0.022053</td>\n",
       "      <td>-0.003077</td>\n",
       "      <td>-0.022022</td>\n",
       "      <td>0.121603</td>\n",
       "      <td>-0.255331</td>\n",
       "      <td>0.120371</td>\n",
       "      <td>0</td>\n",
       "    </tr>\n",
       "    <tr>\n",
       "      <th>2</th>\n",
       "      <td>-1.526824</td>\n",
       "      <td>-0.273090</td>\n",
       "      <td>0.055980</td>\n",
       "      <td>-0.370688</td>\n",
       "      <td>-0.013640</td>\n",
       "      <td>-0.011342</td>\n",
       "      <td>-0.023437</td>\n",
       "      <td>0.121546</td>\n",
       "      <td>-0.255491</td>\n",
       "      <td>0.120225</td>\n",
       "      <td>0</td>\n",
       "    </tr>\n",
       "    <tr>\n",
       "      <th>3</th>\n",
       "      <td>-1.526824</td>\n",
       "      <td>-0.273090</td>\n",
       "      <td>0.055980</td>\n",
       "      <td>-0.370688</td>\n",
       "      <td>-0.013640</td>\n",
       "      <td>-0.011342</td>\n",
       "      <td>-0.023437</td>\n",
       "      <td>0.121546</td>\n",
       "      <td>-0.255491</td>\n",
       "      <td>0.120225</td>\n",
       "      <td>0</td>\n",
       "    </tr>\n",
       "    <tr>\n",
       "      <th>4</th>\n",
       "      <td>-1.526824</td>\n",
       "      <td>-0.273090</td>\n",
       "      <td>0.055980</td>\n",
       "      <td>-0.370688</td>\n",
       "      <td>-0.013640</td>\n",
       "      <td>-0.011342</td>\n",
       "      <td>-0.023437</td>\n",
       "      <td>0.121546</td>\n",
       "      <td>-0.255491</td>\n",
       "      <td>0.120225</td>\n",
       "      <td>2</td>\n",
       "    </tr>\n",
       "  </tbody>\n",
       "</table>\n",
       "</div>"
      ],
      "text/plain": [
       "        PC1       PC2       PC3       PC4       PC5       PC6       PC7  \\\n",
       "0 -1.526824 -0.273090  0.055980 -0.370688 -0.013640 -0.011342 -0.023437   \n",
       "1 -1.526767 -0.273085  0.055472 -0.371114 -0.022053 -0.003077 -0.022022   \n",
       "2 -1.526824 -0.273090  0.055980 -0.370688 -0.013640 -0.011342 -0.023437   \n",
       "3 -1.526824 -0.273090  0.055980 -0.370688 -0.013640 -0.011342 -0.023437   \n",
       "4 -1.526824 -0.273090  0.055980 -0.370688 -0.013640 -0.011342 -0.023437   \n",
       "\n",
       "        PC8       PC9      PC10  target  \n",
       "0  0.121546 -0.255491  0.120225       2  \n",
       "1  0.121603 -0.255331  0.120371       0  \n",
       "2  0.121546 -0.255491  0.120225       0  \n",
       "3  0.121546 -0.255491  0.120225       0  \n",
       "4  0.121546 -0.255491  0.120225       2  "
      ]
     },
     "execution_count": 20,
     "metadata": {},
     "output_type": "execute_result"
    }
   ],
   "source": [
    "data_train_pca.head()"
   ]
  },
  {
   "cell_type": "code",
   "execution_count": 21,
   "metadata": {},
   "outputs": [],
   "source": [
    "data_train_cat=pd.DataFrame(data_train,columns=['cat_1','cat_2','cat_3','cat_4','cat_5','cat_6','cat_7','cat_8','cat_9','cat_10','cat_11','cat_12','cat_13','cat_14','cat_15','cat_16','cat_17','cat_18','cat_19','cat_20','cat_21','cat_22','cat_23'],dtype=str)"
   ]
  },
  {
   "cell_type": "code",
   "execution_count": 22,
   "metadata": {},
   "outputs": [
    {
     "data": {
      "text/html": [
       "<div>\n",
       "<style>\n",
       "    .dataframe thead tr:only-child th {\n",
       "        text-align: right;\n",
       "    }\n",
       "\n",
       "    .dataframe thead th {\n",
       "        text-align: left;\n",
       "    }\n",
       "\n",
       "    .dataframe tbody tr th {\n",
       "        vertical-align: top;\n",
       "    }\n",
       "</style>\n",
       "<table border=\"1\" class=\"dataframe\">\n",
       "  <thead>\n",
       "    <tr style=\"text-align: right;\">\n",
       "      <th></th>\n",
       "      <th>cat_1</th>\n",
       "      <th>cat_2</th>\n",
       "      <th>cat_3</th>\n",
       "      <th>cat_4</th>\n",
       "      <th>cat_5</th>\n",
       "      <th>cat_6</th>\n",
       "      <th>cat_7</th>\n",
       "      <th>cat_8</th>\n",
       "      <th>cat_9</th>\n",
       "      <th>cat_10</th>\n",
       "      <th>...</th>\n",
       "      <th>cat_14</th>\n",
       "      <th>cat_15</th>\n",
       "      <th>cat_16</th>\n",
       "      <th>cat_17</th>\n",
       "      <th>cat_18</th>\n",
       "      <th>cat_19</th>\n",
       "      <th>cat_20</th>\n",
       "      <th>cat_21</th>\n",
       "      <th>cat_22</th>\n",
       "      <th>cat_23</th>\n",
       "    </tr>\n",
       "  </thead>\n",
       "  <tbody>\n",
       "    <tr>\n",
       "      <th>0</th>\n",
       "      <td>3</td>\n",
       "      <td>10</td>\n",
       "      <td>1</td>\n",
       "      <td>0</td>\n",
       "      <td>0</td>\n",
       "      <td>0</td>\n",
       "      <td>0</td>\n",
       "      <td>0</td>\n",
       "      <td>0</td>\n",
       "      <td>0</td>\n",
       "      <td>...</td>\n",
       "      <td>0</td>\n",
       "      <td>0</td>\n",
       "      <td>0</td>\n",
       "      <td>0</td>\n",
       "      <td>0</td>\n",
       "      <td>0</td>\n",
       "      <td>511</td>\n",
       "      <td>511</td>\n",
       "      <td>255</td>\n",
       "      <td>255</td>\n",
       "    </tr>\n",
       "    <tr>\n",
       "      <th>1</th>\n",
       "      <td>3</td>\n",
       "      <td>10</td>\n",
       "      <td>1</td>\n",
       "      <td>0</td>\n",
       "      <td>0</td>\n",
       "      <td>0</td>\n",
       "      <td>0</td>\n",
       "      <td>0</td>\n",
       "      <td>0</td>\n",
       "      <td>0</td>\n",
       "      <td>...</td>\n",
       "      <td>0</td>\n",
       "      <td>0</td>\n",
       "      <td>0</td>\n",
       "      <td>0</td>\n",
       "      <td>0</td>\n",
       "      <td>0</td>\n",
       "      <td>511</td>\n",
       "      <td>511</td>\n",
       "      <td>255</td>\n",
       "      <td>255</td>\n",
       "    </tr>\n",
       "    <tr>\n",
       "      <th>2</th>\n",
       "      <td>3</td>\n",
       "      <td>10</td>\n",
       "      <td>1</td>\n",
       "      <td>0</td>\n",
       "      <td>0</td>\n",
       "      <td>0</td>\n",
       "      <td>0</td>\n",
       "      <td>0</td>\n",
       "      <td>0</td>\n",
       "      <td>0</td>\n",
       "      <td>...</td>\n",
       "      <td>0</td>\n",
       "      <td>0</td>\n",
       "      <td>0</td>\n",
       "      <td>0</td>\n",
       "      <td>0</td>\n",
       "      <td>0</td>\n",
       "      <td>511</td>\n",
       "      <td>511</td>\n",
       "      <td>255</td>\n",
       "      <td>255</td>\n",
       "    </tr>\n",
       "    <tr>\n",
       "      <th>3</th>\n",
       "      <td>3</td>\n",
       "      <td>10</td>\n",
       "      <td>1</td>\n",
       "      <td>0</td>\n",
       "      <td>0</td>\n",
       "      <td>0</td>\n",
       "      <td>0</td>\n",
       "      <td>0</td>\n",
       "      <td>0</td>\n",
       "      <td>0</td>\n",
       "      <td>...</td>\n",
       "      <td>0</td>\n",
       "      <td>0</td>\n",
       "      <td>0</td>\n",
       "      <td>0</td>\n",
       "      <td>0</td>\n",
       "      <td>0</td>\n",
       "      <td>511</td>\n",
       "      <td>511</td>\n",
       "      <td>255</td>\n",
       "      <td>255</td>\n",
       "    </tr>\n",
       "    <tr>\n",
       "      <th>4</th>\n",
       "      <td>3</td>\n",
       "      <td>10</td>\n",
       "      <td>1</td>\n",
       "      <td>0</td>\n",
       "      <td>0</td>\n",
       "      <td>0</td>\n",
       "      <td>0</td>\n",
       "      <td>0</td>\n",
       "      <td>0</td>\n",
       "      <td>0</td>\n",
       "      <td>...</td>\n",
       "      <td>0</td>\n",
       "      <td>0</td>\n",
       "      <td>0</td>\n",
       "      <td>0</td>\n",
       "      <td>0</td>\n",
       "      <td>0</td>\n",
       "      <td>511</td>\n",
       "      <td>511</td>\n",
       "      <td>255</td>\n",
       "      <td>255</td>\n",
       "    </tr>\n",
       "  </tbody>\n",
       "</table>\n",
       "<p>5 rows × 23 columns</p>\n",
       "</div>"
      ],
      "text/plain": [
       "  cat_1 cat_2 cat_3 cat_4 cat_5 cat_6 cat_7 cat_8 cat_9 cat_10  ...   cat_14  \\\n",
       "0     3    10     1     0     0     0     0     0     0      0  ...        0   \n",
       "1     3    10     1     0     0     0     0     0     0      0  ...        0   \n",
       "2     3    10     1     0     0     0     0     0     0      0  ...        0   \n",
       "3     3    10     1     0     0     0     0     0     0      0  ...        0   \n",
       "4     3    10     1     0     0     0     0     0     0      0  ...        0   \n",
       "\n",
       "  cat_15 cat_16 cat_17 cat_18 cat_19 cat_20 cat_21 cat_22 cat_23  \n",
       "0      0      0      0      0      0    511    511    255    255  \n",
       "1      0      0      0      0      0    511    511    255    255  \n",
       "2      0      0      0      0      0    511    511    255    255  \n",
       "3      0      0      0      0      0    511    511    255    255  \n",
       "4      0      0      0      0      0    511    511    255    255  \n",
       "\n",
       "[5 rows x 23 columns]"
      ]
     },
     "execution_count": 22,
     "metadata": {},
     "output_type": "execute_result"
    }
   ],
   "source": [
    "data_train_cat.head()"
   ]
  },
  {
   "cell_type": "code",
   "execution_count": 23,
   "metadata": {},
   "outputs": [
    {
     "name": "stdout",
     "output_type": "stream",
     "text": [
      "<class 'pandas.core.frame.DataFrame'>\n",
      "RangeIndex: 169307 entries, 0 to 169306\n",
      "Data columns (total 23 columns):\n",
      "cat_1     169307 non-null object\n",
      "cat_2     169307 non-null object\n",
      "cat_3     169307 non-null object\n",
      "cat_4     169307 non-null object\n",
      "cat_5     169307 non-null object\n",
      "cat_6     169307 non-null object\n",
      "cat_7     169307 non-null object\n",
      "cat_8     169307 non-null object\n",
      "cat_9     169307 non-null object\n",
      "cat_10    169307 non-null object\n",
      "cat_11    169307 non-null object\n",
      "cat_12    169307 non-null object\n",
      "cat_13    169307 non-null object\n",
      "cat_14    169307 non-null object\n",
      "cat_15    169307 non-null object\n",
      "cat_16    169307 non-null object\n",
      "cat_17    169307 non-null object\n",
      "cat_18    169307 non-null object\n",
      "cat_19    169307 non-null object\n",
      "cat_20    169307 non-null object\n",
      "cat_21    169307 non-null object\n",
      "cat_22    169307 non-null object\n",
      "cat_23    169307 non-null object\n",
      "dtypes: object(23)\n",
      "memory usage: 29.7+ MB\n"
     ]
    }
   ],
   "source": [
    "data_train_cat.info()"
   ]
  },
  {
   "cell_type": "code",
   "execution_count": 24,
   "metadata": {},
   "outputs": [
    {
     "name": "stdout",
     "output_type": "stream",
     "text": [
      "Feature:- cat_1 has 3 unique categories\n",
      "Feature:- cat_2 has 64 unique categories\n",
      "Feature:- cat_3 has 11 unique categories\n",
      "Feature:- cat_4 has 2 unique categories\n",
      "Feature:- cat_5 has 3 unique categories\n",
      "Feature:- cat_6 has 2 unique categories\n",
      "Feature:- cat_7 has 18 unique categories\n",
      "Feature:- cat_8 has 2 unique categories\n",
      "Feature:- cat_9 has 2 unique categories\n",
      "Feature:- cat_10 has 11 unique categories\n",
      "Feature:- cat_11 has 2 unique categories\n",
      "Feature:- cat_12 has 3 unique categories\n",
      "Feature:- cat_13 has 10 unique categories\n",
      "Feature:- cat_14 has 10 unique categories\n",
      "Feature:- cat_15 has 3 unique categories\n",
      "Feature:- cat_16 has 6 unique categories\n",
      "Feature:- cat_17 has 1 unique categories\n",
      "Feature:- cat_18 has 2 unique categories\n",
      "Feature:- cat_19 has 2 unique categories\n",
      "Feature:- cat_20 has 439 unique categories\n",
      "Feature:- cat_21 has 393 unique categories\n",
      "Feature:- cat_22 has 256 unique categories\n",
      "Feature:- cat_23 has 256 unique categories\n"
     ]
    }
   ],
   "source": [
    "for col_name in data_train_cat.columns:\n",
    "    if data_train_cat[col_name].dtype=='object':\n",
    "        unique_cat=len(data_train_cat[col_name].unique())\n",
    "        print(\"Feature:- {col_name} has {unique_cat} unique categories\".format(col_name=col_name,unique_cat=unique_cat))"
   ]
  },
  {
   "cell_type": "code",
   "execution_count": 25,
   "metadata": {},
   "outputs": [
    {
     "name": "stdout",
     "output_type": "stream",
     "text": [
      "10    96680\n",
      "13    38366\n",
      "1     21576\n",
      "2      3446\n",
      "11     2448\n",
      "Name: cat_2, dtype: int64\n",
      "511    77311\n",
      "1      13506\n",
      "510     9252\n",
      "2       3794\n",
      "509     2094\n",
      "3       2047\n",
      "4       1730\n",
      "5       1433\n",
      "6       1255\n",
      "7       1147\n",
      "8        943\n",
      "9        873\n",
      "10       866\n",
      "11       787\n",
      "12       720\n",
      "13       644\n",
      "14       556\n",
      "508      516\n",
      "15       492\n",
      "16       469\n",
      "Name: cat_20, dtype: int64\n"
     ]
    }
   ],
   "source": [
    "print(data_train_cat['cat_2'].value_counts().sort_values(ascending=False).head(5))\n",
    "print(data_train_cat['cat_20'].value_counts().sort_values(ascending=False).head(20))"
   ]
  },
  {
   "cell_type": "code",
   "execution_count": 26,
   "metadata": {},
   "outputs": [
    {
     "name": "stdout",
     "output_type": "stream",
     "text": [
      "0     168972\n",
      "2        147\n",
      "1         49\n",
      "6         33\n",
      "4         29\n",
      "5         15\n",
      "19        10\n",
      "28         9\n",
      "14         9\n",
      "22         8\n",
      "30         8\n",
      "3          5\n",
      "24         5\n",
      "18         4\n",
      "10         1\n",
      "21         1\n",
      "13         1\n",
      "20         1\n",
      "Name: cat_7, dtype: int64\n",
      "511    76871\n",
      "1      13019\n",
      "510     9353\n",
      "2       6211\n",
      "3       3852\n",
      "4       3349\n",
      "5       3035\n",
      "6       2911\n",
      "7       2837\n",
      "8       2640\n",
      "10      2635\n",
      "9       2611\n",
      "11      2545\n",
      "12      2517\n",
      "13      2438\n",
      "14      2391\n",
      "16      2246\n",
      "17      2235\n",
      "15      2227\n",
      "18      2202\n",
      "Name: cat_21, dtype: int64\n",
      "255    148789\n",
      "1         870\n",
      "2         677\n",
      "3         458\n",
      "4         379\n",
      "5         335\n",
      "6         319\n",
      "7         292\n",
      "8         283\n",
      "9         274\n",
      "10        265\n",
      "11        255\n",
      "12        242\n",
      "15        221\n",
      "14        219\n",
      "13        215\n",
      "16        207\n",
      "17        206\n",
      "18        186\n",
      "23        186\n",
      "Name: cat_22, dtype: int64\n",
      "255    115863\n",
      "1        4139\n",
      "2        2321\n",
      "3        1989\n",
      "4        1917\n",
      "6        1899\n",
      "12       1872\n",
      "9        1862\n",
      "10       1849\n",
      "7        1846\n",
      "5        1820\n",
      "13       1812\n",
      "11       1804\n",
      "14       1795\n",
      "17       1781\n",
      "16       1769\n",
      "8        1765\n",
      "18       1759\n",
      "15       1749\n",
      "19       1743\n",
      "Name: cat_23, dtype: int64\n"
     ]
    }
   ],
   "source": [
    "print(data_train_cat['cat_7'].value_counts().sort_values(ascending=False))\n",
    "print(data_train_cat['cat_21'].value_counts().sort_values(ascending=False).head(20))\n",
    "print(data_train_cat['cat_22'].value_counts().sort_values(ascending=False).head(20))\n",
    "print(data_train_cat['cat_23'].value_counts().sort_values(ascending=False).head(20))"
   ]
  },
  {
   "cell_type": "code",
   "execution_count": 27,
   "metadata": {},
   "outputs": [],
   "source": [
    "threshold = 5000 # Anything that occurs less than this will be removed.\n",
    "for col in data_train_cat.columns:\n",
    "    vc = data_train_cat[col].value_counts()\n",
    "    vals_to_remove = vc[vc <= threshold].index.values\n",
    "    data_train_cat[col].loc[data_train_cat[col].isin(vals_to_remove)] = 'other'"
   ]
  },
  {
   "cell_type": "code",
   "execution_count": 28,
   "metadata": {},
   "outputs": [
    {
     "name": "stdout",
     "output_type": "stream",
     "text": [
      "0        168972\n",
      "other       335\n",
      "Name: cat_7, dtype: int64\n",
      "511      76871\n",
      "other    63853\n",
      "1        13019\n",
      "510       9353\n",
      "2         6211\n",
      "Name: cat_21, dtype: int64\n",
      "255      148789\n",
      "other     20518\n",
      "Name: cat_22, dtype: int64\n",
      "255      115863\n",
      "other     53444\n",
      "Name: cat_23, dtype: int64\n"
     ]
    }
   ],
   "source": [
    "print(data_train_cat['cat_7'].value_counts().sort_values(ascending=False))\n",
    "print(data_train_cat['cat_21'].value_counts().sort_values(ascending=False))\n",
    "print(data_train_cat['cat_22'].value_counts().sort_values(ascending=False))\n",
    "print(data_train_cat['cat_23'].value_counts().sort_values(ascending=False))"
   ]
  },
  {
   "cell_type": "code",
   "execution_count": 29,
   "metadata": {},
   "outputs": [
    {
     "name": "stdout",
     "output_type": "stream",
     "text": [
      "Feature:- cat_1 has 3 unique categories\n",
      "Feature:- cat_2 has 4 unique categories\n",
      "Feature:- cat_3 has 4 unique categories\n",
      "Feature:- cat_4 has 2 unique categories\n",
      "Feature:- cat_5 has 2 unique categories\n",
      "Feature:- cat_6 has 2 unique categories\n",
      "Feature:- cat_7 has 2 unique categories\n",
      "Feature:- cat_8 has 2 unique categories\n",
      "Feature:- cat_9 has 2 unique categories\n",
      "Feature:- cat_10 has 2 unique categories\n",
      "Feature:- cat_11 has 2 unique categories\n",
      "Feature:- cat_12 has 2 unique categories\n",
      "Feature:- cat_13 has 2 unique categories\n",
      "Feature:- cat_14 has 2 unique categories\n",
      "Feature:- cat_15 has 2 unique categories\n",
      "Feature:- cat_16 has 2 unique categories\n",
      "Feature:- cat_17 has 1 unique categories\n",
      "Feature:- cat_18 has 2 unique categories\n",
      "Feature:- cat_19 has 2 unique categories\n",
      "Feature:- cat_20 has 4 unique categories\n",
      "Feature:- cat_21 has 5 unique categories\n",
      "Feature:- cat_22 has 2 unique categories\n",
      "Feature:- cat_23 has 2 unique categories\n"
     ]
    }
   ],
   "source": [
    "for col_name in data_train_cat.columns:\n",
    "    if data_train_cat[col_name].dtype=='object':\n",
    "        unique_cat=len(data_train_cat[col_name].unique())\n",
    "        print(\"Feature:- {col_name} has {unique_cat} unique categories\".format(col_name=col_name,unique_cat=unique_cat))"
   ]
  },
  {
   "cell_type": "code",
   "execution_count": 30,
   "metadata": {},
   "outputs": [],
   "source": [
    "data_train_cat_dummied=pd.get_dummies(data_train_cat)"
   ]
  },
  {
   "cell_type": "code",
   "execution_count": 31,
   "metadata": {},
   "outputs": [
    {
     "name": "stdout",
     "output_type": "stream",
     "text": [
      "The shape of Catageroical data:  (169307, 55)\n"
     ]
    }
   ],
   "source": [
    "print('The shape of Catageroical data: ',data_train_cat_dummied.shape)"
   ]
  },
  {
   "cell_type": "code",
   "execution_count": 32,
   "metadata": {},
   "outputs": [],
   "source": [
    "del data_train_cat"
   ]
  },
  {
   "cell_type": "code",
   "execution_count": 33,
   "metadata": {},
   "outputs": [],
   "source": [
    "data_train_processed=pd.concat([data_train_pca,data_train_cat_dummied],axis=1)"
   ]
  },
  {
   "cell_type": "code",
   "execution_count": 34,
   "metadata": {},
   "outputs": [
    {
     "name": "stdout",
     "output_type": "stream",
     "text": [
      "The shape of preprocessed training data:  (169307, 66)\n"
     ]
    }
   ],
   "source": [
    "print('The shape of preprocessed training data: ',data_train_processed.shape)"
   ]
  },
  {
   "cell_type": "code",
   "execution_count": 35,
   "metadata": {},
   "outputs": [
    {
     "data": {
      "text/html": [
       "<div>\n",
       "<style>\n",
       "    .dataframe thead tr:only-child th {\n",
       "        text-align: right;\n",
       "    }\n",
       "\n",
       "    .dataframe thead th {\n",
       "        text-align: left;\n",
       "    }\n",
       "\n",
       "    .dataframe tbody tr th {\n",
       "        vertical-align: top;\n",
       "    }\n",
       "</style>\n",
       "<table border=\"1\" class=\"dataframe\">\n",
       "  <thead>\n",
       "    <tr style=\"text-align: right;\">\n",
       "      <th></th>\n",
       "      <th>PC1</th>\n",
       "      <th>PC2</th>\n",
       "      <th>PC3</th>\n",
       "      <th>PC4</th>\n",
       "      <th>PC5</th>\n",
       "      <th>PC6</th>\n",
       "      <th>PC7</th>\n",
       "      <th>PC8</th>\n",
       "      <th>PC9</th>\n",
       "      <th>PC10</th>\n",
       "      <th>...</th>\n",
       "      <th>cat_20_other</th>\n",
       "      <th>cat_21_1</th>\n",
       "      <th>cat_21_2</th>\n",
       "      <th>cat_21_510</th>\n",
       "      <th>cat_21_511</th>\n",
       "      <th>cat_21_other</th>\n",
       "      <th>cat_22_255</th>\n",
       "      <th>cat_22_other</th>\n",
       "      <th>cat_23_255</th>\n",
       "      <th>cat_23_other</th>\n",
       "    </tr>\n",
       "  </thead>\n",
       "  <tbody>\n",
       "    <tr>\n",
       "      <th>0</th>\n",
       "      <td>-1.526824</td>\n",
       "      <td>-0.273090</td>\n",
       "      <td>0.055980</td>\n",
       "      <td>-0.370688</td>\n",
       "      <td>-0.013640</td>\n",
       "      <td>-0.011342</td>\n",
       "      <td>-0.023437</td>\n",
       "      <td>0.121546</td>\n",
       "      <td>-0.255491</td>\n",
       "      <td>0.120225</td>\n",
       "      <td>...</td>\n",
       "      <td>0</td>\n",
       "      <td>0</td>\n",
       "      <td>0</td>\n",
       "      <td>0</td>\n",
       "      <td>1</td>\n",
       "      <td>0</td>\n",
       "      <td>1</td>\n",
       "      <td>0</td>\n",
       "      <td>1</td>\n",
       "      <td>0</td>\n",
       "    </tr>\n",
       "    <tr>\n",
       "      <th>1</th>\n",
       "      <td>-1.526767</td>\n",
       "      <td>-0.273085</td>\n",
       "      <td>0.055472</td>\n",
       "      <td>-0.371114</td>\n",
       "      <td>-0.022053</td>\n",
       "      <td>-0.003077</td>\n",
       "      <td>-0.022022</td>\n",
       "      <td>0.121603</td>\n",
       "      <td>-0.255331</td>\n",
       "      <td>0.120371</td>\n",
       "      <td>...</td>\n",
       "      <td>0</td>\n",
       "      <td>0</td>\n",
       "      <td>0</td>\n",
       "      <td>0</td>\n",
       "      <td>1</td>\n",
       "      <td>0</td>\n",
       "      <td>1</td>\n",
       "      <td>0</td>\n",
       "      <td>1</td>\n",
       "      <td>0</td>\n",
       "    </tr>\n",
       "    <tr>\n",
       "      <th>2</th>\n",
       "      <td>-1.526824</td>\n",
       "      <td>-0.273090</td>\n",
       "      <td>0.055980</td>\n",
       "      <td>-0.370688</td>\n",
       "      <td>-0.013640</td>\n",
       "      <td>-0.011342</td>\n",
       "      <td>-0.023437</td>\n",
       "      <td>0.121546</td>\n",
       "      <td>-0.255491</td>\n",
       "      <td>0.120225</td>\n",
       "      <td>...</td>\n",
       "      <td>0</td>\n",
       "      <td>0</td>\n",
       "      <td>0</td>\n",
       "      <td>0</td>\n",
       "      <td>1</td>\n",
       "      <td>0</td>\n",
       "      <td>1</td>\n",
       "      <td>0</td>\n",
       "      <td>1</td>\n",
       "      <td>0</td>\n",
       "    </tr>\n",
       "    <tr>\n",
       "      <th>3</th>\n",
       "      <td>-1.526824</td>\n",
       "      <td>-0.273090</td>\n",
       "      <td>0.055980</td>\n",
       "      <td>-0.370688</td>\n",
       "      <td>-0.013640</td>\n",
       "      <td>-0.011342</td>\n",
       "      <td>-0.023437</td>\n",
       "      <td>0.121546</td>\n",
       "      <td>-0.255491</td>\n",
       "      <td>0.120225</td>\n",
       "      <td>...</td>\n",
       "      <td>0</td>\n",
       "      <td>0</td>\n",
       "      <td>0</td>\n",
       "      <td>0</td>\n",
       "      <td>1</td>\n",
       "      <td>0</td>\n",
       "      <td>1</td>\n",
       "      <td>0</td>\n",
       "      <td>1</td>\n",
       "      <td>0</td>\n",
       "    </tr>\n",
       "    <tr>\n",
       "      <th>4</th>\n",
       "      <td>-1.526824</td>\n",
       "      <td>-0.273090</td>\n",
       "      <td>0.055980</td>\n",
       "      <td>-0.370688</td>\n",
       "      <td>-0.013640</td>\n",
       "      <td>-0.011342</td>\n",
       "      <td>-0.023437</td>\n",
       "      <td>0.121546</td>\n",
       "      <td>-0.255491</td>\n",
       "      <td>0.120225</td>\n",
       "      <td>...</td>\n",
       "      <td>0</td>\n",
       "      <td>0</td>\n",
       "      <td>0</td>\n",
       "      <td>0</td>\n",
       "      <td>1</td>\n",
       "      <td>0</td>\n",
       "      <td>1</td>\n",
       "      <td>0</td>\n",
       "      <td>1</td>\n",
       "      <td>0</td>\n",
       "    </tr>\n",
       "  </tbody>\n",
       "</table>\n",
       "<p>5 rows × 66 columns</p>\n",
       "</div>"
      ],
      "text/plain": [
       "        PC1       PC2       PC3       PC4       PC5       PC6       PC7  \\\n",
       "0 -1.526824 -0.273090  0.055980 -0.370688 -0.013640 -0.011342 -0.023437   \n",
       "1 -1.526767 -0.273085  0.055472 -0.371114 -0.022053 -0.003077 -0.022022   \n",
       "2 -1.526824 -0.273090  0.055980 -0.370688 -0.013640 -0.011342 -0.023437   \n",
       "3 -1.526824 -0.273090  0.055980 -0.370688 -0.013640 -0.011342 -0.023437   \n",
       "4 -1.526824 -0.273090  0.055980 -0.370688 -0.013640 -0.011342 -0.023437   \n",
       "\n",
       "        PC8       PC9      PC10      ...       cat_20_other  cat_21_1  \\\n",
       "0  0.121546 -0.255491  0.120225      ...                  0         0   \n",
       "1  0.121603 -0.255331  0.120371      ...                  0         0   \n",
       "2  0.121546 -0.255491  0.120225      ...                  0         0   \n",
       "3  0.121546 -0.255491  0.120225      ...                  0         0   \n",
       "4  0.121546 -0.255491  0.120225      ...                  0         0   \n",
       "\n",
       "   cat_21_2  cat_21_510  cat_21_511  cat_21_other  cat_22_255  cat_22_other  \\\n",
       "0         0           0           1             0           1             0   \n",
       "1         0           0           1             0           1             0   \n",
       "2         0           0           1             0           1             0   \n",
       "3         0           0           1             0           1             0   \n",
       "4         0           0           1             0           1             0   \n",
       "\n",
       "   cat_23_255  cat_23_other  \n",
       "0           1             0  \n",
       "1           1             0  \n",
       "2           1             0  \n",
       "3           1             0  \n",
       "4           1             0  \n",
       "\n",
       "[5 rows x 66 columns]"
      ]
     },
     "execution_count": 35,
     "metadata": {},
     "output_type": "execute_result"
    }
   ],
   "source": [
    "data_train_processed.head()"
   ]
  },
  {
   "cell_type": "code",
   "execution_count": 36,
   "metadata": {},
   "outputs": [],
   "source": [
    "from sklearn.ensemble import RandomForestClassifier,ExtraTreesClassifier,AdaBoostClassifier,GradientBoostingClassifier\n",
    "from sklearn.model_selection import train_test_split"
   ]
  },
  {
   "cell_type": "code",
   "execution_count": 37,
   "metadata": {},
   "outputs": [],
   "source": [
    "from sklearn.metrics import confusion_matrix,precision_recall_curve,auc,roc_auc_score,roc_curve,recall_score,classification_report,accuracy_score"
   ]
  },
  {
   "cell_type": "code",
   "execution_count": 38,
   "metadata": {},
   "outputs": [],
   "source": [
    "X_train_pre=data_train_processed.drop('target',axis=1)\n",
    "Y_train_pre=data_train_processed['target']"
   ]
  },
  {
   "cell_type": "code",
   "execution_count": 39,
   "metadata": {},
   "outputs": [],
   "source": [
    "X_train,X_cv_test,Y_train,Y_cv_test=train_test_split(X_train_pre,Y_train_pre,test_size=0.2,stratify=Y_train_pre,random_state=0)"
   ]
  },
  {
   "cell_type": "code",
   "execution_count": 40,
   "metadata": {},
   "outputs": [],
   "source": [
    "rf=RandomForestClassifier(n_estimators=100,random_state=0)\n",
    "rf.fit(X_train,Y_train)\n",
    "rf_pred_cv=rf.predict(X_cv_test)"
   ]
  },
  {
   "cell_type": "code",
   "execution_count": 41,
   "metadata": {},
   "outputs": [
    {
     "name": "stdout",
     "output_type": "stream",
     "text": [
      "The accuracy of the classifier:  0.775943535527\n"
     ]
    }
   ],
   "source": [
    "print('The accuracy of the classifier: ',accuracy_score(Y_cv_test,rf_pred_cv))"
   ]
  },
  {
   "cell_type": "code",
   "execution_count": 44,
   "metadata": {},
   "outputs": [],
   "source": [
    "import xgboost as xgb #learning_rate = 0.02,\n",
    "gbm = xgb.XGBClassifier(n_estimators= 500,max_depth= 4,min_child_weight= 2,gamma=0.9,subsample=0.8,colsample_bytree=0.8,objective= 'multi:softprob',nthread= -1,scale_pos_weight=1).fit(X_train.values, Y_train.values.ravel())"
   ]
  },
  {
   "cell_type": "code",
   "execution_count": 47,
   "metadata": {},
   "outputs": [],
   "source": [
    "predictions = gbm.predict(X_cv_test.values)"
   ]
  },
  {
   "cell_type": "code",
   "execution_count": null,
   "metadata": {},
   "outputs": [],
   "source": [
    "from sklearn.model_selection import StratifiedKFold,KFold\n",
    "\n",
    "num_train = X_train.shape[0]\n",
    "num_test = X_cv_test.shape[0]\n",
    "SEED = 0 # for same randomized reproducibility\n",
    "NFOLDS = 5 # set folds for out-of-fold prediction\n",
    "skf = StratifiedKFold(n_splits=NFOLDS, random_state=SEED)\n",
    "#kf = KFold(n_splits= NFOLDS, random_state=SEED)\n",
    "\n",
    "# Class to extend the Sklearn classifier\n",
    "\n",
    "class Sklearn_Rep(object):\n",
    "    def __init__(self, clf, seed=0, params=None):\n",
    "        params['random_state'] = seed\n",
    "        self.clf = clf(**params)\n",
    "\n",
    "    def train(self, x_train, y_train):\n",
    "        self.clf.fit(x_train, y_train)\n",
    "\n",
    "    def predict(self, x):\n",
    "        return self.clf.predict(x)\n",
    "    \n",
    "    def fit(self,x,y):\n",
    "        return self.clf.fit(x,y)\n",
    "    \n",
    "    def feature_importances(self,x,y):\n",
    "        print(self.clf.fit(x,y).feature_importances_)\n",
    "    \n"
   ]
  },
  {
   "cell_type": "code",
   "execution_count": null,
   "metadata": {},
   "outputs": [],
   "source": [
    "def get_oof(clf, x_train, y_train, x_test):\n",
    "    oof_train = np.zeros((num_train,))\n",
    "    oof_test = np.zeros((num_test,))\n",
    "    oof_test_skf = np.empty((NFOLDS, num_test))\n",
    "\n",
    "    for i,(train_index, test_index) in enumerate(skf.split(x_train,y_train)):\n",
    "        x_tr = x_train[train_index]\n",
    "        y_tr = y_train[train_index]\n",
    "        x_te = x_train[test_index]\n",
    "\n",
    "        clf.train(x_tr, y_tr)\n",
    "\n",
    "        oof_train[test_index] = clf.predict(x_te)\n",
    "        oof_test_skf[i, :] = clf.predict(x_test)\n",
    "\n",
    "    oof_test[:] = oof_test_skf.mean(axis=0)\n",
    "    return oof_train, oof_test"
   ]
  },
  {
   "cell_type": "code",
   "execution_count": null,
   "metadata": {},
   "outputs": [],
   "source": [
    "# Put in our parameters for said classifiers\n",
    "# Random Forest parameters\n",
    "rf_params = {\n",
    "    'n_jobs': -1,\n",
    "    'n_estimators': 500,\n",
    "     'warm_start': True, \n",
    "     #'max_features': 0.2,\n",
    "    'max_depth': 6,\n",
    "    'min_samples_leaf': 2,\n",
    "    'max_features' : 'sqrt',\n",
    "    'verbose': 0\n",
    "}\n",
    "\n",
    "# Extra Trees Parameters\n",
    "et_params = {\n",
    "    'n_jobs': -1,\n",
    "    'n_estimators':500,\n",
    "    #'max_features': 0.5,\n",
    "    'max_depth': 8,\n",
    "    'min_samples_leaf': 2,\n",
    "    'verbose': 0\n",
    "}\n",
    "\n",
    "# AdaBoost parameters\n",
    "ada_params = {\n",
    "    'n_estimators': 500,\n",
    "    'learning_rate' : 0.75\n",
    "}\n",
    "\n",
    "# Gradient Boosting parameters\n",
    "gb_params = {\n",
    "    'n_estimators': 500,\n",
    "     #'max_features': 0.2,\n",
    "    'max_depth': 5,\n",
    "    'min_samples_leaf': 2,\n",
    "    'verbose': 0\n",
    "}"
   ]
  },
  {
   "cell_type": "code",
   "execution_count": null,
   "metadata": {},
   "outputs": [],
   "source": [
    "# Create 5 objects that represent our 4 models\n",
    "rf = Sklearn_Rep(clf=RandomForestClassifier, seed=SEED, params=rf_params)\n",
    "et = Sklearn_Rep(clf=ExtraTreesClassifier, seed=SEED, params=et_params)\n",
    "ada = Sklearn_Rep(clf=AdaBoostClassifier, seed=SEED, params=ada_params)\n",
    "gb = Sklearn_Rep(clf=GradientBoostingClassifier, seed=SEED, params=gb_params)"
   ]
  },
  {
   "cell_type": "code",
   "execution_count": null,
   "metadata": {},
   "outputs": [],
   "source": [
    "X_train.reset_index(inplace=True)\n",
    "X_cv_test.reset_index(inplace=True)\n",
    "#rf_oof_train, rf_oof_test = get_oof(rf,X_train, Y_train, X_cv_test) # Random Forest"
   ]
  },
  {
   "cell_type": "code",
   "execution_count": null,
   "metadata": {},
   "outputs": [],
   "source": [
    "Y_train=Y_train.reset_index()"
   ]
  },
  {
   "cell_type": "code",
   "execution_count": null,
   "metadata": {},
   "outputs": [],
   "source": [
    "Y_train.drop('index',axis=1,inplace=True)"
   ]
  },
  {
   "cell_type": "code",
   "execution_count": null,
   "metadata": {},
   "outputs": [],
   "source": [
    "#et_oof_train, et_oof_test = get_oof(et, X_train.values, Y_train.values.ravel(), X_cv_test.values) # Extra Trees\n",
    "rf_oof_train, rf_oof_test = get_oof(rf, X_train.values, Y_train.values.ravel(), X_cv_test.values) # Random Forest\n",
    "#ada_oof_train, ada_oof_test = get_oof(ada,  X_train.values, Y_train.values.ravel(), X_cv_test.values) # AdaBoost \n",
    "gb_oof_train, gb_oof_test = get_oof(gb, X_train.values, Y_train.values.ravel(), X_cv_test.values) # Gradient Boost\n",
    "print('Training_Complete')"
   ]
  },
  {
   "cell_type": "code",
   "execution_count": null,
   "metadata": {},
   "outputs": [],
   "source": [
    "#base_predictions_train = pd.DataFrame( {'RandomForest': rf_oof_train.ravel()})"
   ]
  },
  {
   "cell_type": "code",
   "execution_count": null,
   "metadata": {},
   "outputs": [],
   "source": [
    "base_predictions_train = pd.DataFrame( {'RandomForest': rf_oof_train.ravel(),\n",
    "      'GradientBoost': gb_oof_train.ravel()\n",
    "    })\n",
    "base_predictions_train.head()"
   ]
  },
  {
   "cell_type": "code",
   "execution_count": 48,
   "metadata": {},
   "outputs": [
    {
     "name": "stdout",
     "output_type": "stream",
     "text": [
      "The accuracy of the classifier:  0.780461874668\n"
     ]
    }
   ],
   "source": [
    "print('The accuracy of the classifier: ',accuracy_score(Y_cv_test,predictions))"
   ]
  },
  {
   "cell_type": "code",
   "execution_count": null,
   "metadata": {},
   "outputs": [],
   "source": []
  }
 ],
 "metadata": {
  "kernelspec": {
   "display_name": "Python [default]",
   "language": "python",
   "name": "python3"
  },
  "language_info": {
   "codemirror_mode": {
    "name": "ipython",
    "version": 3
   },
   "file_extension": ".py",
   "mimetype": "text/x-python",
   "name": "python",
   "nbconvert_exporter": "python",
   "pygments_lexer": "ipython3",
   "version": "3.5.2"
  }
 },
 "nbformat": 4,
 "nbformat_minor": 2
}
