{
 "cells": [
  {
   "cell_type": "markdown",
   "metadata": {},
   "source": [
    "# Introductory H2O Machine Learning Tutorial\n",
    "\n",
    "Prepared for H2O Open Chicago 2016: http://open.h2o.ai/chicago.html"
   ]
  },
  {
   "cell_type": "markdown",
   "metadata": {},
   "source": [
    "## Install H2O\n",
    "\n",
    "The first step in this tutorial is to download and install the h2o Python module.  \n",
    "The latest version is always here: http://www.h2o.ai/download/h2o/py"
   ]
  },
  {
   "cell_type": "markdown",
   "metadata": {},
   "source": [
    "### Start up the H2O Cluster\n",
    "\n",
    "Once the Python module is installed, we begin by starting up a local (on your laptop) H2O cluster."
   ]
  },
  {
   "cell_type": "code",
   "execution_count": 1,
   "metadata": {
    "collapsed": false
   },
   "outputs": [
    {
     "name": "stdout",
     "output_type": "stream",
     "text": [
      "Checking whether there is an H2O instance running at http://localhost:54321..... not found.\n",
      "Attempting to start a local H2O server...\n",
      "; Java HotSpot(TM) 64-Bit Server VM (build 25.151-b12, mixed mode)\n",
      "  Starting server from C:\\Users\\harisyam\\Anaconda3\\lib\\site-packages\\h2o\\backend\\bin\\h2o.jar\n",
      "  Ice root: C:\\Users\\harisyam\\AppData\\Local\\Temp\\tmps51av0rw\n",
      "  JVM stdout: C:\\Users\\harisyam\\AppData\\Local\\Temp\\tmps51av0rw\\h2o_harisyam_started_from_python.out\n",
      "  JVM stderr: C:\\Users\\harisyam\\AppData\\Local\\Temp\\tmps51av0rw\\h2o_harisyam_started_from_python.err\n",
      "  Server is running at http://127.0.0.1:54321\n",
      "Connecting to H2O server at http://127.0.0.1:54321... successful.\n"
     ]
    },
    {
     "data": {
      "text/html": [
       "<div style=\"overflow:auto\"><table style=\"width:50%\"><tr><td>H2O cluster uptime:</td>\n",
       "<td>05 secs</td></tr>\n",
       "<tr><td>H2O cluster version:</td>\n",
       "<td>3.14.0.7</td></tr>\n",
       "<tr><td>H2O cluster version age:</td>\n",
       "<td>3 days </td></tr>\n",
       "<tr><td>H2O cluster name:</td>\n",
       "<td>H2O_from_python_harisyam_on7yvr</td></tr>\n",
       "<tr><td>H2O cluster total nodes:</td>\n",
       "<td>1</td></tr>\n",
       "<tr><td>H2O cluster free memory:</td>\n",
       "<td>3.556 Gb</td></tr>\n",
       "<tr><td>H2O cluster total cores:</td>\n",
       "<td>0</td></tr>\n",
       "<tr><td>H2O cluster allowed cores:</td>\n",
       "<td>0</td></tr>\n",
       "<tr><td>H2O cluster status:</td>\n",
       "<td>accepting new members, healthy</td></tr>\n",
       "<tr><td>H2O connection url:</td>\n",
       "<td>http://127.0.0.1:54321</td></tr>\n",
       "<tr><td>H2O connection proxy:</td>\n",
       "<td>None</td></tr>\n",
       "<tr><td>H2O internal security:</td>\n",
       "<td>False</td></tr>\n",
       "<tr><td>H2O API Extensions:</td>\n",
       "<td>Algos, AutoML, Core V3, Core V4</td></tr>\n",
       "<tr><td>Python version:</td>\n",
       "<td>3.5.2 final</td></tr></table></div>"
      ],
      "text/plain": [
       "--------------------------  -------------------------------\n",
       "H2O cluster uptime:         05 secs\n",
       "H2O cluster version:        3.14.0.7\n",
       "H2O cluster version age:    3 days\n",
       "H2O cluster name:           H2O_from_python_harisyam_on7yvr\n",
       "H2O cluster total nodes:    1\n",
       "H2O cluster free memory:    3.556 Gb\n",
       "H2O cluster total cores:    0\n",
       "H2O cluster allowed cores:  0\n",
       "H2O cluster status:         accepting new members, healthy\n",
       "H2O connection url:         http://127.0.0.1:54321\n",
       "H2O connection proxy:\n",
       "H2O internal security:      False\n",
       "H2O API Extensions:         Algos, AutoML, Core V3, Core V4\n",
       "Python version:             3.5.2 final\n",
       "--------------------------  -------------------------------"
      ]
     },
     "metadata": {},
     "output_type": "display_data"
    }
   ],
   "source": [
    "# Load the H2O library and start up the H2O cluter locally on your machine\n",
    "import h2o\n",
    "\n",
    "# Number of threads, nthreads = -1, means use all cores on your machine\n",
    "# max_mem_size is the maximum memory (in GB) to allocate to H2O\n",
    "h2o.init(nthreads = -1, max_mem_size = 4)"
   ]
  },
  {
   "cell_type": "markdown",
   "metadata": {},
   "source": [
    "## Data prep\n",
    "\n",
    "### Import data\n",
    "Next we will import a cleaned up version of the Lending Club \"Bad Loans\" dataset. The purpose here is to predict whether a loan will be bad (i.e. not repaid to the lender). The response column, `bad_loan`, is 1 if the loan was bad, and 0 otherwise."
   ]
  },
  {
   "cell_type": "code",
   "execution_count": 3,
   "metadata": {
    "collapsed": false
   },
   "outputs": [
    {
     "name": "stdout",
     "output_type": "stream",
     "text": [
      "Parse progress: |█████████████████████████████████████████████████████████| 100%\n"
     ]
    }
   ],
   "source": [
    "loan_csv = \"mushrooms.csv\"  # modify this for your machine\n",
    "# Alternatively, you can import the data directly from a URL\n",
    "#loan_csv = \"https://raw.githubusercontent.com/h2oai/app-consumer-loan/master/data/loan.csv\"\n",
    "data = h2o.import_file(loan_csv)  # 163,987 rows x 15 columns"
   ]
  },
  {
   "cell_type": "code",
   "execution_count": 36,
   "metadata": {
    "collapsed": true
   },
   "outputs": [],
   "source": [
    "import pandas as pd\n",
    "data=pd.read_csv('mushrooms.csv')"
   ]
  },
  {
   "cell_type": "code",
   "execution_count": 37,
   "metadata": {
    "collapsed": false
   },
   "outputs": [
    {
     "data": {
      "text/html": [
       "<div>\n",
       "<table border=\"1\" class=\"dataframe\">\n",
       "  <thead>\n",
       "    <tr style=\"text-align: right;\">\n",
       "      <th></th>\n",
       "      <th>class</th>\n",
       "      <th>cap-shape</th>\n",
       "      <th>cap-surface</th>\n",
       "      <th>cap-color</th>\n",
       "      <th>bruises</th>\n",
       "      <th>odor</th>\n",
       "      <th>gill-attachment</th>\n",
       "      <th>gill-spacing</th>\n",
       "      <th>gill-size</th>\n",
       "      <th>gill-color</th>\n",
       "      <th>...</th>\n",
       "      <th>stalk-surface-below-ring</th>\n",
       "      <th>stalk-color-above-ring</th>\n",
       "      <th>stalk-color-below-ring</th>\n",
       "      <th>veil-type</th>\n",
       "      <th>veil-color</th>\n",
       "      <th>ring-number</th>\n",
       "      <th>ring-type</th>\n",
       "      <th>spore-print-color</th>\n",
       "      <th>population</th>\n",
       "      <th>habitat</th>\n",
       "    </tr>\n",
       "  </thead>\n",
       "  <tbody>\n",
       "    <tr>\n",
       "      <th>0</th>\n",
       "      <td>p</td>\n",
       "      <td>x</td>\n",
       "      <td>s</td>\n",
       "      <td>n</td>\n",
       "      <td>t</td>\n",
       "      <td>p</td>\n",
       "      <td>f</td>\n",
       "      <td>c</td>\n",
       "      <td>n</td>\n",
       "      <td>k</td>\n",
       "      <td>...</td>\n",
       "      <td>s</td>\n",
       "      <td>w</td>\n",
       "      <td>w</td>\n",
       "      <td>p</td>\n",
       "      <td>w</td>\n",
       "      <td>o</td>\n",
       "      <td>p</td>\n",
       "      <td>k</td>\n",
       "      <td>s</td>\n",
       "      <td>u</td>\n",
       "    </tr>\n",
       "    <tr>\n",
       "      <th>1</th>\n",
       "      <td>e</td>\n",
       "      <td>x</td>\n",
       "      <td>s</td>\n",
       "      <td>y</td>\n",
       "      <td>t</td>\n",
       "      <td>a</td>\n",
       "      <td>f</td>\n",
       "      <td>c</td>\n",
       "      <td>b</td>\n",
       "      <td>k</td>\n",
       "      <td>...</td>\n",
       "      <td>s</td>\n",
       "      <td>w</td>\n",
       "      <td>w</td>\n",
       "      <td>p</td>\n",
       "      <td>w</td>\n",
       "      <td>o</td>\n",
       "      <td>p</td>\n",
       "      <td>n</td>\n",
       "      <td>n</td>\n",
       "      <td>g</td>\n",
       "    </tr>\n",
       "    <tr>\n",
       "      <th>2</th>\n",
       "      <td>e</td>\n",
       "      <td>b</td>\n",
       "      <td>s</td>\n",
       "      <td>w</td>\n",
       "      <td>t</td>\n",
       "      <td>l</td>\n",
       "      <td>f</td>\n",
       "      <td>c</td>\n",
       "      <td>b</td>\n",
       "      <td>n</td>\n",
       "      <td>...</td>\n",
       "      <td>s</td>\n",
       "      <td>w</td>\n",
       "      <td>w</td>\n",
       "      <td>p</td>\n",
       "      <td>w</td>\n",
       "      <td>o</td>\n",
       "      <td>p</td>\n",
       "      <td>n</td>\n",
       "      <td>n</td>\n",
       "      <td>m</td>\n",
       "    </tr>\n",
       "    <tr>\n",
       "      <th>3</th>\n",
       "      <td>p</td>\n",
       "      <td>x</td>\n",
       "      <td>y</td>\n",
       "      <td>w</td>\n",
       "      <td>t</td>\n",
       "      <td>p</td>\n",
       "      <td>f</td>\n",
       "      <td>c</td>\n",
       "      <td>n</td>\n",
       "      <td>n</td>\n",
       "      <td>...</td>\n",
       "      <td>s</td>\n",
       "      <td>w</td>\n",
       "      <td>w</td>\n",
       "      <td>p</td>\n",
       "      <td>w</td>\n",
       "      <td>o</td>\n",
       "      <td>p</td>\n",
       "      <td>k</td>\n",
       "      <td>s</td>\n",
       "      <td>u</td>\n",
       "    </tr>\n",
       "    <tr>\n",
       "      <th>4</th>\n",
       "      <td>e</td>\n",
       "      <td>x</td>\n",
       "      <td>s</td>\n",
       "      <td>g</td>\n",
       "      <td>f</td>\n",
       "      <td>n</td>\n",
       "      <td>f</td>\n",
       "      <td>w</td>\n",
       "      <td>b</td>\n",
       "      <td>k</td>\n",
       "      <td>...</td>\n",
       "      <td>s</td>\n",
       "      <td>w</td>\n",
       "      <td>w</td>\n",
       "      <td>p</td>\n",
       "      <td>w</td>\n",
       "      <td>o</td>\n",
       "      <td>e</td>\n",
       "      <td>n</td>\n",
       "      <td>a</td>\n",
       "      <td>g</td>\n",
       "    </tr>\n",
       "  </tbody>\n",
       "</table>\n",
       "<p>5 rows × 23 columns</p>\n",
       "</div>"
      ],
      "text/plain": [
       "  class cap-shape cap-surface cap-color bruises odor gill-attachment  \\\n",
       "0     p         x           s         n       t    p               f   \n",
       "1     e         x           s         y       t    a               f   \n",
       "2     e         b           s         w       t    l               f   \n",
       "3     p         x           y         w       t    p               f   \n",
       "4     e         x           s         g       f    n               f   \n",
       "\n",
       "  gill-spacing gill-size gill-color   ...   stalk-surface-below-ring  \\\n",
       "0            c         n          k   ...                          s   \n",
       "1            c         b          k   ...                          s   \n",
       "2            c         b          n   ...                          s   \n",
       "3            c         n          n   ...                          s   \n",
       "4            w         b          k   ...                          s   \n",
       "\n",
       "  stalk-color-above-ring stalk-color-below-ring veil-type veil-color  \\\n",
       "0                      w                      w         p          w   \n",
       "1                      w                      w         p          w   \n",
       "2                      w                      w         p          w   \n",
       "3                      w                      w         p          w   \n",
       "4                      w                      w         p          w   \n",
       "\n",
       "  ring-number ring-type spore-print-color population habitat  \n",
       "0           o         p                 k          s       u  \n",
       "1           o         p                 n          n       g  \n",
       "2           o         p                 n          n       m  \n",
       "3           o         p                 k          s       u  \n",
       "4           o         e                 n          a       g  \n",
       "\n",
       "[5 rows x 23 columns]"
      ]
     },
     "execution_count": 37,
     "metadata": {},
     "output_type": "execute_result"
    }
   ],
   "source": [
    "data.head()"
   ]
  },
  {
   "cell_type": "code",
   "execution_count": 38,
   "metadata": {
    "collapsed": true
   },
   "outputs": [],
   "source": [
    "cls=data['class']\n",
    "data=data.drop('class',axis=1)"
   ]
  },
  {
   "cell_type": "code",
   "execution_count": 39,
   "metadata": {
    "collapsed": false
   },
   "outputs": [],
   "source": [
    "import numpy as np\n",
    "import random\n",
    "import collections\n",
    "replaced = collections.defaultdict(set)\n",
    "ix = [(row, col) for row in range(data.shape[0]) for col in range(data.shape[1])]\n",
    "random.shuffle(ix)\n",
    "to_replace = int(round(.1*len(ix)))\n",
    "for row, col in ix:\n",
    "    if len(replaced[row]) < data.shape[1] - 1:\n",
    "        data.iloc[row, col] = np.nan\n",
    "        to_replace -= 1\n",
    "        replaced[row].add(col)\n",
    "        if to_replace == 0:\n",
    "            break"
   ]
  },
  {
   "cell_type": "code",
   "execution_count": 41,
   "metadata": {
    "collapsed": false
   },
   "outputs": [],
   "source": [
    "data['class']=cls"
   ]
  },
  {
   "cell_type": "code",
   "execution_count": 42,
   "metadata": {
    "collapsed": false
   },
   "outputs": [
    {
     "name": "stdout",
     "output_type": "stream",
     "text": [
      "Parse progress: |█████████████████████████████████████████████████████████| 100%\n"
     ]
    }
   ],
   "source": [
    "data=h2o.H2OFrame(data)"
   ]
  },
  {
   "cell_type": "code",
   "execution_count": 43,
   "metadata": {
    "collapsed": false
   },
   "outputs": [
    {
     "data": {
      "text/html": [
       "<table>\n",
       "<thead>\n",
       "<tr><th>cap-shape  </th><th>cap-surface  </th><th>cap-color  </th><th>bruises  </th><th>odor  </th><th>gill-attachment  </th><th>gill-spacing  </th><th>gill-size  </th><th>gill-color  </th><th>stalk-shape  </th><th>stalk-root  </th><th>stalk-surface-above-ring  </th><th>stalk-surface-below-ring  </th><th>stalk-color-above-ring  </th><th>stalk-color-below-ring  </th><th>veil-type  </th><th>veil-color  </th><th>ring-number  </th><th>ring-type  </th><th>spore-print-color  </th><th>population  </th><th>habitat  </th><th>class  </th></tr>\n",
       "</thead>\n",
       "<tbody>\n",
       "<tr><td>x          </td><td>nan          </td><td>nan        </td><td>t        </td><td>p     </td><td>f                </td><td>c             </td><td>n          </td><td>k           </td><td>e            </td><td>e           </td><td>s                         </td><td>s                         </td><td>w                       </td><td>w                       </td><td>p          </td><td>w           </td><td>o            </td><td>p          </td><td>k                  </td><td>s           </td><td>u        </td><td>p      </td></tr>\n",
       "<tr><td>x          </td><td>s            </td><td>y          </td><td>t        </td><td>a     </td><td>f                </td><td>c             </td><td>b          </td><td>k           </td><td>e            </td><td>nan         </td><td>s                         </td><td>s                         </td><td>nan                     </td><td>w                       </td><td>p          </td><td>w           </td><td>o            </td><td>p          </td><td>n                  </td><td>n           </td><td>g        </td><td>e      </td></tr>\n",
       "<tr><td>b          </td><td>s            </td><td>w          </td><td>t        </td><td>l     </td><td>f                </td><td>c             </td><td>nan        </td><td>n           </td><td>e            </td><td>c           </td><td>s                         </td><td>s                         </td><td>w                       </td><td>w                       </td><td>p          </td><td>w           </td><td>o            </td><td>p          </td><td>n                  </td><td>n           </td><td>m        </td><td>e      </td></tr>\n",
       "<tr><td>x          </td><td>y            </td><td>w          </td><td>t        </td><td>p     </td><td>f                </td><td>c             </td><td>n          </td><td>n           </td><td>e            </td><td>e           </td><td>s                         </td><td>s                         </td><td>w                       </td><td>w                       </td><td>p          </td><td>w           </td><td>o            </td><td>p          </td><td>k                  </td><td>s           </td><td>u        </td><td>p      </td></tr>\n",
       "<tr><td>nan        </td><td>s            </td><td>g          </td><td>f        </td><td>n     </td><td>f                </td><td>w             </td><td>b          </td><td>k           </td><td>t            </td><td>e           </td><td>s                         </td><td>s                         </td><td>w                       </td><td>w                       </td><td>nan        </td><td>w           </td><td>o            </td><td>e          </td><td>n                  </td><td>a           </td><td>g        </td><td>e      </td></tr>\n",
       "<tr><td>x          </td><td>nan          </td><td>y          </td><td>nan      </td><td>a     </td><td>f                </td><td>nan           </td><td>b          </td><td>nan         </td><td>e            </td><td>c           </td><td>s                         </td><td>s                         </td><td>nan                     </td><td>w                       </td><td>p          </td><td>w           </td><td>o            </td><td>p          </td><td>k                  </td><td>n           </td><td>g        </td><td>e      </td></tr>\n",
       "<tr><td>b          </td><td>s            </td><td>w          </td><td>t        </td><td>a     </td><td>f                </td><td>nan           </td><td>b          </td><td>g           </td><td>e            </td><td>c           </td><td>s                         </td><td>s                         </td><td>w                       </td><td>w                       </td><td>p          </td><td>w           </td><td>o            </td><td>p          </td><td>k                  </td><td>n           </td><td>m        </td><td>e      </td></tr>\n",
       "<tr><td>b          </td><td>y            </td><td>w          </td><td>t        </td><td>l     </td><td>f                </td><td>c             </td><td>b          </td><td>n           </td><td>e            </td><td>c           </td><td>s                         </td><td>s                         </td><td>w                       </td><td>w                       </td><td>p          </td><td>w           </td><td>o            </td><td>p          </td><td>n                  </td><td>s           </td><td>m        </td><td>e      </td></tr>\n",
       "<tr><td>x          </td><td>y            </td><td>nan        </td><td>t        </td><td>p     </td><td>f                </td><td>c             </td><td>n          </td><td>p           </td><td>e            </td><td>e           </td><td>nan                       </td><td>s                         </td><td>nan                     </td><td>w                       </td><td>nan        </td><td>w           </td><td>o            </td><td>p          </td><td>k                  </td><td>v           </td><td>g        </td><td>p      </td></tr>\n",
       "<tr><td>b          </td><td>s            </td><td>y          </td><td>t        </td><td>a     </td><td>f                </td><td>nan           </td><td>b          </td><td>g           </td><td>e            </td><td>c           </td><td>s                         </td><td>s                         </td><td>w                       </td><td>w                       </td><td>p          </td><td>w           </td><td>o            </td><td>nan        </td><td>k                  </td><td>s           </td><td>m        </td><td>e      </td></tr>\n",
       "</tbody>\n",
       "</table>"
      ]
     },
     "metadata": {},
     "output_type": "display_data"
    },
    {
     "data": {
      "text/plain": []
     },
     "execution_count": 43,
     "metadata": {},
     "output_type": "execute_result"
    }
   ],
   "source": [
    "data.head()"
   ]
  },
  {
   "cell_type": "markdown",
   "metadata": {},
   "source": [
    "### Encode response variable\n",
    "Since we want to train a binary classification model, we must ensure that the response is coded as a factor. If the response is 0/1, H2O will assume it's numeric, which means that H2O will train a regression model instead."
   ]
  },
  {
   "cell_type": "code",
   "execution_count": 44,
   "metadata": {
    "collapsed": false
   },
   "outputs": [
    {
     "data": {
      "text/plain": [
       "[['e', 'p']]"
      ]
     },
     "execution_count": 44,
     "metadata": {},
     "output_type": "execute_result"
    }
   ],
   "source": [
    "data['class'] = data['class'].asfactor()  #encode the binary repsonse as a factor\n",
    "data['class'].levels()  #optional: after encoding, this shows the two factor levels, '0' and '1'"
   ]
  },
  {
   "cell_type": "code",
   "execution_count": 7,
   "metadata": {
    "collapsed": false
   },
   "outputs": [
    {
     "data": {
      "text/html": [
       "<table>\n",
       "<thead>\n",
       "<tr><th>class  </th><th>cap-shape  </th><th>cap-surface  </th><th>cap-color  </th><th>bruises  </th><th>odor  </th><th>gill-attachment  </th><th>gill-spacing  </th><th>gill-size  </th><th>gill-color  </th><th>stalk-shape  </th><th>stalk-root  </th><th>stalk-surface-above-ring  </th><th>stalk-surface-below-ring  </th><th>stalk-color-above-ring  </th><th>stalk-color-below-ring  </th><th>veil-type  </th><th>veil-color  </th><th>ring-number  </th><th>ring-type  </th><th>spore-print-color  </th><th>population  </th><th>habitat  </th></tr>\n",
       "</thead>\n",
       "<tbody>\n",
       "<tr><td>p      </td><td>x          </td><td>s            </td><td>n          </td><td>t        </td><td>p     </td><td>f                </td><td>c             </td><td>n          </td><td>k           </td><td>e            </td><td>e           </td><td>s                         </td><td>s                         </td><td>w                       </td><td>w                       </td><td>p          </td><td>w           </td><td>o            </td><td>p          </td><td>k                  </td><td>s           </td><td>u        </td></tr>\n",
       "<tr><td>e      </td><td>x          </td><td>s            </td><td>y          </td><td>t        </td><td>a     </td><td>f                </td><td>c             </td><td>b          </td><td>k           </td><td>e            </td><td>c           </td><td>s                         </td><td>s                         </td><td>w                       </td><td>w                       </td><td>p          </td><td>w           </td><td>o            </td><td>p          </td><td>n                  </td><td>n           </td><td>g        </td></tr>\n",
       "<tr><td>e      </td><td>b          </td><td>s            </td><td>w          </td><td>t        </td><td>l     </td><td>f                </td><td>c             </td><td>b          </td><td>n           </td><td>e            </td><td>c           </td><td>s                         </td><td>s                         </td><td>w                       </td><td>w                       </td><td>p          </td><td>w           </td><td>o            </td><td>p          </td><td>n                  </td><td>n           </td><td>m        </td></tr>\n",
       "<tr><td>p      </td><td>x          </td><td>y            </td><td>w          </td><td>t        </td><td>p     </td><td>f                </td><td>c             </td><td>n          </td><td>n           </td><td>e            </td><td>e           </td><td>s                         </td><td>s                         </td><td>w                       </td><td>w                       </td><td>p          </td><td>w           </td><td>o            </td><td>p          </td><td>k                  </td><td>s           </td><td>u        </td></tr>\n",
       "<tr><td>e      </td><td>x          </td><td>s            </td><td>g          </td><td>f        </td><td>n     </td><td>f                </td><td>w             </td><td>b          </td><td>k           </td><td>t            </td><td>e           </td><td>s                         </td><td>s                         </td><td>w                       </td><td>w                       </td><td>p          </td><td>w           </td><td>o            </td><td>e          </td><td>n                  </td><td>a           </td><td>g        </td></tr>\n",
       "<tr><td>e      </td><td>x          </td><td>y            </td><td>y          </td><td>t        </td><td>a     </td><td>f                </td><td>c             </td><td>b          </td><td>n           </td><td>e            </td><td>c           </td><td>s                         </td><td>s                         </td><td>w                       </td><td>w                       </td><td>p          </td><td>w           </td><td>o            </td><td>p          </td><td>k                  </td><td>n           </td><td>g        </td></tr>\n",
       "<tr><td>e      </td><td>b          </td><td>s            </td><td>w          </td><td>t        </td><td>a     </td><td>f                </td><td>c             </td><td>b          </td><td>g           </td><td>e            </td><td>c           </td><td>s                         </td><td>s                         </td><td>w                       </td><td>w                       </td><td>p          </td><td>w           </td><td>o            </td><td>p          </td><td>k                  </td><td>n           </td><td>m        </td></tr>\n",
       "<tr><td>e      </td><td>b          </td><td>y            </td><td>w          </td><td>t        </td><td>l     </td><td>f                </td><td>c             </td><td>b          </td><td>n           </td><td>e            </td><td>c           </td><td>s                         </td><td>s                         </td><td>w                       </td><td>w                       </td><td>p          </td><td>w           </td><td>o            </td><td>p          </td><td>n                  </td><td>s           </td><td>m        </td></tr>\n",
       "<tr><td>p      </td><td>x          </td><td>y            </td><td>w          </td><td>t        </td><td>p     </td><td>f                </td><td>c             </td><td>n          </td><td>p           </td><td>e            </td><td>e           </td><td>s                         </td><td>s                         </td><td>w                       </td><td>w                       </td><td>p          </td><td>w           </td><td>o            </td><td>p          </td><td>k                  </td><td>v           </td><td>g        </td></tr>\n",
       "<tr><td>e      </td><td>b          </td><td>s            </td><td>y          </td><td>t        </td><td>a     </td><td>f                </td><td>c             </td><td>b          </td><td>g           </td><td>e            </td><td>c           </td><td>s                         </td><td>s                         </td><td>w                       </td><td>w                       </td><td>p          </td><td>w           </td><td>o            </td><td>p          </td><td>k                  </td><td>s           </td><td>m        </td></tr>\n",
       "</tbody>\n",
       "</table>"
      ]
     },
     "metadata": {},
     "output_type": "display_data"
    },
    {
     "data": {
      "text/plain": []
     },
     "execution_count": 7,
     "metadata": {},
     "output_type": "execute_result"
    }
   ],
   "source": [
    "data.head()"
   ]
  },
  {
   "cell_type": "code",
   "execution_count": null,
   "metadata": {
    "collapsed": false
   },
   "outputs": [],
   "source": [
    "\n",
    "\n"
   ]
  },
  {
   "cell_type": "markdown",
   "metadata": {},
   "source": [
    "### Partition data\n",
    "\n",
    "Next, we partition the data into training, validation and test sets."
   ]
  },
  {
   "cell_type": "code",
   "execution_count": 45,
   "metadata": {
    "collapsed": false
   },
   "outputs": [],
   "source": [
    "# Partition data into 70%, 15%, 15% chunks\n",
    "# Setting a seed will guarantee reproducibility\n",
    "\n",
    "splits = data.split_frame(ratios=[0.7, 0.15], seed=1)  #\n",
    "\n",
    "train = splits[0]\n",
    "valid = splits[1]\n",
    "test = splits[2]"
   ]
  },
  {
   "cell_type": "code",
   "execution_count": 46,
   "metadata": {
    "collapsed": false
   },
   "outputs": [
    {
     "data": {
      "text/html": [
       "<table>\n",
       "<thead>\n",
       "<tr><th>cap-shape  </th><th>cap-surface  </th><th>cap-color  </th><th>bruises  </th><th>odor  </th><th>gill-attachment  </th><th>gill-spacing  </th><th>gill-size  </th><th>gill-color  </th><th>stalk-shape  </th><th>stalk-root  </th><th>stalk-surface-above-ring  </th><th>stalk-surface-below-ring  </th><th>stalk-color-above-ring  </th><th>stalk-color-below-ring  </th><th>veil-type  </th><th>veil-color  </th><th>ring-number  </th><th>ring-type  </th><th>spore-print-color  </th><th>population  </th><th>habitat  </th><th>class  </th></tr>\n",
       "</thead>\n",
       "<tbody>\n",
       "<tr><td>x          </td><td>nan          </td><td>nan        </td><td>t        </td><td>p     </td><td>f                </td><td>c             </td><td>n          </td><td>k           </td><td>e            </td><td>e           </td><td>s                         </td><td>s                         </td><td>w                       </td><td>w                       </td><td>p          </td><td>w           </td><td>o            </td><td>p          </td><td>k                  </td><td>s           </td><td>u        </td><td>p      </td></tr>\n",
       "<tr><td>x          </td><td>s            </td><td>y          </td><td>t        </td><td>a     </td><td>f                </td><td>c             </td><td>b          </td><td>k           </td><td>e            </td><td>nan         </td><td>s                         </td><td>s                         </td><td>nan                     </td><td>w                       </td><td>p          </td><td>w           </td><td>o            </td><td>p          </td><td>n                  </td><td>n           </td><td>g        </td><td>e      </td></tr>\n",
       "<tr><td>x          </td><td>y            </td><td>w          </td><td>t        </td><td>p     </td><td>f                </td><td>c             </td><td>n          </td><td>n           </td><td>e            </td><td>e           </td><td>s                         </td><td>s                         </td><td>w                       </td><td>w                       </td><td>p          </td><td>w           </td><td>o            </td><td>p          </td><td>k                  </td><td>s           </td><td>u        </td><td>p      </td></tr>\n",
       "<tr><td>x          </td><td>nan          </td><td>y          </td><td>nan      </td><td>a     </td><td>f                </td><td>nan           </td><td>b          </td><td>nan         </td><td>e            </td><td>c           </td><td>s                         </td><td>s                         </td><td>nan                     </td><td>w                       </td><td>p          </td><td>w           </td><td>o            </td><td>p          </td><td>k                  </td><td>n           </td><td>g        </td><td>e      </td></tr>\n",
       "<tr><td>b          </td><td>y            </td><td>w          </td><td>t        </td><td>l     </td><td>f                </td><td>c             </td><td>b          </td><td>n           </td><td>e            </td><td>c           </td><td>s                         </td><td>s                         </td><td>w                       </td><td>w                       </td><td>p          </td><td>w           </td><td>o            </td><td>p          </td><td>n                  </td><td>s           </td><td>m        </td><td>e      </td></tr>\n",
       "<tr><td>x          </td><td>y            </td><td>nan        </td><td>t        </td><td>p     </td><td>f                </td><td>c             </td><td>n          </td><td>p           </td><td>e            </td><td>e           </td><td>nan                       </td><td>s                         </td><td>nan                     </td><td>w                       </td><td>nan        </td><td>w           </td><td>o            </td><td>p          </td><td>k                  </td><td>v           </td><td>g        </td><td>p      </td></tr>\n",
       "<tr><td>nan        </td><td>y            </td><td>y          </td><td>t        </td><td>a     </td><td>f                </td><td>c             </td><td>b          </td><td>n           </td><td>e            </td><td>c           </td><td>s                         </td><td>s                         </td><td>w                       </td><td>w                       </td><td>p          </td><td>nan         </td><td>o            </td><td>nan        </td><td>nan                </td><td>s           </td><td>m        </td><td>e      </td></tr>\n",
       "<tr><td>x          </td><td>y            </td><td>w          </td><td>t        </td><td>p     </td><td>f                </td><td>c             </td><td>n          </td><td>k           </td><td>e            </td><td>e           </td><td>s                         </td><td>s                         </td><td>w                       </td><td>nan                     </td><td>p          </td><td>w           </td><td>o            </td><td>p          </td><td>n                  </td><td>v           </td><td>u        </td><td>p      </td></tr>\n",
       "<tr><td>x          </td><td>f            </td><td>n          </td><td>f        </td><td>nan   </td><td>f                </td><td>w             </td><td>b          </td><td>n           </td><td>t            </td><td>e           </td><td>s                         </td><td>f                         </td><td>w                       </td><td>w                       </td><td>nan        </td><td>w           </td><td>o            </td><td>e          </td><td>k                  </td><td>a           </td><td>g        </td><td>e      </td></tr>\n",
       "<tr><td>s          </td><td>f            </td><td>g          </td><td>nan      </td><td>n     </td><td>f                </td><td>c             </td><td>n          </td><td>nan         </td><td>e            </td><td>e           </td><td>nan                       </td><td>s                         </td><td>w                       </td><td>w                       </td><td>p          </td><td>nan         </td><td>o            </td><td>p          </td><td>n                  </td><td>y           </td><td>u        </td><td>e      </td></tr>\n",
       "</tbody>\n",
       "</table>"
      ]
     },
     "metadata": {},
     "output_type": "display_data"
    },
    {
     "data": {
      "text/plain": []
     },
     "execution_count": 46,
     "metadata": {},
     "output_type": "execute_result"
    }
   ],
   "source": [
    "train.head()"
   ]
  },
  {
   "cell_type": "code",
   "execution_count": 14,
   "metadata": {
    "collapsed": true
   },
   "outputs": [],
   "source": [
    "from sklearn.model_selection import train_test_split"
   ]
  },
  {
   "cell_type": "code",
   "execution_count": 23,
   "metadata": {
    "collapsed": true
   },
   "outputs": [],
   "source": [
    "X=data.drop('class',axis=1)\n",
    "y=data['class']"
   ]
  },
  {
   "cell_type": "code",
   "execution_count": 24,
   "metadata": {
    "collapsed": true
   },
   "outputs": [],
   "source": [
    "X=pd.get_dummies(X)\n",
    "X_cols=list(X.columns)\n",
    "Y_cols='class'"
   ]
  },
  {
   "cell_type": "code",
   "execution_count": 25,
   "metadata": {
    "collapsed": true
   },
   "outputs": [],
   "source": [
    "X_train,X_test,Y_train,Y_test=train_test_split(X,y,test_size=0.3,random_state=0)"
   ]
  },
  {
   "cell_type": "code",
   "execution_count": 26,
   "metadata": {
    "collapsed": false
   },
   "outputs": [
    {
     "data": {
      "text/html": [
       "<div>\n",
       "<table border=\"1\" class=\"dataframe\">\n",
       "  <thead>\n",
       "    <tr style=\"text-align: right;\">\n",
       "      <th></th>\n",
       "      <th>cap-shape_b</th>\n",
       "      <th>cap-shape_c</th>\n",
       "      <th>cap-shape_f</th>\n",
       "      <th>cap-shape_k</th>\n",
       "      <th>cap-shape_s</th>\n",
       "      <th>cap-shape_x</th>\n",
       "      <th>cap-surface_f</th>\n",
       "      <th>cap-surface_g</th>\n",
       "      <th>cap-surface_s</th>\n",
       "      <th>cap-surface_y</th>\n",
       "      <th>...</th>\n",
       "      <th>population_s</th>\n",
       "      <th>population_v</th>\n",
       "      <th>population_y</th>\n",
       "      <th>habitat_d</th>\n",
       "      <th>habitat_g</th>\n",
       "      <th>habitat_l</th>\n",
       "      <th>habitat_m</th>\n",
       "      <th>habitat_p</th>\n",
       "      <th>habitat_u</th>\n",
       "      <th>habitat_w</th>\n",
       "    </tr>\n",
       "  </thead>\n",
       "  <tbody>\n",
       "    <tr>\n",
       "      <th>5314</th>\n",
       "      <td>0.0</td>\n",
       "      <td>0.0</td>\n",
       "      <td>0.0</td>\n",
       "      <td>0.0</td>\n",
       "      <td>0.0</td>\n",
       "      <td>1.0</td>\n",
       "      <td>0.0</td>\n",
       "      <td>0.0</td>\n",
       "      <td>1.0</td>\n",
       "      <td>0.0</td>\n",
       "      <td>...</td>\n",
       "      <td>0.0</td>\n",
       "      <td>1.0</td>\n",
       "      <td>0.0</td>\n",
       "      <td>0.0</td>\n",
       "      <td>1.0</td>\n",
       "      <td>0.0</td>\n",
       "      <td>0.0</td>\n",
       "      <td>0.0</td>\n",
       "      <td>0.0</td>\n",
       "      <td>0.0</td>\n",
       "    </tr>\n",
       "    <tr>\n",
       "      <th>2075</th>\n",
       "      <td>0.0</td>\n",
       "      <td>0.0</td>\n",
       "      <td>0.0</td>\n",
       "      <td>0.0</td>\n",
       "      <td>0.0</td>\n",
       "      <td>1.0</td>\n",
       "      <td>0.0</td>\n",
       "      <td>0.0</td>\n",
       "      <td>1.0</td>\n",
       "      <td>0.0</td>\n",
       "      <td>...</td>\n",
       "      <td>0.0</td>\n",
       "      <td>0.0</td>\n",
       "      <td>0.0</td>\n",
       "      <td>0.0</td>\n",
       "      <td>0.0</td>\n",
       "      <td>0.0</td>\n",
       "      <td>1.0</td>\n",
       "      <td>0.0</td>\n",
       "      <td>0.0</td>\n",
       "      <td>0.0</td>\n",
       "    </tr>\n",
       "    <tr>\n",
       "      <th>5165</th>\n",
       "      <td>0.0</td>\n",
       "      <td>0.0</td>\n",
       "      <td>1.0</td>\n",
       "      <td>0.0</td>\n",
       "      <td>0.0</td>\n",
       "      <td>0.0</td>\n",
       "      <td>0.0</td>\n",
       "      <td>0.0</td>\n",
       "      <td>1.0</td>\n",
       "      <td>0.0</td>\n",
       "      <td>...</td>\n",
       "      <td>1.0</td>\n",
       "      <td>0.0</td>\n",
       "      <td>0.0</td>\n",
       "      <td>0.0</td>\n",
       "      <td>1.0</td>\n",
       "      <td>0.0</td>\n",
       "      <td>0.0</td>\n",
       "      <td>0.0</td>\n",
       "      <td>0.0</td>\n",
       "      <td>0.0</td>\n",
       "    </tr>\n",
       "    <tr>\n",
       "      <th>1155</th>\n",
       "      <td>1.0</td>\n",
       "      <td>0.0</td>\n",
       "      <td>0.0</td>\n",
       "      <td>0.0</td>\n",
       "      <td>0.0</td>\n",
       "      <td>0.0</td>\n",
       "      <td>0.0</td>\n",
       "      <td>0.0</td>\n",
       "      <td>0.0</td>\n",
       "      <td>1.0</td>\n",
       "      <td>...</td>\n",
       "      <td>1.0</td>\n",
       "      <td>0.0</td>\n",
       "      <td>0.0</td>\n",
       "      <td>0.0</td>\n",
       "      <td>0.0</td>\n",
       "      <td>0.0</td>\n",
       "      <td>1.0</td>\n",
       "      <td>0.0</td>\n",
       "      <td>0.0</td>\n",
       "      <td>0.0</td>\n",
       "    </tr>\n",
       "    <tr>\n",
       "      <th>4448</th>\n",
       "      <td>0.0</td>\n",
       "      <td>0.0</td>\n",
       "      <td>0.0</td>\n",
       "      <td>0.0</td>\n",
       "      <td>0.0</td>\n",
       "      <td>1.0</td>\n",
       "      <td>0.0</td>\n",
       "      <td>0.0</td>\n",
       "      <td>0.0</td>\n",
       "      <td>1.0</td>\n",
       "      <td>...</td>\n",
       "      <td>0.0</td>\n",
       "      <td>0.0</td>\n",
       "      <td>1.0</td>\n",
       "      <td>0.0</td>\n",
       "      <td>1.0</td>\n",
       "      <td>0.0</td>\n",
       "      <td>0.0</td>\n",
       "      <td>0.0</td>\n",
       "      <td>0.0</td>\n",
       "      <td>0.0</td>\n",
       "    </tr>\n",
       "  </tbody>\n",
       "</table>\n",
       "<p>5 rows × 117 columns</p>\n",
       "</div>"
      ],
      "text/plain": [
       "      cap-shape_b  cap-shape_c  cap-shape_f  cap-shape_k  cap-shape_s  \\\n",
       "5314          0.0          0.0          0.0          0.0          0.0   \n",
       "2075          0.0          0.0          0.0          0.0          0.0   \n",
       "5165          0.0          0.0          1.0          0.0          0.0   \n",
       "1155          1.0          0.0          0.0          0.0          0.0   \n",
       "4448          0.0          0.0          0.0          0.0          0.0   \n",
       "\n",
       "      cap-shape_x  cap-surface_f  cap-surface_g  cap-surface_s  cap-surface_y  \\\n",
       "5314          1.0            0.0            0.0            1.0            0.0   \n",
       "2075          1.0            0.0            0.0            1.0            0.0   \n",
       "5165          0.0            0.0            0.0            1.0            0.0   \n",
       "1155          0.0            0.0            0.0            0.0            1.0   \n",
       "4448          1.0            0.0            0.0            0.0            1.0   \n",
       "\n",
       "        ...      population_s  population_v  population_y  habitat_d  \\\n",
       "5314    ...               0.0           1.0           0.0        0.0   \n",
       "2075    ...               0.0           0.0           0.0        0.0   \n",
       "5165    ...               1.0           0.0           0.0        0.0   \n",
       "1155    ...               1.0           0.0           0.0        0.0   \n",
       "4448    ...               0.0           0.0           1.0        0.0   \n",
       "\n",
       "      habitat_g  habitat_l  habitat_m  habitat_p  habitat_u  habitat_w  \n",
       "5314        1.0        0.0        0.0        0.0        0.0        0.0  \n",
       "2075        0.0        0.0        1.0        0.0        0.0        0.0  \n",
       "5165        1.0        0.0        0.0        0.0        0.0        0.0  \n",
       "1155        0.0        0.0        1.0        0.0        0.0        0.0  \n",
       "4448        1.0        0.0        0.0        0.0        0.0        0.0  \n",
       "\n",
       "[5 rows x 117 columns]"
      ]
     },
     "execution_count": 26,
     "metadata": {},
     "output_type": "execute_result"
    }
   ],
   "source": [
    "X_train.head()"
   ]
  },
  {
   "cell_type": "code",
   "execution_count": 27,
   "metadata": {
    "collapsed": false
   },
   "outputs": [
    {
     "name": "stderr",
     "output_type": "stream",
     "text": [
      "C:\\Users\\harisyam\\Anaconda3\\lib\\site-packages\\ipykernel\\__main__.py:1: SettingWithCopyWarning: \n",
      "A value is trying to be set on a copy of a slice from a DataFrame.\n",
      "Try using .loc[row_indexer,col_indexer] = value instead\n",
      "\n",
      "See the caveats in the documentation: http://pandas.pydata.org/pandas-docs/stable/indexing.html#indexing-view-versus-copy\n",
      "  if __name__ == '__main__':\n"
     ]
    }
   ],
   "source": [
    "X_train['class']=Y_train"
   ]
  },
  {
   "cell_type": "code",
   "execution_count": 39,
   "metadata": {
    "collapsed": false
   },
   "outputs": [
    {
     "name": "stderr",
     "output_type": "stream",
     "text": [
      "C:\\Users\\harisyam\\Anaconda3\\lib\\site-packages\\ipykernel\\__main__.py:1: SettingWithCopyWarning: \n",
      "A value is trying to be set on a copy of a slice from a DataFrame.\n",
      "Try using .loc[row_indexer,col_indexer] = value instead\n",
      "\n",
      "See the caveats in the documentation: http://pandas.pydata.org/pandas-docs/stable/indexing.html#indexing-view-versus-copy\n",
      "  if __name__ == '__main__':\n"
     ]
    }
   ],
   "source": [
    "X_test['class']=Y_test"
   ]
  },
  {
   "cell_type": "markdown",
   "metadata": {},
   "source": [
    "Notice that `split_frame()` uses approximate splitting not exact splitting (for efficiency), so these are not exactly 70%, 15% and 15% of the total rows."
   ]
  },
  {
   "cell_type": "code",
   "execution_count": 47,
   "metadata": {
    "collapsed": false
   },
   "outputs": [
    {
     "name": "stdout",
     "output_type": "stream",
     "text": [
      "5707\n",
      "1199\n",
      "1218\n"
     ]
    }
   ],
   "source": [
    "print (train.nrow)\n",
    "print (valid.nrow)\n",
    "print (test.nrow)"
   ]
  },
  {
   "cell_type": "markdown",
   "metadata": {},
   "source": [
    "### Identify response and predictor variables\n",
    "In H2O, we use `y` to designate the response variable and `x` to designate the list of predictor columns."
   ]
  },
  {
   "cell_type": "code",
   "execution_count": 48,
   "metadata": {
    "collapsed": false
   },
   "outputs": [],
   "source": [
    "y = 'class'\n",
    "x = list(data.columns)\n",
    "#x"
   ]
  },
  {
   "cell_type": "code",
   "execution_count": 49,
   "metadata": {
    "collapsed": false
   },
   "outputs": [],
   "source": [
    "x.remove(y)  #remove the response\n",
    "#x.remove('Species')  #remove the interest rate column because it's correlated with the outcome"
   ]
  },
  {
   "cell_type": "code",
   "execution_count": 50,
   "metadata": {
    "collapsed": false
   },
   "outputs": [
    {
     "data": {
      "text/plain": [
       "['cap-shape',\n",
       " 'cap-surface',\n",
       " 'cap-color',\n",
       " 'bruises',\n",
       " 'odor',\n",
       " 'gill-attachment',\n",
       " 'gill-spacing',\n",
       " 'gill-size',\n",
       " 'gill-color',\n",
       " 'stalk-shape',\n",
       " 'stalk-root',\n",
       " 'stalk-surface-above-ring',\n",
       " 'stalk-surface-below-ring',\n",
       " 'stalk-color-above-ring',\n",
       " 'stalk-color-below-ring',\n",
       " 'veil-type',\n",
       " 'veil-color',\n",
       " 'ring-number',\n",
       " 'ring-type',\n",
       " 'spore-print-color',\n",
       " 'population',\n",
       " 'habitat']"
      ]
     },
     "execution_count": 50,
     "metadata": {},
     "output_type": "execute_result"
    }
   ],
   "source": [
    "# List of predictor columns\n",
    "x"
   ]
  },
  {
   "cell_type": "markdown",
   "metadata": {},
   "source": [
    "## H2O Machine Learning\n",
    "\n",
    "Now that we have prepared the data, we can train some models. We will start by training a single model from each of the H2O supervised algos:\n",
    "\n",
    "- Generalized Linear Model (GLM)\n",
    "- Random Forest (RF)\n",
    "- Gradient Boosting Machine (RF)\n",
    "- Deep Learning (DL)\n",
    "- Naive Bayes (NB)"
   ]
  },
  {
   "cell_type": "markdown",
   "metadata": {},
   "source": [
    "## 1. Generalized Linear Model\n",
    "Let's start with a basic binomial Generalized Linear Model (GLM).  By default, H2O's GLM uses a regularized, elastic net model."
   ]
  },
  {
   "cell_type": "code",
   "execution_count": 12,
   "metadata": {
    "collapsed": true
   },
   "outputs": [],
   "source": [
    "# Import H2O GLM:\n",
    "from h2o.estimators.glm import H2OGeneralizedLinearEstimator"
   ]
  },
  {
   "cell_type": "markdown",
   "metadata": {},
   "source": [
    "### Train a default GLM\n",
    "We first create an object of class, `\"H2OGeneralizedLinearEstimator\"`.  This does not actually do any training, it just sets the model up for training by specifying model parameters."
   ]
  },
  {
   "cell_type": "code",
   "execution_count": 16,
   "metadata": {
    "collapsed": false
   },
   "outputs": [],
   "source": [
    "# Initialize the GLM estimator:\n",
    "# Similar to R's glm() and H2O's R GLM, H2O's GLM has the \"family\" argument\n",
    "\n",
    "glm_fit1 = H2OGeneralizedLinearEstimator(family='multinomial', model_id='glm_fit1')"
   ]
  },
  {
   "cell_type": "markdown",
   "metadata": {},
   "source": [
    "Now that `glm_fit1` object is initialized, we can train the model:"
   ]
  },
  {
   "cell_type": "code",
   "execution_count": 17,
   "metadata": {
    "collapsed": false
   },
   "outputs": [
    {
     "name": "stdout",
     "output_type": "stream",
     "text": [
      "glm Model Build progress: |███████████████████████████████████████████████| 100%\n"
     ]
    }
   ],
   "source": [
    "glm_fit1.train(x=x, y=y, training_frame=train)"
   ]
  },
  {
   "cell_type": "markdown",
   "metadata": {},
   "source": [
    "### Train a GLM with lambda search\n",
    "\n",
    "Next we will do some automatic tuning by passing in a validation frame and setting `lambda_search = True`.  Since we are training a GLM with regularization, we should try to find the right amount of regularization (to avoid overfitting).  The model parameter, `lambda`, controls the amount of regularization in a GLM model and we can find the optimal value for `lambda` automatically by setting `lambda_search = True` and passing in a validation frame (which is used to evaluate model performance using a particular value of lambda)."
   ]
  },
  {
   "cell_type": "code",
   "execution_count": 18,
   "metadata": {
    "collapsed": false
   },
   "outputs": [
    {
     "name": "stdout",
     "output_type": "stream",
     "text": [
      "glm Model Build progress: |███████████████████████████████████████████████| 100%\n"
     ]
    }
   ],
   "source": [
    "glm_fit2 = H2OGeneralizedLinearEstimator(family='multinomial', model_id='glm_fit2', lambda_search=True)\n",
    "glm_fit2.train(x=X_cols, y=Y_cols, training_frame=train, validation_frame=valid)"
   ]
  },
  {
   "cell_type": "markdown",
   "metadata": {},
   "source": [
    "### Evaluate model performance\n",
    "Let's compare the performance of the two GLMs that were just trained."
   ]
  },
  {
   "cell_type": "code",
   "execution_count": 19,
   "metadata": {
    "collapsed": false
   },
   "outputs": [],
   "source": [
    "glm_perf1 = glm_fit1.model_performance(test)\n",
    "glm_perf2 = glm_fit2.model_performance(test)"
   ]
  },
  {
   "cell_type": "code",
   "execution_count": 22,
   "metadata": {
    "collapsed": false,
    "scrolled": false
   },
   "outputs": [
    {
     "name": "stdout",
     "output_type": "stream",
     "text": [
      "\n",
      "ModelMetricsMultinomialGLM: glm\n",
      "** Reported on test data. **\n",
      "\n",
      "MSE: 0.026683744748776526\n",
      "RMSE: 0.1633515985498046\n",
      "\n"
     ]
    }
   ],
   "source": [
    "# Print model performance\n",
    "print (glm_perf1)\n",
    "#print (glm_perf2)"
   ]
  },
  {
   "cell_type": "markdown",
   "metadata": {},
   "source": [
    "Instead of printing the entire model performance metrics object, it is probably easier to print just the metric that you are interested in comparing."
   ]
  },
  {
   "cell_type": "code",
   "execution_count": 38,
   "metadata": {
    "collapsed": false
   },
   "outputs": [],
   "source": [
    "# Retreive test set AUC\n",
    "#print (glm_perf1.auc())\n",
    "#print (glm_perf2.auc())"
   ]
  },
  {
   "cell_type": "code",
   "execution_count": 37,
   "metadata": {
    "collapsed": false
   },
   "outputs": [],
   "source": [
    "# Compare test AUC to the training AUC and validation AUC\n",
    "#print (glm_fit2.auc(train=True))\n",
    "#print (glm_fit2.auc(valid=True))"
   ]
  },
  {
   "cell_type": "markdown",
   "metadata": {},
   "source": [
    "## 2. Random Forest\n",
    "H2O's Random Forest (RF) is implements a distributed version of the standard Random Forest algorithm and variable importance measures."
   ]
  },
  {
   "cell_type": "code",
   "execution_count": 51,
   "metadata": {
    "collapsed": true
   },
   "outputs": [],
   "source": [
    "# Import H2O RF:\n",
    "from h2o.estimators.random_forest import H2ORandomForestEstimator"
   ]
  },
  {
   "cell_type": "markdown",
   "metadata": {},
   "source": [
    "### Train and a default RF\n",
    "First we will train a basic Random Forest model with default parameters. Random Forest will infer the response distribution from the response encoding. A seed is required for reproducibility."
   ]
  },
  {
   "cell_type": "code",
   "execution_count": 52,
   "metadata": {
    "collapsed": true
   },
   "outputs": [],
   "source": [
    "# Initialize the RF estimator:\n",
    "\n",
    "rf_fit1 = H2ORandomForestEstimator(model_id='rf_fit1', seed=1)"
   ]
  },
  {
   "cell_type": "code",
   "execution_count": 32,
   "metadata": {
    "collapsed": false
   },
   "outputs": [
    {
     "name": "stdout",
     "output_type": "stream",
     "text": [
      "Parse progress: |█████████████████████████████████████████████████████████| 100%\n"
     ]
    }
   ],
   "source": [
    "#X_train=h2o.H2OFrame(X_train)"
   ]
  },
  {
   "cell_type": "markdown",
   "metadata": {},
   "source": [
    "Now that `rf_fit1` object is initialized, we can train the model:"
   ]
  },
  {
   "cell_type": "code",
   "execution_count": 53,
   "metadata": {
    "collapsed": false
   },
   "outputs": [
    {
     "name": "stdout",
     "output_type": "stream",
     "text": [
      "drf Model Build progress: |███████████████████████████████████████████████| 100%\n"
     ]
    }
   ],
   "source": [
    "rf_fit1.train(x=x, y=y, training_frame=train)"
   ]
  },
  {
   "cell_type": "markdown",
   "metadata": {},
   "source": [
    "### Train an RF with more trees\n",
    "\n",
    "Next we will increase the number of trees used in the forest by setting `ntrees = 100`.  The default number of trees in an H2O Random Forest is 50, so this RF will be twice as big as the default.  Usually increasing the number of trees in an RF will increase performance as well.  Unlike Gradient Boosting Machines (GBMs), Random Forests are fairly resistant (although not free from) overfitting by increasing the number of trees.  See the GBM example below for additional guidance on preventing overfitting using H2O's early stopping functionality."
   ]
  },
  {
   "cell_type": "code",
   "execution_count": null,
   "metadata": {
    "collapsed": true
   },
   "outputs": [],
   "source": []
  },
  {
   "cell_type": "code",
   "execution_count": 54,
   "metadata": {
    "collapsed": false
   },
   "outputs": [
    {
     "name": "stdout",
     "output_type": "stream",
     "text": [
      "drf Model Build progress: |███████████████████████████████████████████████| 100%\n"
     ]
    }
   ],
   "source": [
    "rf_fit2 = H2ORandomForestEstimator(model_id='rf_fit2', ntrees=100, seed=1)\n",
    "rf_fit2.train(x=x, y=y, training_frame=train)"
   ]
  },
  {
   "cell_type": "code",
   "execution_count": 40,
   "metadata": {
    "collapsed": false
   },
   "outputs": [
    {
     "name": "stdout",
     "output_type": "stream",
     "text": [
      "Parse progress: |█████████████████████████████████████████████████████████| 100%\n"
     ]
    }
   ],
   "source": [
    "#X_test=h2o.H2OFrame(X_test)"
   ]
  },
  {
   "cell_type": "markdown",
   "metadata": {},
   "source": [
    "### Compare model performance\n",
    "Let's compare the performance of the two RFs that were just trained."
   ]
  },
  {
   "cell_type": "code",
   "execution_count": 55,
   "metadata": {
    "collapsed": false
   },
   "outputs": [],
   "source": [
    "rf_perf1 = rf_fit1.model_performance(test)\n",
    "rf_perf2 = rf_fit2.model_performance(test)"
   ]
  },
  {
   "cell_type": "code",
   "execution_count": 57,
   "metadata": {
    "collapsed": false
   },
   "outputs": [
    {
     "name": "stdout",
     "output_type": "stream",
     "text": [
      "\n",
      "ModelMetricsBinomial: drf\n",
      "** Reported on test data. **\n",
      "\n",
      "MSE: 0.002736563948214825\n",
      "RMSE: 0.05231217781946021\n",
      "LogLoss: 0.013531290216170708\n",
      "Mean Per-Class Error: 0.001626016260162677\n",
      "AUC: 0.9999892138224865\n",
      "Gini: 0.999978427644973\n",
      "Confusion Matrix (Act/Pred) for max f1 @ threshold = 0.26: \n"
     ]
    },
    {
     "data": {
      "text/html": [
       "<div style=\"overflow:auto\"><table style=\"width:50%\"><tr><td><b></b></td>\n",
       "<td><b>e</b></td>\n",
       "<td><b>p</b></td>\n",
       "<td><b>Error</b></td>\n",
       "<td><b>Rate</b></td></tr>\n",
       "<tr><td>e</td>\n",
       "<td>613.0</td>\n",
       "<td>2.0</td>\n",
       "<td>0.0033</td>\n",
       "<td> (2.0/615.0)</td></tr>\n",
       "<tr><td>p</td>\n",
       "<td>0.0</td>\n",
       "<td>603.0</td>\n",
       "<td>0.0</td>\n",
       "<td> (0.0/603.0)</td></tr>\n",
       "<tr><td>Total</td>\n",
       "<td>613.0</td>\n",
       "<td>605.0</td>\n",
       "<td>0.0016</td>\n",
       "<td> (2.0/1218.0)</td></tr></table></div>"
      ],
      "text/plain": [
       "       e    p    Error    Rate\n",
       "-----  ---  ---  -------  ------------\n",
       "e      613  2    0.0033   (2.0/615.0)\n",
       "p      0    603  0        (0.0/603.0)\n",
       "Total  613  605  0.0016   (2.0/1218.0)"
      ]
     },
     "metadata": {},
     "output_type": "display_data"
    },
    {
     "name": "stdout",
     "output_type": "stream",
     "text": [
      "Maximum Metrics: Maximum metrics at their respective thresholds\n",
      "\n"
     ]
    },
    {
     "data": {
      "text/html": [
       "<div style=\"overflow:auto\"><table style=\"width:50%\"><tr><td><b>metric</b></td>\n",
       "<td><b>threshold</b></td>\n",
       "<td><b>value</b></td>\n",
       "<td><b>idx</b></td></tr>\n",
       "<tr><td>max f1</td>\n",
       "<td>0.26</td>\n",
       "<td>0.9983444</td>\n",
       "<td>18.0</td></tr>\n",
       "<tr><td>max f2</td>\n",
       "<td>0.26</td>\n",
       "<td>0.9993371</td>\n",
       "<td>18.0</td></tr>\n",
       "<tr><td>max f0point5</td>\n",
       "<td>0.4300000</td>\n",
       "<td>0.9993349</td>\n",
       "<td>16.0</td></tr>\n",
       "<tr><td>max accuracy</td>\n",
       "<td>0.4300000</td>\n",
       "<td>0.9983580</td>\n",
       "<td>16.0</td></tr>\n",
       "<tr><td>max precision</td>\n",
       "<td>1.0</td>\n",
       "<td>1.0</td>\n",
       "<td>0.0</td></tr>\n",
       "<tr><td>max recall</td>\n",
       "<td>0.26</td>\n",
       "<td>1.0</td>\n",
       "<td>18.0</td></tr>\n",
       "<tr><td>max specificity</td>\n",
       "<td>1.0</td>\n",
       "<td>1.0</td>\n",
       "<td>0.0</td></tr>\n",
       "<tr><td>max absolute_mcc</td>\n",
       "<td>0.26</td>\n",
       "<td>0.9967211</td>\n",
       "<td>18.0</td></tr>\n",
       "<tr><td>max min_per_class_accuracy</td>\n",
       "<td>0.26</td>\n",
       "<td>0.9967480</td>\n",
       "<td>18.0</td></tr>\n",
       "<tr><td>max mean_per_class_accuracy</td>\n",
       "<td>0.26</td>\n",
       "<td>0.9983740</td>\n",
       "<td>18.0</td></tr></table></div>"
      ],
      "text/plain": [
       "metric                       threshold    value     idx\n",
       "---------------------------  -----------  --------  -----\n",
       "max f1                       0.26         0.998344  18\n",
       "max f2                       0.26         0.999337  18\n",
       "max f0point5                 0.43         0.999335  16\n",
       "max accuracy                 0.43         0.998358  16\n",
       "max precision                1            1         0\n",
       "max recall                   0.26         1         18\n",
       "max specificity              1            1         0\n",
       "max absolute_mcc             0.26         0.996721  18\n",
       "max min_per_class_accuracy   0.26         0.996748  18\n",
       "max mean_per_class_accuracy  0.26         0.998374  18"
      ]
     },
     "metadata": {},
     "output_type": "display_data"
    },
    {
     "name": "stdout",
     "output_type": "stream",
     "text": [
      "Gains/Lift Table: Avg response rate: 49.51 %\n",
      "\n"
     ]
    },
    {
     "data": {
      "text/html": [
       "<div style=\"overflow:auto\"><table style=\"width:50%\"><tr><td><b></b></td>\n",
       "<td><b>group</b></td>\n",
       "<td><b>cumulative_data_fraction</b></td>\n",
       "<td><b>lower_threshold</b></td>\n",
       "<td><b>lift</b></td>\n",
       "<td><b>cumulative_lift</b></td>\n",
       "<td><b>response_rate</b></td>\n",
       "<td><b>cumulative_response_rate</b></td>\n",
       "<td><b>capture_rate</b></td>\n",
       "<td><b>cumulative_capture_rate</b></td>\n",
       "<td><b>gain</b></td>\n",
       "<td><b>cumulative_gain</b></td></tr>\n",
       "<tr><td></td>\n",
       "<td>1</td>\n",
       "<td>0.4269294</td>\n",
       "<td>1.0</td>\n",
       "<td>2.0199005</td>\n",
       "<td>2.0199005</td>\n",
       "<td>1.0</td>\n",
       "<td>1.0</td>\n",
       "<td>0.8623549</td>\n",
       "<td>0.8623549</td>\n",
       "<td>101.9900498</td>\n",
       "<td>101.9900498</td></tr>\n",
       "<tr><td></td>\n",
       "<td>2</td>\n",
       "<td>0.5</td>\n",
       "<td>0.185</td>\n",
       "<td>1.8837274</td>\n",
       "<td>2.0</td>\n",
       "<td>0.9325843</td>\n",
       "<td>0.9901478</td>\n",
       "<td>0.1376451</td>\n",
       "<td>1.0</td>\n",
       "<td>88.3727430</td>\n",
       "<td>100.0</td></tr>\n",
       "<tr><td></td>\n",
       "<td>3</td>\n",
       "<td>1.0</td>\n",
       "<td>0.0</td>\n",
       "<td>0.0</td>\n",
       "<td>1.0</td>\n",
       "<td>0.0</td>\n",
       "<td>0.4950739</td>\n",
       "<td>0.0</td>\n",
       "<td>1.0</td>\n",
       "<td>-100.0</td>\n",
       "<td>0.0</td></tr></table></div>"
      ],
      "text/plain": [
       "    group    cumulative_data_fraction    lower_threshold    lift     cumulative_lift    response_rate    cumulative_response_rate    capture_rate    cumulative_capture_rate    gain     cumulative_gain\n",
       "--  -------  --------------------------  -----------------  -------  -----------------  ---------------  --------------------------  --------------  -------------------------  -------  -----------------\n",
       "    1        0.426929                    1                  2.0199   2.0199             1                1                           0.862355        0.862355                   101.99   101.99\n",
       "    2        0.5                         0.185              1.88373  2                  0.932584         0.990148                    0.137645        1                          88.3727  100\n",
       "    3        1                           0                  0        1                  0                0.495074                    0               1                          -100     0"
      ]
     },
     "metadata": {},
     "output_type": "display_data"
    },
    {
     "name": "stdout",
     "output_type": "stream",
     "text": [
      "\n",
      "\n"
     ]
    }
   ],
   "source": [
    "# Retreive test set AUC\n",
    "print (rf_perf1)\n"
   ]
  },
  {
   "cell_type": "code",
   "execution_count": 47,
   "metadata": {
    "collapsed": false
   },
   "outputs": [
    {
     "name": "stdout",
     "output_type": "stream",
     "text": [
      "Parse progress: |█████████████████████████████████████████████████████████| 100%\n",
      "drf Model Build progress: |███████████████████████████████████████████████| 100%\n"
     ]
    }
   ],
   "source": [
    "#import h2o\n",
    "#h2o.init()\n",
    "from h2o.estimators.random_forest import H2ORandomForestEstimator\n",
    "from h2o.estimators.gbm import H2OGradientBoostingEstimator\n",
    "from h2o.estimators.stackedensemble import H2OStackedEnsembleEstimator\n",
    "col_types = [\"numeric\", \"numeric\", \"numeric\", \"enum\", \"enum\", \"numeric\", \"numeric\", \"numeric\", \"numeric\"]\n",
    "data = h2o.import_file(\"http://h2o-public-test-data.s3.amazonaws.com/smalldata/prostate/prostate.csv\", col_types=col_types)\n",
    "train, test = data.split_frame(ratios=[.8], seed=1)\n",
    "x = [\"CAPSULE\",\"GLEASON\",\"RACE\",\"DPROS\",\"DCAPS\",\"PSA\",\"VOL\"]\n",
    "y = \"AGE\"\n",
    "nfolds = 5\n",
    "#my_gbm = H2OGradientBoostingEstimator(nfolds=nfolds, fold_assignment=\"Modulo\", keep_cross_validation_predictions=True)\n",
    "#my_gbm.train(x=x, y=y, training_frame=train)\n",
    "my_rf = H2ORandomForestEstimator(nfolds=nfolds, fold_assignment=\"Modulo\", keep_cross_validation_predictions=True)\n",
    "my_rf.train(x=x, y=y, training_frame=train)\n",
    "#stack = H2OStackedEnsembleEstimator(model_id=\"my_ensemble\", training_frame=train, validation_frame=test, base_models=[my_gbm.model_id, my_rf.model_id])\n",
    "#stack.train(x=x, y=y, training_frame=train, validation_frame=test)\n",
    "#stack.model_performance()"
   ]
  },
  {
   "cell_type": "code",
   "execution_count": 51,
   "metadata": {
    "collapsed": false
   },
   "outputs": [
    {
     "data": {
      "text/html": [
       "<table>\n",
       "<thead>\n",
       "<tr><th style=\"text-align: right;\">  ID</th><th style=\"text-align: right;\">  CAPSULE</th><th style=\"text-align: right;\">  AGE</th><th style=\"text-align: right;\">  RACE</th><th style=\"text-align: right;\">  DPROS</th><th style=\"text-align: right;\">  DCAPS</th><th style=\"text-align: right;\">  PSA</th><th style=\"text-align: right;\">  VOL</th><th style=\"text-align: right;\">  GLEASON</th></tr>\n",
       "</thead>\n",
       "<tbody>\n",
       "<tr><td style=\"text-align: right;\">   1</td><td style=\"text-align: right;\">        0</td><td style=\"text-align: right;\">   65</td><td style=\"text-align: right;\">     1</td><td style=\"text-align: right;\">      2</td><td style=\"text-align: right;\">      1</td><td style=\"text-align: right;\">  1.4</td><td style=\"text-align: right;\">  0  </td><td style=\"text-align: right;\">        6</td></tr>\n",
       "<tr><td style=\"text-align: right;\">   2</td><td style=\"text-align: right;\">        0</td><td style=\"text-align: right;\">   72</td><td style=\"text-align: right;\">     1</td><td style=\"text-align: right;\">      3</td><td style=\"text-align: right;\">      2</td><td style=\"text-align: right;\">  6.7</td><td style=\"text-align: right;\">  0  </td><td style=\"text-align: right;\">        7</td></tr>\n",
       "<tr><td style=\"text-align: right;\">   3</td><td style=\"text-align: right;\">        0</td><td style=\"text-align: right;\">   70</td><td style=\"text-align: right;\">     1</td><td style=\"text-align: right;\">      1</td><td style=\"text-align: right;\">      2</td><td style=\"text-align: right;\">  4.9</td><td style=\"text-align: right;\">  0  </td><td style=\"text-align: right;\">        6</td></tr>\n",
       "<tr><td style=\"text-align: right;\">   4</td><td style=\"text-align: right;\">        0</td><td style=\"text-align: right;\">   76</td><td style=\"text-align: right;\">     2</td><td style=\"text-align: right;\">      2</td><td style=\"text-align: right;\">      1</td><td style=\"text-align: right;\"> 51.2</td><td style=\"text-align: right;\"> 20  </td><td style=\"text-align: right;\">        7</td></tr>\n",
       "<tr><td style=\"text-align: right;\">   5</td><td style=\"text-align: right;\">        0</td><td style=\"text-align: right;\">   69</td><td style=\"text-align: right;\">     1</td><td style=\"text-align: right;\">      1</td><td style=\"text-align: right;\">      1</td><td style=\"text-align: right;\"> 12.3</td><td style=\"text-align: right;\"> 55.9</td><td style=\"text-align: right;\">        6</td></tr>\n",
       "<tr><td style=\"text-align: right;\">   6</td><td style=\"text-align: right;\">        1</td><td style=\"text-align: right;\">   71</td><td style=\"text-align: right;\">     1</td><td style=\"text-align: right;\">      3</td><td style=\"text-align: right;\">      2</td><td style=\"text-align: right;\">  3.3</td><td style=\"text-align: right;\">  0  </td><td style=\"text-align: right;\">        8</td></tr>\n",
       "<tr><td style=\"text-align: right;\">   7</td><td style=\"text-align: right;\">        0</td><td style=\"text-align: right;\">   68</td><td style=\"text-align: right;\">     2</td><td style=\"text-align: right;\">      4</td><td style=\"text-align: right;\">      2</td><td style=\"text-align: right;\"> 31.9</td><td style=\"text-align: right;\">  0  </td><td style=\"text-align: right;\">        7</td></tr>\n",
       "<tr><td style=\"text-align: right;\">   8</td><td style=\"text-align: right;\">        0</td><td style=\"text-align: right;\">   61</td><td style=\"text-align: right;\">     2</td><td style=\"text-align: right;\">      4</td><td style=\"text-align: right;\">      2</td><td style=\"text-align: right;\"> 66.7</td><td style=\"text-align: right;\"> 27.2</td><td style=\"text-align: right;\">        7</td></tr>\n",
       "<tr><td style=\"text-align: right;\">   9</td><td style=\"text-align: right;\">        0</td><td style=\"text-align: right;\">   69</td><td style=\"text-align: right;\">     1</td><td style=\"text-align: right;\">      1</td><td style=\"text-align: right;\">      1</td><td style=\"text-align: right;\">  3.9</td><td style=\"text-align: right;\"> 24  </td><td style=\"text-align: right;\">        7</td></tr>\n",
       "<tr><td style=\"text-align: right;\">  10</td><td style=\"text-align: right;\">        0</td><td style=\"text-align: right;\">   68</td><td style=\"text-align: right;\">     2</td><td style=\"text-align: right;\">      1</td><td style=\"text-align: right;\">      2</td><td style=\"text-align: right;\"> 13  </td><td style=\"text-align: right;\">  0  </td><td style=\"text-align: right;\">        6</td></tr>\n",
       "</tbody>\n",
       "</table>"
      ]
     },
     "metadata": {},
     "output_type": "display_data"
    },
    {
     "data": {
      "text/plain": []
     },
     "execution_count": 51,
     "metadata": {},
     "output_type": "execute_result"
    }
   ],
   "source": [
    "data.head()"
   ]
  },
  {
   "cell_type": "code",
   "execution_count": 49,
   "metadata": {
    "collapsed": false
   },
   "outputs": [],
   "source": [
    "my_perf1=my_rf.model_performance(test)"
   ]
  },
  {
   "cell_type": "code",
   "execution_count": 50,
   "metadata": {
    "collapsed": false
   },
   "outputs": [
    {
     "name": "stdout",
     "output_type": "stream",
     "text": [
      "\n",
      "ModelMetricsRegression: drf\n",
      "** Reported on test data. **\n",
      "\n",
      "MSE: 49.92843728253472\n",
      "RMSE: 7.066005751663009\n",
      "MAE: 5.419124476784154\n",
      "RMSLE: 0.11160719750943007\n",
      "Mean Residual Deviance: 49.92843728253472\n",
      "\n"
     ]
    }
   ],
   "source": [
    "print(my_perf1)"
   ]
  },
  {
   "cell_type": "markdown",
   "metadata": {},
   "source": [
    "### Cross-validate performance\n",
    "\n",
    "Rather than using held-out test set to evaluate model performance, a user may wish to estimate model performance using cross-validation.  Using the RF algorithm (with default model parameters) as an example, we demonstrate how to perform k-fold cross-validation using H2O.  No custom code or loops are required, you simply specify the number of desired folds in the `nfolds` argument.\n",
    "\n",
    "Since we are not going to use a test set here, we can use the original (full) dataset, which we called `data` rather than the subsampled `train` dataset.  Note that this will take approximately k (`nfolds`) times longer than training a single RF model, since it will train k models in the cross-validation process (trained on n(k-1)/k rows), in addition to the final model trained on the full `training_frame` dataset with n rows. "
   ]
  },
  {
   "cell_type": "code",
   "execution_count": null,
   "metadata": {
    "collapsed": false
   },
   "outputs": [],
   "source": [
    "rf_fit3 = H2ORandomForestEstimator(model_id='rf_fit3', seed=1, nfolds=5)\n",
    "rf_fit3.train(x=x, y=y, training_frame=data)"
   ]
  },
  {
   "cell_type": "markdown",
   "metadata": {},
   "source": [
    "To evaluate the cross-validated AUC, do the following:"
   ]
  },
  {
   "cell_type": "code",
   "execution_count": 25,
   "metadata": {
    "collapsed": false
   },
   "outputs": [
    {
     "name": "stdout",
     "output_type": "stream",
     "text": [
      "0.661201482614\n"
     ]
    }
   ],
   "source": [
    "print (rf_fit3.auc(xval=True))"
   ]
  },
  {
   "cell_type": "markdown",
   "metadata": {},
   "source": [
    "Note that the cross-validated AUC is slighly higher than the test set performance we estimated for `rf_fit1`, and this is likely due to the fact that we trained on more data (n rows) than we did while using `train` as the training set (0.75*n rows) in `rf_fit1`."
   ]
  },
  {
   "cell_type": "markdown",
   "metadata": {},
   "source": [
    "## 3. Gradient Boosting Machine\n",
    "H2O's Gradient Boosting Machine (GBM) offers a Stochastic GBM, which can increase performance quite a bit compared to the original GBM implementation."
   ]
  },
  {
   "cell_type": "code",
   "execution_count": 26,
   "metadata": {
    "collapsed": false
   },
   "outputs": [],
   "source": [
    "# Import H2O GBM:\n",
    "from h2o.estimators.gbm import H2OGradientBoostingEstimator"
   ]
  },
  {
   "cell_type": "markdown",
   "metadata": {},
   "source": [
    "### Train a default GBM\n",
    "\n",
    "First we will train a basic GBM model with default parameters. GBM will infer the response distribution from the response encoding if not specified explicitly through the `distribution` argument. A seed is required for reproducibility."
   ]
  },
  {
   "cell_type": "code",
   "execution_count": 27,
   "metadata": {
    "collapsed": false
   },
   "outputs": [
    {
     "name": "stdout",
     "output_type": "stream",
     "text": [
      "\n",
      "gbm Model Build Progress: [##################################################] 100%\n"
     ]
    }
   ],
   "source": [
    "# Initialize and train the GBM estimator:\n",
    "\n",
    "gbm_fit1 = H2OGradientBoostingEstimator(model_id='gbm_fit1', seed=1)\n",
    "gbm_fit1.train(x=x, y=y, training_frame=train)"
   ]
  },
  {
   "cell_type": "markdown",
   "metadata": {},
   "source": [
    "### Train a GBM with more trees\n",
    "\n",
    "Next we will increase the number of trees used in the GBM by setting `ntrees=500`.  The default number of trees in an H2O GBM is 50, so this GBM will trained using ten times the default.  Increasing the number of trees in a GBM is one way to increase performance of the model, however, you have to be careful not to overfit your model to the training data by using too many trees.  To automatically find the optimal number of trees, you must use H2O's early stopping functionality.  This example will not do that, however, the following example will."
   ]
  },
  {
   "cell_type": "code",
   "execution_count": 28,
   "metadata": {
    "collapsed": false
   },
   "outputs": [
    {
     "name": "stdout",
     "output_type": "stream",
     "text": [
      "\n",
      "gbm Model Build Progress: [##################################################] 100%\n"
     ]
    }
   ],
   "source": [
    "gbm_fit2 = H2OGradientBoostingEstimator(model_id='gbm_fit2', ntrees=500, seed=1)\n",
    "gbm_fit2.train(x=x, y=y, training_frame=train)"
   ]
  },
  {
   "cell_type": "markdown",
   "metadata": {},
   "source": [
    "### Train a GBM with early stopping\n",
    "\n",
    "We will again set `ntrees = 500`, however, this time we will use early stopping in order to prevent overfitting (from too many trees).  All of H2O's algorithms have early stopping available, however, with the exception of Deep Learning, it is not enabled by default.  \n",
    "\n",
    "There are several parameters that should be used to control early stopping.  The three that are generic to all the algorithms are: `stopping_rounds`, `stopping_metric` and `stopping_tolerance`.  The stopping metric is the metric by which you'd like to measure performance, and so we will choose AUC here.  The `score_tree_interval` is a parameter specific to Random Forest and GBM.  Setting `score_tree_interval=5` will score the model after every five trees.  The parameters we have set below specify that the model will stop training after there have been three scoring intervals where the AUC has not increased more than 0.0005.  Since we have specified a validation frame, the stopping tolerance will be computed on validation AUC rather than training AUC. "
   ]
  },
  {
   "cell_type": "code",
   "execution_count": 29,
   "metadata": {
    "collapsed": false
   },
   "outputs": [
    {
     "name": "stdout",
     "output_type": "stream",
     "text": [
      "\n",
      "gbm Model Build Progress: [##################################################] 100%\n"
     ]
    }
   ],
   "source": [
    "# Now let's use early stopping to find optimal ntrees\n",
    "\n",
    "gbm_fit3 = H2OGradientBoostingEstimator(model_id='gbm_fit3', \n",
    "                                        ntrees=500, \n",
    "                                        score_tree_interval=5,     #used for early stopping\n",
    "                                        stopping_rounds=3,         #used for early stopping\n",
    "                                        stopping_metric='AUC',     #used for early stopping\n",
    "                                        stopping_tolerance=0.0005, #used for early stopping\n",
    "                                        seed=1)\n",
    "\n",
    "# The use of a validation_frame is recommended with using early stopping\n",
    "gbm_fit3.train(x=x, y=y, training_frame=train, validation_frame=valid)"
   ]
  },
  {
   "cell_type": "markdown",
   "metadata": {},
   "source": [
    "### Compare model performance\n",
    "\n",
    "Let's compare the performance of the three GBMs that were just trained."
   ]
  },
  {
   "cell_type": "code",
   "execution_count": 30,
   "metadata": {
    "collapsed": true
   },
   "outputs": [],
   "source": [
    "gbm_perf1 = gbm_fit1.model_performance(test)\n",
    "gbm_perf2 = gbm_fit2.model_performance(test)\n",
    "gbm_perf3 = gbm_fit3.model_performance(test)"
   ]
  },
  {
   "cell_type": "code",
   "execution_count": 31,
   "metadata": {
    "collapsed": false
   },
   "outputs": [
    {
     "name": "stdout",
     "output_type": "stream",
     "text": [
      "0.682765594191\n",
      "0.671854616713\n",
      "0.68309902855\n"
     ]
    }
   ],
   "source": [
    "# Retreive test set AUC\n",
    "print gbm_perf1.auc()\n",
    "print gbm_perf2.auc()\n",
    "print gbm_perf3.auc()"
   ]
  },
  {
   "cell_type": "markdown",
   "metadata": {},
   "source": [
    "### Scoring History\n",
    "\n",
    "To examine the scoring history, use the `scoring_history` method on a trained model.  If `score_tree_interval` is not specified, it will score at various intervals, as we can see for `gbm_fit2.scoring_history()` below.  However, regular 5-tree intervals are used for `gbm_fit3.scoring_history()`.  \n",
    "\n",
    "The `gbm_fit2` was trained only using a training set (no validation set), so the scoring history is calculated for training set performance metrics only."
   ]
  },
  {
   "cell_type": "code",
   "execution_count": 47,
   "metadata": {
    "collapsed": false
   },
   "outputs": [
    {
     "data": {
      "text/html": [
       "<div>\n",
       "<table border=\"1\" class=\"dataframe\">\n",
       "  <thead>\n",
       "    <tr style=\"text-align: right;\">\n",
       "      <th></th>\n",
       "      <th></th>\n",
       "      <th>timestamp</th>\n",
       "      <th>duration</th>\n",
       "      <th>number_of_trees</th>\n",
       "      <th>training_MSE</th>\n",
       "      <th>training_logloss</th>\n",
       "      <th>training_AUC</th>\n",
       "      <th>training_lift</th>\n",
       "      <th>training_classification_error</th>\n",
       "    </tr>\n",
       "  </thead>\n",
       "  <tbody>\n",
       "    <tr>\n",
       "      <th>0</th>\n",
       "      <td></td>\n",
       "      <td>2016-05-03 10:49:35</td>\n",
       "      <td>0.001 sec</td>\n",
       "      <td>0</td>\n",
       "      <td>0.148714</td>\n",
       "      <td>0.474030</td>\n",
       "      <td>0.500000</td>\n",
       "      <td>1.000000</td>\n",
       "      <td>0.818255</td>\n",
       "    </tr>\n",
       "    <tr>\n",
       "      <th>1</th>\n",
       "      <td></td>\n",
       "      <td>2016-05-03 10:49:35</td>\n",
       "      <td>0.079 sec</td>\n",
       "      <td>1</td>\n",
       "      <td>0.147252</td>\n",
       "      <td>0.469209</td>\n",
       "      <td>0.657210</td>\n",
       "      <td>2.680144</td>\n",
       "      <td>0.400599</td>\n",
       "    </tr>\n",
       "    <tr>\n",
       "      <th>2</th>\n",
       "      <td></td>\n",
       "      <td>2016-05-03 10:49:35</td>\n",
       "      <td>0.142 sec</td>\n",
       "      <td>2</td>\n",
       "      <td>0.146021</td>\n",
       "      <td>0.465266</td>\n",
       "      <td>0.664849</td>\n",
       "      <td>2.663689</td>\n",
       "      <td>0.346703</td>\n",
       "    </tr>\n",
       "    <tr>\n",
       "      <th>3</th>\n",
       "      <td></td>\n",
       "      <td>2016-05-03 10:49:36</td>\n",
       "      <td>0.208 sec</td>\n",
       "      <td>3</td>\n",
       "      <td>0.144996</td>\n",
       "      <td>0.462036</td>\n",
       "      <td>0.667746</td>\n",
       "      <td>2.860431</td>\n",
       "      <td>0.339689</td>\n",
       "    </tr>\n",
       "    <tr>\n",
       "      <th>4</th>\n",
       "      <td></td>\n",
       "      <td>2016-05-03 10:49:36</td>\n",
       "      <td>0.288 sec</td>\n",
       "      <td>4</td>\n",
       "      <td>0.144123</td>\n",
       "      <td>0.459326</td>\n",
       "      <td>0.669405</td>\n",
       "      <td>2.900994</td>\n",
       "      <td>0.361158</td>\n",
       "    </tr>\n",
       "    <tr>\n",
       "      <th>5</th>\n",
       "      <td></td>\n",
       "      <td>2016-05-03 10:49:36</td>\n",
       "      <td>0.390 sec</td>\n",
       "      <td>5</td>\n",
       "      <td>0.143373</td>\n",
       "      <td>0.456995</td>\n",
       "      <td>0.672514</td>\n",
       "      <td>3.013793</td>\n",
       "      <td>0.338366</td>\n",
       "    </tr>\n",
       "    <tr>\n",
       "      <th>6</th>\n",
       "      <td></td>\n",
       "      <td>2016-05-03 10:49:36</td>\n",
       "      <td>0.547 sec</td>\n",
       "      <td>6</td>\n",
       "      <td>0.142734</td>\n",
       "      <td>0.455020</td>\n",
       "      <td>0.674697</td>\n",
       "      <td>3.080660</td>\n",
       "      <td>0.352987</td>\n",
       "    </tr>\n",
       "    <tr>\n",
       "      <th>7</th>\n",
       "      <td></td>\n",
       "      <td>2016-05-03 10:49:36</td>\n",
       "      <td>0.731 sec</td>\n",
       "      <td>7</td>\n",
       "      <td>0.142280</td>\n",
       "      <td>0.453580</td>\n",
       "      <td>0.675089</td>\n",
       "      <td>3.088117</td>\n",
       "      <td>0.336130</td>\n",
       "    </tr>\n",
       "    <tr>\n",
       "      <th>8</th>\n",
       "      <td></td>\n",
       "      <td>2016-05-03 10:49:36</td>\n",
       "      <td>0.961 sec</td>\n",
       "      <td>8</td>\n",
       "      <td>0.141908</td>\n",
       "      <td>0.452386</td>\n",
       "      <td>0.675682</td>\n",
       "      <td>3.056254</td>\n",
       "      <td>0.341943</td>\n",
       "    </tr>\n",
       "    <tr>\n",
       "      <th>9</th>\n",
       "      <td></td>\n",
       "      <td>2016-05-03 10:49:37</td>\n",
       "      <td>1.195 sec</td>\n",
       "      <td>9</td>\n",
       "      <td>0.141588</td>\n",
       "      <td>0.451341</td>\n",
       "      <td>0.676213</td>\n",
       "      <td>3.064215</td>\n",
       "      <td>0.330917</td>\n",
       "    </tr>\n",
       "    <tr>\n",
       "      <th>10</th>\n",
       "      <td></td>\n",
       "      <td>2016-05-03 10:49:37</td>\n",
       "      <td>1.440 sec</td>\n",
       "      <td>10</td>\n",
       "      <td>0.141283</td>\n",
       "      <td>0.450355</td>\n",
       "      <td>0.677305</td>\n",
       "      <td>3.071435</td>\n",
       "      <td>0.326792</td>\n",
       "    </tr>\n",
       "    <tr>\n",
       "      <th>11</th>\n",
       "      <td></td>\n",
       "      <td>2016-05-03 10:49:37</td>\n",
       "      <td>1.688 sec</td>\n",
       "      <td>11</td>\n",
       "      <td>0.141011</td>\n",
       "      <td>0.449475</td>\n",
       "      <td>0.678649</td>\n",
       "      <td>3.090803</td>\n",
       "      <td>0.338654</td>\n",
       "    </tr>\n",
       "    <tr>\n",
       "      <th>12</th>\n",
       "      <td></td>\n",
       "      <td>2016-05-03 10:49:37</td>\n",
       "      <td>1.946 sec</td>\n",
       "      <td>12</td>\n",
       "      <td>0.140687</td>\n",
       "      <td>0.448489</td>\n",
       "      <td>0.680646</td>\n",
       "      <td>3.129824</td>\n",
       "      <td>0.357338</td>\n",
       "    </tr>\n",
       "    <tr>\n",
       "      <th>13</th>\n",
       "      <td></td>\n",
       "      <td>2016-05-03 10:49:38</td>\n",
       "      <td>2.214 sec</td>\n",
       "      <td>13</td>\n",
       "      <td>0.140469</td>\n",
       "      <td>0.447748</td>\n",
       "      <td>0.681448</td>\n",
       "      <td>3.148167</td>\n",
       "      <td>0.326879</td>\n",
       "    </tr>\n",
       "    <tr>\n",
       "      <th>14</th>\n",
       "      <td></td>\n",
       "      <td>2016-05-03 10:49:38</td>\n",
       "      <td>2.497 sec</td>\n",
       "      <td>14</td>\n",
       "      <td>0.140200</td>\n",
       "      <td>0.446905</td>\n",
       "      <td>0.683059</td>\n",
       "      <td>3.199288</td>\n",
       "      <td>0.339080</td>\n",
       "    </tr>\n",
       "    <tr>\n",
       "      <th>15</th>\n",
       "      <td></td>\n",
       "      <td>2016-05-03 10:49:38</td>\n",
       "      <td>2.792 sec</td>\n",
       "      <td>15</td>\n",
       "      <td>0.139958</td>\n",
       "      <td>0.446166</td>\n",
       "      <td>0.684262</td>\n",
       "      <td>3.202491</td>\n",
       "      <td>0.342204</td>\n",
       "    </tr>\n",
       "    <tr>\n",
       "      <th>16</th>\n",
       "      <td></td>\n",
       "      <td>2016-05-03 10:49:39</td>\n",
       "      <td>3.180 sec</td>\n",
       "      <td>16</td>\n",
       "      <td>0.139641</td>\n",
       "      <td>0.445185</td>\n",
       "      <td>0.686405</td>\n",
       "      <td>3.178202</td>\n",
       "      <td>0.346608</td>\n",
       "    </tr>\n",
       "    <tr>\n",
       "      <th>17</th>\n",
       "      <td></td>\n",
       "      <td>2016-05-03 10:49:39</td>\n",
       "      <td>3.507 sec</td>\n",
       "      <td>17</td>\n",
       "      <td>0.139408</td>\n",
       "      <td>0.444452</td>\n",
       "      <td>0.687624</td>\n",
       "      <td>3.181708</td>\n",
       "      <td>0.337775</td>\n",
       "    </tr>\n",
       "    <tr>\n",
       "      <th>18</th>\n",
       "      <td></td>\n",
       "      <td>2016-05-03 10:49:39</td>\n",
       "      <td>3.822 sec</td>\n",
       "      <td>18</td>\n",
       "      <td>0.139165</td>\n",
       "      <td>0.443691</td>\n",
       "      <td>0.689043</td>\n",
       "      <td>3.219985</td>\n",
       "      <td>0.343675</td>\n",
       "    </tr>\n",
       "    <tr>\n",
       "      <th>19</th>\n",
       "      <td></td>\n",
       "      <td>2016-05-03 10:49:43</td>\n",
       "      <td>7.836 sec</td>\n",
       "      <td>114</td>\n",
       "      <td>0.131661</td>\n",
       "      <td>0.420788</td>\n",
       "      <td>0.734584</td>\n",
       "      <td>4.119475</td>\n",
       "      <td>0.257040</td>\n",
       "    </tr>\n",
       "    <tr>\n",
       "      <th>20</th>\n",
       "      <td></td>\n",
       "      <td>2016-05-03 10:49:53</td>\n",
       "      <td>17.468 sec</td>\n",
       "      <td>324</td>\n",
       "      <td>0.125218</td>\n",
       "      <td>0.402242</td>\n",
       "      <td>0.770971</td>\n",
       "      <td>4.827585</td>\n",
       "      <td>0.244674</td>\n",
       "    </tr>\n",
       "    <tr>\n",
       "      <th>21</th>\n",
       "      <td></td>\n",
       "      <td>2016-05-03 10:50:02</td>\n",
       "      <td>26.971 sec</td>\n",
       "      <td>500</td>\n",
       "      <td>0.121869</td>\n",
       "      <td>0.392608</td>\n",
       "      <td>0.788716</td>\n",
       "      <td>5.042888</td>\n",
       "      <td>0.212144</td>\n",
       "    </tr>\n",
       "  </tbody>\n",
       "</table>\n",
       "</div>"
      ],
      "text/plain": [
       "                timestamp    duration  number_of_trees  training_MSE  \\\n",
       "0     2016-05-03 10:49:35   0.001 sec                0      0.148714   \n",
       "1     2016-05-03 10:49:35   0.079 sec                1      0.147252   \n",
       "2     2016-05-03 10:49:35   0.142 sec                2      0.146021   \n",
       "3     2016-05-03 10:49:36   0.208 sec                3      0.144996   \n",
       "4     2016-05-03 10:49:36   0.288 sec                4      0.144123   \n",
       "5     2016-05-03 10:49:36   0.390 sec                5      0.143373   \n",
       "6     2016-05-03 10:49:36   0.547 sec                6      0.142734   \n",
       "7     2016-05-03 10:49:36   0.731 sec                7      0.142280   \n",
       "8     2016-05-03 10:49:36   0.961 sec                8      0.141908   \n",
       "9     2016-05-03 10:49:37   1.195 sec                9      0.141588   \n",
       "10    2016-05-03 10:49:37   1.440 sec               10      0.141283   \n",
       "11    2016-05-03 10:49:37   1.688 sec               11      0.141011   \n",
       "12    2016-05-03 10:49:37   1.946 sec               12      0.140687   \n",
       "13    2016-05-03 10:49:38   2.214 sec               13      0.140469   \n",
       "14    2016-05-03 10:49:38   2.497 sec               14      0.140200   \n",
       "15    2016-05-03 10:49:38   2.792 sec               15      0.139958   \n",
       "16    2016-05-03 10:49:39   3.180 sec               16      0.139641   \n",
       "17    2016-05-03 10:49:39   3.507 sec               17      0.139408   \n",
       "18    2016-05-03 10:49:39   3.822 sec               18      0.139165   \n",
       "19    2016-05-03 10:49:43   7.836 sec              114      0.131661   \n",
       "20    2016-05-03 10:49:53  17.468 sec              324      0.125218   \n",
       "21    2016-05-03 10:50:02  26.971 sec              500      0.121869   \n",
       "\n",
       "    training_logloss  training_AUC  training_lift  \\\n",
       "0           0.474030      0.500000       1.000000   \n",
       "1           0.469209      0.657210       2.680144   \n",
       "2           0.465266      0.664849       2.663689   \n",
       "3           0.462036      0.667746       2.860431   \n",
       "4           0.459326      0.669405       2.900994   \n",
       "5           0.456995      0.672514       3.013793   \n",
       "6           0.455020      0.674697       3.080660   \n",
       "7           0.453580      0.675089       3.088117   \n",
       "8           0.452386      0.675682       3.056254   \n",
       "9           0.451341      0.676213       3.064215   \n",
       "10          0.450355      0.677305       3.071435   \n",
       "11          0.449475      0.678649       3.090803   \n",
       "12          0.448489      0.680646       3.129824   \n",
       "13          0.447748      0.681448       3.148167   \n",
       "14          0.446905      0.683059       3.199288   \n",
       "15          0.446166      0.684262       3.202491   \n",
       "16          0.445185      0.686405       3.178202   \n",
       "17          0.444452      0.687624       3.181708   \n",
       "18          0.443691      0.689043       3.219985   \n",
       "19          0.420788      0.734584       4.119475   \n",
       "20          0.402242      0.770971       4.827585   \n",
       "21          0.392608      0.788716       5.042888   \n",
       "\n",
       "    training_classification_error  \n",
       "0                        0.818255  \n",
       "1                        0.400599  \n",
       "2                        0.346703  \n",
       "3                        0.339689  \n",
       "4                        0.361158  \n",
       "5                        0.338366  \n",
       "6                        0.352987  \n",
       "7                        0.336130  \n",
       "8                        0.341943  \n",
       "9                        0.330917  \n",
       "10                       0.326792  \n",
       "11                       0.338654  \n",
       "12                       0.357338  \n",
       "13                       0.326879  \n",
       "14                       0.339080  \n",
       "15                       0.342204  \n",
       "16                       0.346608  \n",
       "17                       0.337775  \n",
       "18                       0.343675  \n",
       "19                       0.257040  \n",
       "20                       0.244674  \n",
       "21                       0.212144  "
      ]
     },
     "execution_count": 47,
     "metadata": {},
     "output_type": "execute_result"
    }
   ],
   "source": [
    "gbm_fit2.scoring_history()"
   ]
  },
  {
   "cell_type": "markdown",
   "metadata": {},
   "source": [
    "When early stopping is used, we see that training stopped at 105 trees instead of the full 500.  Since we used a validation set in `gbm_fit3`, both training and validation performance metrics are stored in the scoring history object.  Take a look at the validation AUC to observe that the correct stopping tolerance was enforced."
   ]
  },
  {
   "cell_type": "code",
   "execution_count": 48,
   "metadata": {
    "collapsed": false
   },
   "outputs": [
    {
     "data": {
      "text/html": [
       "<div>\n",
       "<table border=\"1\" class=\"dataframe\">\n",
       "  <thead>\n",
       "    <tr style=\"text-align: right;\">\n",
       "      <th></th>\n",
       "      <th></th>\n",
       "      <th>timestamp</th>\n",
       "      <th>duration</th>\n",
       "      <th>number_of_trees</th>\n",
       "      <th>training_MSE</th>\n",
       "      <th>training_logloss</th>\n",
       "      <th>training_AUC</th>\n",
       "      <th>training_lift</th>\n",
       "      <th>training_classification_error</th>\n",
       "      <th>validation_MSE</th>\n",
       "      <th>validation_logloss</th>\n",
       "      <th>validation_AUC</th>\n",
       "      <th>validation_lift</th>\n",
       "      <th>validation_classification_error</th>\n",
       "    </tr>\n",
       "  </thead>\n",
       "  <tbody>\n",
       "    <tr>\n",
       "      <th>0</th>\n",
       "      <td></td>\n",
       "      <td>2016-05-03 10:50:06</td>\n",
       "      <td>0.001 sec</td>\n",
       "      <td>0</td>\n",
       "      <td>0.148714</td>\n",
       "      <td>0.474030</td>\n",
       "      <td>0.500000</td>\n",
       "      <td>1.000000</td>\n",
       "      <td>0.818255</td>\n",
       "      <td>0.151042</td>\n",
       "      <td>0.479533</td>\n",
       "      <td>0.500000</td>\n",
       "      <td>1.000000</td>\n",
       "      <td>0.814597</td>\n",
       "    </tr>\n",
       "    <tr>\n",
       "      <th>1</th>\n",
       "      <td></td>\n",
       "      <td>2016-05-03 10:50:07</td>\n",
       "      <td>0.252 sec</td>\n",
       "      <td>5</td>\n",
       "      <td>0.143373</td>\n",
       "      <td>0.456995</td>\n",
       "      <td>0.672514</td>\n",
       "      <td>3.013793</td>\n",
       "      <td>0.338366</td>\n",
       "      <td>0.146227</td>\n",
       "      <td>0.464094</td>\n",
       "      <td>0.661129</td>\n",
       "      <td>2.618090</td>\n",
       "      <td>0.365377</td>\n",
       "    </tr>\n",
       "    <tr>\n",
       "      <th>2</th>\n",
       "      <td></td>\n",
       "      <td>2016-05-03 10:50:07</td>\n",
       "      <td>0.588 sec</td>\n",
       "      <td>10</td>\n",
       "      <td>0.141283</td>\n",
       "      <td>0.450355</td>\n",
       "      <td>0.677305</td>\n",
       "      <td>3.071435</td>\n",
       "      <td>0.326792</td>\n",
       "      <td>0.144531</td>\n",
       "      <td>0.458612</td>\n",
       "      <td>0.663678</td>\n",
       "      <td>2.729585</td>\n",
       "      <td>0.376765</td>\n",
       "    </tr>\n",
       "    <tr>\n",
       "      <th>3</th>\n",
       "      <td></td>\n",
       "      <td>2016-05-03 10:50:08</td>\n",
       "      <td>1.056 sec</td>\n",
       "      <td>15</td>\n",
       "      <td>0.139958</td>\n",
       "      <td>0.446166</td>\n",
       "      <td>0.684262</td>\n",
       "      <td>3.202491</td>\n",
       "      <td>0.342204</td>\n",
       "      <td>0.143614</td>\n",
       "      <td>0.455618</td>\n",
       "      <td>0.667416</td>\n",
       "      <td>2.795897</td>\n",
       "      <td>0.365907</td>\n",
       "    </tr>\n",
       "    <tr>\n",
       "      <th>4</th>\n",
       "      <td></td>\n",
       "      <td>2016-05-03 10:50:08</td>\n",
       "      <td>1.584 sec</td>\n",
       "      <td>20</td>\n",
       "      <td>0.138783</td>\n",
       "      <td>0.442520</td>\n",
       "      <td>0.691469</td>\n",
       "      <td>3.330029</td>\n",
       "      <td>0.347696</td>\n",
       "      <td>0.142869</td>\n",
       "      <td>0.453261</td>\n",
       "      <td>0.671361</td>\n",
       "      <td>2.927986</td>\n",
       "      <td>0.348600</td>\n",
       "    </tr>\n",
       "    <tr>\n",
       "      <th>5</th>\n",
       "      <td></td>\n",
       "      <td>2016-05-03 10:50:09</td>\n",
       "      <td>2.179 sec</td>\n",
       "      <td>25</td>\n",
       "      <td>0.137810</td>\n",
       "      <td>0.439517</td>\n",
       "      <td>0.697321</td>\n",
       "      <td>3.420935</td>\n",
       "      <td>0.301302</td>\n",
       "      <td>0.142248</td>\n",
       "      <td>0.451328</td>\n",
       "      <td>0.674848</td>\n",
       "      <td>2.861942</td>\n",
       "      <td>0.345130</td>\n",
       "    </tr>\n",
       "    <tr>\n",
       "      <th>6</th>\n",
       "      <td></td>\n",
       "      <td>2016-05-03 10:50:09</td>\n",
       "      <td>2.820 sec</td>\n",
       "      <td>30</td>\n",
       "      <td>0.137079</td>\n",
       "      <td>0.437235</td>\n",
       "      <td>0.701716</td>\n",
       "      <td>3.507056</td>\n",
       "      <td>0.304139</td>\n",
       "      <td>0.141892</td>\n",
       "      <td>0.450176</td>\n",
       "      <td>0.676858</td>\n",
       "      <td>2.927986</td>\n",
       "      <td>0.359172</td>\n",
       "    </tr>\n",
       "    <tr>\n",
       "      <th>7</th>\n",
       "      <td></td>\n",
       "      <td>2016-05-03 10:50:10</td>\n",
       "      <td>3.522 sec</td>\n",
       "      <td>35</td>\n",
       "      <td>0.136501</td>\n",
       "      <td>0.435430</td>\n",
       "      <td>0.705013</td>\n",
       "      <td>3.502272</td>\n",
       "      <td>0.313198</td>\n",
       "      <td>0.141634</td>\n",
       "      <td>0.449319</td>\n",
       "      <td>0.678392</td>\n",
       "      <td>2.972016</td>\n",
       "      <td>0.368520</td>\n",
       "    </tr>\n",
       "    <tr>\n",
       "      <th>8</th>\n",
       "      <td></td>\n",
       "      <td>2016-05-03 10:50:11</td>\n",
       "      <td>4.292 sec</td>\n",
       "      <td>40</td>\n",
       "      <td>0.135956</td>\n",
       "      <td>0.433766</td>\n",
       "      <td>0.708290</td>\n",
       "      <td>3.583609</td>\n",
       "      <td>0.309265</td>\n",
       "      <td>0.141474</td>\n",
       "      <td>0.448720</td>\n",
       "      <td>0.679649</td>\n",
       "      <td>2.905971</td>\n",
       "      <td>0.369214</td>\n",
       "    </tr>\n",
       "    <tr>\n",
       "      <th>9</th>\n",
       "      <td></td>\n",
       "      <td>2016-05-03 10:50:12</td>\n",
       "      <td>5.093 sec</td>\n",
       "      <td>45</td>\n",
       "      <td>0.135520</td>\n",
       "      <td>0.432420</td>\n",
       "      <td>0.710795</td>\n",
       "      <td>3.588393</td>\n",
       "      <td>0.301250</td>\n",
       "      <td>0.141333</td>\n",
       "      <td>0.448253</td>\n",
       "      <td>0.680504</td>\n",
       "      <td>3.038061</td>\n",
       "      <td>0.355090</td>\n",
       "    </tr>\n",
       "    <tr>\n",
       "      <th>10</th>\n",
       "      <td></td>\n",
       "      <td>2016-05-03 10:50:12</td>\n",
       "      <td>5.976 sec</td>\n",
       "      <td>50</td>\n",
       "      <td>0.135099</td>\n",
       "      <td>0.431123</td>\n",
       "      <td>0.713464</td>\n",
       "      <td>3.636238</td>\n",
       "      <td>0.307202</td>\n",
       "      <td>0.141164</td>\n",
       "      <td>0.447708</td>\n",
       "      <td>0.681717</td>\n",
       "      <td>3.016046</td>\n",
       "      <td>0.370928</td>\n",
       "    </tr>\n",
       "    <tr>\n",
       "      <th>11</th>\n",
       "      <td></td>\n",
       "      <td>2016-05-03 10:50:13</td>\n",
       "      <td>6.864 sec</td>\n",
       "      <td>55</td>\n",
       "      <td>0.134711</td>\n",
       "      <td>0.429942</td>\n",
       "      <td>0.715725</td>\n",
       "      <td>3.684084</td>\n",
       "      <td>0.298717</td>\n",
       "      <td>0.141100</td>\n",
       "      <td>0.447464</td>\n",
       "      <td>0.682206</td>\n",
       "      <td>2.994031</td>\n",
       "      <td>0.362438</td>\n",
       "    </tr>\n",
       "    <tr>\n",
       "      <th>12</th>\n",
       "      <td></td>\n",
       "      <td>2016-05-03 10:50:16</td>\n",
       "      <td>9.652 sec</td>\n",
       "      <td>60</td>\n",
       "      <td>0.134390</td>\n",
       "      <td>0.428975</td>\n",
       "      <td>0.717671</td>\n",
       "      <td>3.746282</td>\n",
       "      <td>0.298656</td>\n",
       "      <td>0.141044</td>\n",
       "      <td>0.447256</td>\n",
       "      <td>0.682599</td>\n",
       "      <td>3.038061</td>\n",
       "      <td>0.369377</td>\n",
       "    </tr>\n",
       "    <tr>\n",
       "      <th>13</th>\n",
       "      <td></td>\n",
       "      <td>2016-05-03 10:50:17</td>\n",
       "      <td>10.690 sec</td>\n",
       "      <td>65</td>\n",
       "      <td>0.134119</td>\n",
       "      <td>0.428143</td>\n",
       "      <td>0.719394</td>\n",
       "      <td>3.774989</td>\n",
       "      <td>0.296515</td>\n",
       "      <td>0.141015</td>\n",
       "      <td>0.447140</td>\n",
       "      <td>0.682809</td>\n",
       "      <td>3.038061</td>\n",
       "      <td>0.366683</td>\n",
       "    </tr>\n",
       "    <tr>\n",
       "      <th>14</th>\n",
       "      <td></td>\n",
       "      <td>2016-05-03 10:50:18</td>\n",
       "      <td>11.920 sec</td>\n",
       "      <td>70</td>\n",
       "      <td>0.133836</td>\n",
       "      <td>0.427330</td>\n",
       "      <td>0.720883</td>\n",
       "      <td>3.789343</td>\n",
       "      <td>0.304087</td>\n",
       "      <td>0.140991</td>\n",
       "      <td>0.447037</td>\n",
       "      <td>0.683032</td>\n",
       "      <td>3.060076</td>\n",
       "      <td>0.365050</td>\n",
       "    </tr>\n",
       "    <tr>\n",
       "      <th>15</th>\n",
       "      <td></td>\n",
       "      <td>2016-05-03 10:50:20</td>\n",
       "      <td>13.202 sec</td>\n",
       "      <td>75</td>\n",
       "      <td>0.133552</td>\n",
       "      <td>0.426443</td>\n",
       "      <td>0.722796</td>\n",
       "      <td>3.851542</td>\n",
       "      <td>0.306384</td>\n",
       "      <td>0.140982</td>\n",
       "      <td>0.446976</td>\n",
       "      <td>0.683183</td>\n",
       "      <td>3.016046</td>\n",
       "      <td>0.360233</td>\n",
       "    </tr>\n",
       "    <tr>\n",
       "      <th>16</th>\n",
       "      <td></td>\n",
       "      <td>2016-05-03 10:50:21</td>\n",
       "      <td>14.556 sec</td>\n",
       "      <td>80</td>\n",
       "      <td>0.133248</td>\n",
       "      <td>0.425563</td>\n",
       "      <td>0.724677</td>\n",
       "      <td>3.894603</td>\n",
       "      <td>0.294349</td>\n",
       "      <td>0.140996</td>\n",
       "      <td>0.447003</td>\n",
       "      <td>0.683057</td>\n",
       "      <td>3.016046</td>\n",
       "      <td>0.334354</td>\n",
       "    </tr>\n",
       "    <tr>\n",
       "      <th>17</th>\n",
       "      <td></td>\n",
       "      <td>2016-05-03 10:50:22</td>\n",
       "      <td>15.947 sec</td>\n",
       "      <td>85</td>\n",
       "      <td>0.133043</td>\n",
       "      <td>0.424940</td>\n",
       "      <td>0.725952</td>\n",
       "      <td>3.937663</td>\n",
       "      <td>0.298622</td>\n",
       "      <td>0.140997</td>\n",
       "      <td>0.446998</td>\n",
       "      <td>0.683126</td>\n",
       "      <td>3.016046</td>\n",
       "      <td>0.316189</td>\n",
       "    </tr>\n",
       "  </tbody>\n",
       "</table>\n",
       "</div>"
      ],
      "text/plain": [
       "                timestamp    duration  number_of_trees  training_MSE  \\\n",
       "0     2016-05-03 10:50:06   0.001 sec                0      0.148714   \n",
       "1     2016-05-03 10:50:07   0.252 sec                5      0.143373   \n",
       "2     2016-05-03 10:50:07   0.588 sec               10      0.141283   \n",
       "3     2016-05-03 10:50:08   1.056 sec               15      0.139958   \n",
       "4     2016-05-03 10:50:08   1.584 sec               20      0.138783   \n",
       "5     2016-05-03 10:50:09   2.179 sec               25      0.137810   \n",
       "6     2016-05-03 10:50:09   2.820 sec               30      0.137079   \n",
       "7     2016-05-03 10:50:10   3.522 sec               35      0.136501   \n",
       "8     2016-05-03 10:50:11   4.292 sec               40      0.135956   \n",
       "9     2016-05-03 10:50:12   5.093 sec               45      0.135520   \n",
       "10    2016-05-03 10:50:12   5.976 sec               50      0.135099   \n",
       "11    2016-05-03 10:50:13   6.864 sec               55      0.134711   \n",
       "12    2016-05-03 10:50:16   9.652 sec               60      0.134390   \n",
       "13    2016-05-03 10:50:17  10.690 sec               65      0.134119   \n",
       "14    2016-05-03 10:50:18  11.920 sec               70      0.133836   \n",
       "15    2016-05-03 10:50:20  13.202 sec               75      0.133552   \n",
       "16    2016-05-03 10:50:21  14.556 sec               80      0.133248   \n",
       "17    2016-05-03 10:50:22  15.947 sec               85      0.133043   \n",
       "\n",
       "    training_logloss  training_AUC  training_lift  \\\n",
       "0           0.474030      0.500000       1.000000   \n",
       "1           0.456995      0.672514       3.013793   \n",
       "2           0.450355      0.677305       3.071435   \n",
       "3           0.446166      0.684262       3.202491   \n",
       "4           0.442520      0.691469       3.330029   \n",
       "5           0.439517      0.697321       3.420935   \n",
       "6           0.437235      0.701716       3.507056   \n",
       "7           0.435430      0.705013       3.502272   \n",
       "8           0.433766      0.708290       3.583609   \n",
       "9           0.432420      0.710795       3.588393   \n",
       "10          0.431123      0.713464       3.636238   \n",
       "11          0.429942      0.715725       3.684084   \n",
       "12          0.428975      0.717671       3.746282   \n",
       "13          0.428143      0.719394       3.774989   \n",
       "14          0.427330      0.720883       3.789343   \n",
       "15          0.426443      0.722796       3.851542   \n",
       "16          0.425563      0.724677       3.894603   \n",
       "17          0.424940      0.725952       3.937663   \n",
       "\n",
       "    training_classification_error  validation_MSE  validation_logloss  \\\n",
       "0                        0.818255        0.151042            0.479533   \n",
       "1                        0.338366        0.146227            0.464094   \n",
       "2                        0.326792        0.144531            0.458612   \n",
       "3                        0.342204        0.143614            0.455618   \n",
       "4                        0.347696        0.142869            0.453261   \n",
       "5                        0.301302        0.142248            0.451328   \n",
       "6                        0.304139        0.141892            0.450176   \n",
       "7                        0.313198        0.141634            0.449319   \n",
       "8                        0.309265        0.141474            0.448720   \n",
       "9                        0.301250        0.141333            0.448253   \n",
       "10                       0.307202        0.141164            0.447708   \n",
       "11                       0.298717        0.141100            0.447464   \n",
       "12                       0.298656        0.141044            0.447256   \n",
       "13                       0.296515        0.141015            0.447140   \n",
       "14                       0.304087        0.140991            0.447037   \n",
       "15                       0.306384        0.140982            0.446976   \n",
       "16                       0.294349        0.140996            0.447003   \n",
       "17                       0.298622        0.140997            0.446998   \n",
       "\n",
       "    validation_AUC  validation_lift  validation_classification_error  \n",
       "0         0.500000         1.000000                         0.814597  \n",
       "1         0.661129         2.618090                         0.365377  \n",
       "2         0.663678         2.729585                         0.376765  \n",
       "3         0.667416         2.795897                         0.365907  \n",
       "4         0.671361         2.927986                         0.348600  \n",
       "5         0.674848         2.861942                         0.345130  \n",
       "6         0.676858         2.927986                         0.359172  \n",
       "7         0.678392         2.972016                         0.368520  \n",
       "8         0.679649         2.905971                         0.369214  \n",
       "9         0.680504         3.038061                         0.355090  \n",
       "10        0.681717         3.016046                         0.370928  \n",
       "11        0.682206         2.994031                         0.362438  \n",
       "12        0.682599         3.038061                         0.369377  \n",
       "13        0.682809         3.038061                         0.366683  \n",
       "14        0.683032         3.060076                         0.365050  \n",
       "15        0.683183         3.016046                         0.360233  \n",
       "16        0.683057         3.016046                         0.334354  \n",
       "17        0.683126         3.016046                         0.316189  "
      ]
     },
     "execution_count": 48,
     "metadata": {},
     "output_type": "execute_result"
    }
   ],
   "source": [
    "gbm_fit3.scoring_history()"
   ]
  },
  {
   "cell_type": "markdown",
   "metadata": {},
   "source": [
    "## 4. Deep Learning\n",
    "\n",
    "H2O's Deep Learning algorithm is a multilayer feed-forward artificial neural network.  It can also be used to train an autoencoder, however, in the example below we will train a standard supervised prediction model."
   ]
  },
  {
   "cell_type": "code",
   "execution_count": 49,
   "metadata": {
    "collapsed": true
   },
   "outputs": [],
   "source": [
    "# Import H2O DL:\n",
    "from h2o.estimators.deeplearning import H2ODeepLearningEstimator"
   ]
  },
  {
   "cell_type": "markdown",
   "metadata": {},
   "source": [
    "### Train a default DL\n",
    "\n",
    "First we will train a basic DL model with default parameters. DL will infer the response distribution from the response encoding if not specified explicitly through the `distribution` argument.  H2O's DL will not be reproducbible if run on more than a single core, so in this example, the performance metrics below may vary slightly from what you see on your machine.\n",
    "\n",
    "In H2O's DL, early stopping is enabled by default, so below, it will use the training set and default stopping parameters to perform early stopping."
   ]
  },
  {
   "cell_type": "code",
   "execution_count": 51,
   "metadata": {
    "collapsed": false
   },
   "outputs": [
    {
     "data": {
      "text/html": [
       "<div style=\"overflow:auto\"><table style=\"width:50%\"><tr><td>H2O cluster uptime: </td>\n",
       "<td>16 minutes 43 seconds 380 milliseconds </td></tr>\n",
       "<tr><td>H2O cluster version: </td>\n",
       "<td>3.8.2.3</td></tr>\n",
       "<tr><td>H2O cluster name: </td>\n",
       "<td>H2O_started_from_python_me_wzy124</td></tr>\n",
       "<tr><td>H2O cluster total nodes: </td>\n",
       "<td>1</td></tr>\n",
       "<tr><td>H2O cluster total free memory: </td>\n",
       "<td>7.03 GB</td></tr>\n",
       "<tr><td>H2O cluster total cores: </td>\n",
       "<td>8</td></tr>\n",
       "<tr><td>H2O cluster allowed cores: </td>\n",
       "<td>8</td></tr>\n",
       "<tr><td>H2O cluster healthy: </td>\n",
       "<td>True</td></tr>\n",
       "<tr><td>H2O Connection ip: </td>\n",
       "<td>127.0.0.1</td></tr>\n",
       "<tr><td>H2O Connection port: </td>\n",
       "<td>54321</td></tr>\n",
       "<tr><td>H2O Connection proxy: </td>\n",
       "<td>None</td></tr>\n",
       "<tr><td>Python Version: </td>\n",
       "<td>2.7.10</td></tr></table></div>"
      ],
      "text/plain": [
       "------------------------------  --------------------------------------\n",
       "H2O cluster uptime:             16 minutes 43 seconds 380 milliseconds\n",
       "H2O cluster version:            3.8.2.3\n",
       "H2O cluster name:               H2O_started_from_python_me_wzy124\n",
       "H2O cluster total nodes:        1\n",
       "H2O cluster total free memory:  7.03 GB\n",
       "H2O cluster total cores:        8\n",
       "H2O cluster allowed cores:      8\n",
       "H2O cluster healthy:            True\n",
       "H2O Connection ip:              127.0.0.1\n",
       "H2O Connection port:            54321\n",
       "H2O Connection proxy:\n",
       "Python Version:                 2.7.10\n",
       "------------------------------  --------------------------------------"
      ]
     },
     "metadata": {},
     "output_type": "display_data"
    },
    {
     "name": "stdout",
     "output_type": "stream",
     "text": [
      "\n",
      "deeplearning Model Build Progress: [##################################################] 100%\n"
     ]
    }
   ],
   "source": [
    "# Initialize and train the DL estimator:\n",
    "\n",
    "dl_fit1 = H2ODeepLearningEstimator(model_id='dl_fit1', seed=1)\n",
    "dl_fit1.train(x=x, y=y, training_frame=train)"
   ]
  },
  {
   "cell_type": "markdown",
   "metadata": {},
   "source": [
    "### Train a DL with new architecture and more epochs\n",
    "\n",
    "Next we will increase the number of epochs used in the GBM by setting `epochs=20` (the default is 10).  Increasing the number of epochs in a deep neural net may increase performance of the model, however, you have to be careful not to overfit your model.  To automatically find the optimal number of epochs, you must use H2O's early stopping functionality.  Unlike the rest of the H2O algorithms, H2O's DL will use early by default, so we will first turn it off in the next example by setting `stopping_rounds=0`, for comparison."
   ]
  },
  {
   "cell_type": "code",
   "execution_count": 36,
   "metadata": {
    "collapsed": false
   },
   "outputs": [
    {
     "name": "stdout",
     "output_type": "stream",
     "text": [
      "\n",
      "deeplearning Model Build Progress: [##################################################] 100%\n"
     ]
    }
   ],
   "source": [
    "dl_fit2 = H2ODeepLearningEstimator(model_id='dl_fit2', \n",
    "                                   epochs=20, \n",
    "                                   hidden=[10,10], \n",
    "                                   stopping_rounds=0,  #disable early stopping\n",
    "                                   seed=1)\n",
    "dl_fit2.train(x=x, y=y, training_frame=train)"
   ]
  },
  {
   "cell_type": "markdown",
   "metadata": {},
   "source": [
    "### Train a DL with early stopping\n",
    "\n",
    "This example will use the same model parameters as `dl_fit2`, however, we will turn on early stopping and specify the stopping criterion.  We will also pass a validation set, as is recommended for early stopping."
   ]
  },
  {
   "cell_type": "code",
   "execution_count": 37,
   "metadata": {
    "collapsed": false
   },
   "outputs": [
    {
     "name": "stdout",
     "output_type": "stream",
     "text": [
      "\n",
      "deeplearning Model Build Progress: [##################################################] 100%\n"
     ]
    }
   ],
   "source": [
    "dl_fit3 = H2ODeepLearningEstimator(model_id='dl_fit3', \n",
    "                                   epochs=20, \n",
    "                                   hidden=[10,10],\n",
    "                                   score_interval=1,          #used for early stopping\n",
    "                                   stopping_rounds=3,         #used for early stopping\n",
    "                                   stopping_metric='AUC',     #used for early stopping\n",
    "                                   stopping_tolerance=0.0005, #used for early stopping\n",
    "                                   seed=1)\n",
    "dl_fit3.train(x=x, y=y, training_frame=train, validation_frame=valid)"
   ]
  },
  {
   "cell_type": "markdown",
   "metadata": {},
   "source": [
    "### Compare model performance\n",
    "\n",
    "Again, we will compare the model performance of the three models using a test set and AUC."
   ]
  },
  {
   "cell_type": "code",
   "execution_count": 38,
   "metadata": {
    "collapsed": true
   },
   "outputs": [],
   "source": [
    "dl_perf1 = dl_fit1.model_performance(test)\n",
    "dl_perf2 = dl_fit2.model_performance(test)\n",
    "dl_perf3 = dl_fit3.model_performance(test)"
   ]
  },
  {
   "cell_type": "code",
   "execution_count": 39,
   "metadata": {
    "collapsed": false
   },
   "outputs": [
    {
     "name": "stdout",
     "output_type": "stream",
     "text": [
      "0.679670061767\n",
      "0.675026229123\n",
      "0.681501550425\n"
     ]
    }
   ],
   "source": [
    "# Retreive test set AUC\n",
    "print dl_perf1.auc()\n",
    "print dl_perf2.auc()\n",
    "print dl_perf3.auc()"
   ]
  },
  {
   "cell_type": "code",
   "execution_count": 40,
   "metadata": {
    "collapsed": false
   },
   "outputs": [
    {
     "data": {
      "text/html": [
       "<div>\n",
       "<table border=\"1\" class=\"dataframe\">\n",
       "  <thead>\n",
       "    <tr style=\"text-align: right;\">\n",
       "      <th></th>\n",
       "      <th></th>\n",
       "      <th>timestamp</th>\n",
       "      <th>duration</th>\n",
       "      <th>training_speed</th>\n",
       "      <th>epochs</th>\n",
       "      <th>iterations</th>\n",
       "      <th>samples</th>\n",
       "      <th>training_MSE</th>\n",
       "      <th>training_r2</th>\n",
       "      <th>training_logloss</th>\n",
       "      <th>training_AUC</th>\n",
       "      <th>training_lift</th>\n",
       "      <th>training_classification_error</th>\n",
       "      <th>validation_MSE</th>\n",
       "      <th>validation_r2</th>\n",
       "      <th>validation_logloss</th>\n",
       "      <th>validation_AUC</th>\n",
       "      <th>validation_lift</th>\n",
       "      <th>validation_classification_error</th>\n",
       "    </tr>\n",
       "  </thead>\n",
       "  <tbody>\n",
       "    <tr>\n",
       "      <th>0</th>\n",
       "      <td></td>\n",
       "      <td>2016-05-03 10:51:34</td>\n",
       "      <td>0.000 sec</td>\n",
       "      <td>None</td>\n",
       "      <td>0.000000</td>\n",
       "      <td>0</td>\n",
       "      <td>0</td>\n",
       "      <td>NaN</td>\n",
       "      <td>NaN</td>\n",
       "      <td>NaN</td>\n",
       "      <td>NaN</td>\n",
       "      <td>NaN</td>\n",
       "      <td>NaN</td>\n",
       "      <td>NaN</td>\n",
       "      <td>NaN</td>\n",
       "      <td>NaN</td>\n",
       "      <td>NaN</td>\n",
       "      <td>NaN</td>\n",
       "      <td>NaN</td>\n",
       "    </tr>\n",
       "    <tr>\n",
       "      <th>1</th>\n",
       "      <td></td>\n",
       "      <td>2016-05-03 10:51:35</td>\n",
       "      <td>0.288 sec</td>\n",
       "      <td>518093 rows/sec</td>\n",
       "      <td>0.870192</td>\n",
       "      <td>1</td>\n",
       "      <td>99992</td>\n",
       "      <td>0.143602</td>\n",
       "      <td>0.049866</td>\n",
       "      <td>0.457001</td>\n",
       "      <td>0.665048</td>\n",
       "      <td>2.558203</td>\n",
       "      <td>0.351841</td>\n",
       "      <td>0.143185</td>\n",
       "      <td>0.051933</td>\n",
       "      <td>0.455546</td>\n",
       "      <td>0.668156</td>\n",
       "      <td>2.663807</td>\n",
       "      <td>0.345743</td>\n",
       "    </tr>\n",
       "    <tr>\n",
       "      <th>2</th>\n",
       "      <td></td>\n",
       "      <td>2016-05-03 10:51:36</td>\n",
       "      <td>1.315 sec</td>\n",
       "      <td>607058 rows/sec</td>\n",
       "      <td>6.091290</td>\n",
       "      <td>7</td>\n",
       "      <td>699938</td>\n",
       "      <td>0.143460</td>\n",
       "      <td>0.050810</td>\n",
       "      <td>0.456577</td>\n",
       "      <td>0.667244</td>\n",
       "      <td>2.721493</td>\n",
       "      <td>0.363875</td>\n",
       "      <td>0.142990</td>\n",
       "      <td>0.053225</td>\n",
       "      <td>0.455240</td>\n",
       "      <td>0.671613</td>\n",
       "      <td>2.663807</td>\n",
       "      <td>0.358356</td>\n",
       "    </tr>\n",
       "    <tr>\n",
       "      <th>3</th>\n",
       "      <td></td>\n",
       "      <td>2016-05-03 10:51:37</td>\n",
       "      <td>2.338 sec</td>\n",
       "      <td>662289 rows/sec</td>\n",
       "      <td>12.184347</td>\n",
       "      <td>14</td>\n",
       "      <td>1400079</td>\n",
       "      <td>0.150780</td>\n",
       "      <td>0.002375</td>\n",
       "      <td>0.486599</td>\n",
       "      <td>0.674257</td>\n",
       "      <td>2.667063</td>\n",
       "      <td>0.408879</td>\n",
       "      <td>0.150563</td>\n",
       "      <td>0.003085</td>\n",
       "      <td>0.486139</td>\n",
       "      <td>0.677053</td>\n",
       "      <td>2.311568</td>\n",
       "      <td>0.363785</td>\n",
       "    </tr>\n",
       "    <tr>\n",
       "      <th>4</th>\n",
       "      <td></td>\n",
       "      <td>2016-05-03 10:51:38</td>\n",
       "      <td>3.433 sec</td>\n",
       "      <td>698969 rows/sec</td>\n",
       "      <td>19.148841</td>\n",
       "      <td>22</td>\n",
       "      <td>2200355</td>\n",
       "      <td>0.144177</td>\n",
       "      <td>0.046065</td>\n",
       "      <td>0.455084</td>\n",
       "      <td>0.676124</td>\n",
       "      <td>2.939212</td>\n",
       "      <td>0.344357</td>\n",
       "      <td>0.144628</td>\n",
       "      <td>0.042382</td>\n",
       "      <td>0.456287</td>\n",
       "      <td>0.676181</td>\n",
       "      <td>2.641792</td>\n",
       "      <td>0.357376</td>\n",
       "    </tr>\n",
       "    <tr>\n",
       "      <th>5</th>\n",
       "      <td></td>\n",
       "      <td>2016-05-03 10:51:38</td>\n",
       "      <td>3.638 sec</td>\n",
       "      <td>700242 rows/sec</td>\n",
       "      <td>20.018589</td>\n",
       "      <td>23</td>\n",
       "      <td>2300296</td>\n",
       "      <td>0.143916</td>\n",
       "      <td>0.047794</td>\n",
       "      <td>0.460532</td>\n",
       "      <td>0.676903</td>\n",
       "      <td>3.048072</td>\n",
       "      <td>0.375607</td>\n",
       "      <td>0.144099</td>\n",
       "      <td>0.045880</td>\n",
       "      <td>0.461880</td>\n",
       "      <td>0.675448</td>\n",
       "      <td>2.729852</td>\n",
       "      <td>0.340926</td>\n",
       "    </tr>\n",
       "    <tr>\n",
       "      <th>6</th>\n",
       "      <td></td>\n",
       "      <td>2016-05-03 10:51:38</td>\n",
       "      <td>3.710 sec</td>\n",
       "      <td>700029 rows/sec</td>\n",
       "      <td>20.018589</td>\n",
       "      <td>23</td>\n",
       "      <td>2300296</td>\n",
       "      <td>0.150780</td>\n",
       "      <td>0.002375</td>\n",
       "      <td>0.486599</td>\n",
       "      <td>0.674257</td>\n",
       "      <td>2.667063</td>\n",
       "      <td>0.408879</td>\n",
       "      <td>0.150563</td>\n",
       "      <td>0.003085</td>\n",
       "      <td>0.486139</td>\n",
       "      <td>0.677053</td>\n",
       "      <td>2.311568</td>\n",
       "      <td>0.363785</td>\n",
       "    </tr>\n",
       "  </tbody>\n",
       "</table>\n",
       "</div>"
      ],
      "text/plain": [
       "               timestamp    duration   training_speed     epochs  iterations  \\\n",
       "0    2016-05-03 10:51:34   0.000 sec             None   0.000000           0   \n",
       "1    2016-05-03 10:51:35   0.288 sec  518093 rows/sec   0.870192           1   \n",
       "2    2016-05-03 10:51:36   1.315 sec  607058 rows/sec   6.091290           7   \n",
       "3    2016-05-03 10:51:37   2.338 sec  662289 rows/sec  12.184347          14   \n",
       "4    2016-05-03 10:51:38   3.433 sec  698969 rows/sec  19.148841          22   \n",
       "5    2016-05-03 10:51:38   3.638 sec  700242 rows/sec  20.018589          23   \n",
       "6    2016-05-03 10:51:38   3.710 sec  700029 rows/sec  20.018589          23   \n",
       "\n",
       "   samples  training_MSE  training_r2  training_logloss  training_AUC  \\\n",
       "0        0           NaN          NaN               NaN           NaN   \n",
       "1    99992      0.143602     0.049866          0.457001      0.665048   \n",
       "2   699938      0.143460     0.050810          0.456577      0.667244   \n",
       "3  1400079      0.150780     0.002375          0.486599      0.674257   \n",
       "4  2200355      0.144177     0.046065          0.455084      0.676124   \n",
       "5  2300296      0.143916     0.047794          0.460532      0.676903   \n",
       "6  2300296      0.150780     0.002375          0.486599      0.674257   \n",
       "\n",
       "   training_lift  training_classification_error  validation_MSE  \\\n",
       "0            NaN                            NaN             NaN   \n",
       "1       2.558203                       0.351841        0.143185   \n",
       "2       2.721493                       0.363875        0.142990   \n",
       "3       2.667063                       0.408879        0.150563   \n",
       "4       2.939212                       0.344357        0.144628   \n",
       "5       3.048072                       0.375607        0.144099   \n",
       "6       2.667063                       0.408879        0.150563   \n",
       "\n",
       "   validation_r2  validation_logloss  validation_AUC  validation_lift  \\\n",
       "0            NaN                 NaN             NaN              NaN   \n",
       "1       0.051933            0.455546        0.668156         2.663807   \n",
       "2       0.053225            0.455240        0.671613         2.663807   \n",
       "3       0.003085            0.486139        0.677053         2.311568   \n",
       "4       0.042382            0.456287        0.676181         2.641792   \n",
       "5       0.045880            0.461880        0.675448         2.729852   \n",
       "6       0.003085            0.486139        0.677053         2.311568   \n",
       "\n",
       "   validation_classification_error  \n",
       "0                              NaN  \n",
       "1                         0.345743  \n",
       "2                         0.358356  \n",
       "3                         0.363785  \n",
       "4                         0.357376  \n",
       "5                         0.340926  \n",
       "6                         0.363785  "
      ]
     },
     "execution_count": 40,
     "metadata": {},
     "output_type": "execute_result"
    }
   ],
   "source": [
    "dl_fit3.scoring_history()"
   ]
  },
  {
   "cell_type": "markdown",
   "metadata": {},
   "source": [
    "## 4. Naive Bayes\n",
    "\n",
    "The Naive Bayes (NB) algorithm does not usually beat an algorithm like a Random Forest or GBM, however it is still a popular algorithm, especially in the text domain (when your input is text encoded as \"Bag of Words\", for example).  The Naive Bayes algorithm is for binary or multiclass classification problems only, not regression.  Therefore, your response must be a factor instead of numeric. "
   ]
  },
  {
   "cell_type": "code",
   "execution_count": 41,
   "metadata": {
    "collapsed": true
   },
   "outputs": [],
   "source": [
    "# Import H2O NB:\n",
    "from h2o.estimators.naive_bayes import H2ONaiveBayesEstimator"
   ]
  },
  {
   "cell_type": "markdown",
   "metadata": {},
   "source": [
    "### Train a default NB\n",
    "\n",
    "First we will train a basic NB model with default parameters. "
   ]
  },
  {
   "cell_type": "code",
   "execution_count": 42,
   "metadata": {
    "collapsed": false
   },
   "outputs": [
    {
     "name": "stdout",
     "output_type": "stream",
     "text": [
      "\n",
      "naivebayes Model Build Progress: [##################################################] 100%\n"
     ]
    }
   ],
   "source": [
    "# Initialize and train the NB estimator:\n",
    "\n",
    "nb_fit1 = H2ONaiveBayesEstimator(model_id='nb_fit1')\n",
    "nb_fit1.train(x=x, y=y, training_frame=train)"
   ]
  },
  {
   "cell_type": "markdown",
   "metadata": {},
   "source": [
    "### Train a NB model with Laplace Smoothing\n",
    "\n",
    "One of the few tunable model parameters for the Naive Bayes algorithm is the amount of Laplace smoothing.  The H2O Naive Bayes model will not use any Laplace smoothing by default."
   ]
  },
  {
   "cell_type": "code",
   "execution_count": 43,
   "metadata": {
    "collapsed": false
   },
   "outputs": [
    {
     "name": "stdout",
     "output_type": "stream",
     "text": [
      "\n",
      "naivebayes Model Build Progress: [##################################################] 100%\n"
     ]
    }
   ],
   "source": [
    "nb_fit2 = H2ONaiveBayesEstimator(model_id='nb_fit2', laplace=6)\n",
    "nb_fit2.train(x=x, y=y, training_frame=train)"
   ]
  },
  {
   "cell_type": "markdown",
   "metadata": {},
   "source": [
    "### Compare model performance\n",
    "\n",
    "We will compare the model performance of the two NB models using test set AUC."
   ]
  },
  {
   "cell_type": "code",
   "execution_count": 44,
   "metadata": {
    "collapsed": true
   },
   "outputs": [],
   "source": [
    "nb_perf1 = nb_fit1.model_performance(test)\n",
    "nb_perf2 = nb_fit2.model_performance(test)"
   ]
  },
  {
   "cell_type": "code",
   "execution_count": 45,
   "metadata": {
    "collapsed": false
   },
   "outputs": [
    {
     "name": "stdout",
     "output_type": "stream",
     "text": [
      "0.651356759779\n",
      "0.651421140603\n"
     ]
    }
   ],
   "source": [
    "# Retreive test set AUC\n",
    "print nb_perf1.auc()\n",
    "print nb_perf2.auc()"
   ]
  },
  {
   "cell_type": "code",
   "execution_count": 46,
   "metadata": {
    "collapsed": true
   },
   "outputs": [],
   "source": [
    "h2o.shutdown(prompt=False)"
   ]
  }
 ],
 "metadata": {
  "anaconda-cloud": {},
  "kernelspec": {
   "display_name": "Python [default]",
   "language": "python",
   "name": "python3"
  },
  "language_info": {
   "codemirror_mode": {
    "name": "ipython",
    "version": 3
   },
   "file_extension": ".py",
   "mimetype": "text/x-python",
   "name": "python",
   "nbconvert_exporter": "python",
   "pygments_lexer": "ipython3",
   "version": "3.5.2"
  }
 },
 "nbformat": 4,
 "nbformat_minor": 0
}
